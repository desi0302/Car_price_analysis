{
  "cells": [
    {
      "cell_type": "markdown",
      "metadata": {
        "id": "0aStgWSO0E0E"
      },
      "source": [
        "# **CAR PRICE ANALYSIS**"
      ]
    },
    {
      "cell_type": "markdown",
      "metadata": {
        "id": "1eLEkw5O0ECa"
      },
      "source": [
        "## Objectives\n",
        "\n",
        "The purpose of this notebook is to complete the ETL process and prepare dataset for analysis. The ETL pipeline steps include:\n",
        "* Extract: load data from the dataset file\n",
        "* Transform: clean the data, handle missing values, encode categorical variables, and create new features\n",
        "* Load: store the transformed data in a format suitable for analysis\n",
        "\n",
        "## Inputs\n",
        "\n",
        "* The dataset for the current project is available for downloading at https://www.google.com/url?q=https://www.kaggle.com/datasets/hellbuoy/car-price-prediction&sa=D&source=editors&ust=1754747316598878&usg=AOvVaw3o_SpPOPPmvKaepESDsnOq\n",
        "\n",
        "## Outputs\n",
        "\n",
        "* Cleaned dataset file\n",
        "* ETL Jupiter notebook documenting ETL proccesses\n",
        "\n",
        "\n",
        "## Additional Comments\n",
        "\n",
        "* No additional comments\n",
        "\n"
      ]
    },
    {
      "cell_type": "markdown",
      "metadata": {
        "id": "9uWZXH9LwoQg"
      },
      "source": [
        "---"
      ]
    },
    {
      "cell_type": "markdown",
      "metadata": {
        "id": "cqP-UeN-z3i2"
      },
      "source": [
        "# Change working directory"
      ]
    },
    {
      "cell_type": "markdown",
      "metadata": {},
      "source": [
        "* We are assuming you will store the notebooks in a subfolder, therefore when running the notebook in the editor, you will need to change the working directory"
      ]
    },
    {
      "cell_type": "markdown",
      "metadata": {
        "id": "aOGIGS-uz3i2"
      },
      "source": [
        "We need to change the working directory from its current folder to its parent folder\n",
        "* We access the current directory with os.getcwd()"
      ]
    },
    {
      "cell_type": "code",
      "execution_count": 2,
      "metadata": {
        "id": "wZfF_j-Bz3i4",
        "outputId": "66943449-1436-4c3d-85c7-b85f9f78349b"
      },
      "outputs": [
        {
          "data": {
            "text/plain": [
              "'d:\\\\vscode-projects\\\\Projects\\\\Car_price_analysis\\\\jupyter_notebooks'"
            ]
          },
          "execution_count": 2,
          "metadata": {},
          "output_type": "execute_result"
        }
      ],
      "source": [
        "import os\n",
        "current_dir = os.getcwd()\n",
        "current_dir"
      ]
    },
    {
      "cell_type": "markdown",
      "metadata": {
        "id": "9MWW8E7lz3i7"
      },
      "source": [
        "We want to make the parent of the current directory the new current directory\n",
        "* os.path.dirname() gets the parent directory\n",
        "* os.chir() defines the new current directory"
      ]
    },
    {
      "cell_type": "code",
      "execution_count": 3,
      "metadata": {
        "id": "TwHsQRWjz3i9",
        "outputId": "86849db3-cd2f-4cc5-ebb8-2d0caafa1a2c"
      },
      "outputs": [
        {
          "name": "stdout",
          "output_type": "stream",
          "text": [
            "You set a new current directory\n"
          ]
        }
      ],
      "source": [
        "os.chdir(os.path.dirname(current_dir))\n",
        "print(\"You set a new current directory\")"
      ]
    },
    {
      "cell_type": "markdown",
      "metadata": {
        "id": "M_xPk_Ijz3i-"
      },
      "source": [
        "Confirm the new current directory"
      ]
    },
    {
      "cell_type": "code",
      "execution_count": 4,
      "metadata": {
        "id": "vz3S-_kjz3jA",
        "outputId": "00b79ae4-75d0-4a96-d193-ac9ef9847ea2"
      },
      "outputs": [
        {
          "data": {
            "text/plain": [
              "'d:\\\\vscode-projects\\\\Projects\\\\Car_price_analysis'"
            ]
          },
          "execution_count": 4,
          "metadata": {},
          "output_type": "execute_result"
        }
      ],
      "source": [
        "current_dir = os.getcwd()\n",
        "current_dir"
      ]
    },
    {
      "cell_type": "markdown",
      "metadata": {
        "id": "-mavJ8DibrcQ"
      },
      "source": [
        "# Setup"
      ]
    },
    {
      "cell_type": "markdown",
      "metadata": {},
      "source": [
        "- Environment setup/Importing necessary libraries:"
      ]
    },
    {
      "cell_type": "code",
      "execution_count": 5,
      "metadata": {},
      "outputs": [],
      "source": [
        "import pandas as pd\n",
        "import numpy as np\n",
        "import seaborn as sns\n",
        "import matplotlib.pyplot as plt\n"
      ]
    },
    {
      "cell_type": "markdown",
      "metadata": {
        "id": "ZY3l0-AxO93d"
      },
      "source": [
        "---"
      ]
    },
    {
      "cell_type": "markdown",
      "metadata": {},
      "source": [
        "- Load data:"
      ]
    },
    {
      "cell_type": "code",
      "execution_count": 6,
      "metadata": {},
      "outputs": [],
      "source": [
        "df = pd.read_csv('D:\\\\vscode-projects\\\\Projects\\\\Car_price_analysis\\\\Dataset\\\\raw\\\\cars.csv')"
      ]
    },
    {
      "cell_type": "markdown",
      "metadata": {
        "id": "uFQo3ycuO-v6"
      },
      "source": [
        "# Cleaning "
      ]
    },
    {
      "cell_type": "markdown",
      "metadata": {},
      "source": [
        "- Initial data inspection:"
      ]
    },
    {
      "cell_type": "code",
      "execution_count": null,
      "metadata": {},
      "outputs": [
        {
          "data": {
            "text/plain": [
              "(205, 27)"
            ]
          },
          "execution_count": 28,
          "metadata": {},
          "output_type": "execute_result"
        }
      ],
      "source": [
        "df.head(5) # Display first 5 rows of the dataset"
      ]
    },
    {
      "cell_type": "markdown",
      "metadata": {},
      "source": [
        "- Check structure and data types:"
      ]
    },
    {
      "cell_type": "code",
      "execution_count": 8,
      "metadata": {},
      "outputs": [
        {
          "name": "stdout",
          "output_type": "stream",
          "text": [
            "<class 'pandas.core.frame.DataFrame'>\n",
            "RangeIndex: 205 entries, 0 to 204\n",
            "Data columns (total 26 columns):\n",
            " #   Column            Non-Null Count  Dtype  \n",
            "---  ------            --------------  -----  \n",
            " 0   car_ID            205 non-null    int64  \n",
            " 1   symboling         205 non-null    int64  \n",
            " 2   CarName           205 non-null    object \n",
            " 3   fueltype          205 non-null    object \n",
            " 4   aspiration        205 non-null    object \n",
            " 5   doornumber        205 non-null    object \n",
            " 6   carbody           205 non-null    object \n",
            " 7   drivewheel        205 non-null    object \n",
            " 8   enginelocation    205 non-null    object \n",
            " 9   wheelbase         205 non-null    float64\n",
            " 10  carlength         205 non-null    float64\n",
            " 11  carwidth          205 non-null    float64\n",
            " 12  carheight         205 non-null    float64\n",
            " 13  curbweight        205 non-null    int64  \n",
            " 14  enginetype        205 non-null    object \n",
            " 15  cylindernumber    205 non-null    object \n",
            " 16  enginesize        205 non-null    int64  \n",
            " 17  fuelsystem        205 non-null    object \n",
            " 18  boreratio         205 non-null    float64\n",
            " 19  stroke            205 non-null    float64\n",
            " 20  compressionratio  205 non-null    float64\n",
            " 21  horsepower        205 non-null    int64  \n",
            " 22  peakrpm           205 non-null    int64  \n",
            " 23  citympg           205 non-null    int64  \n",
            " 24  highwaympg        205 non-null    int64  \n",
            " 25  price             205 non-null    float64\n",
            "dtypes: float64(8), int64(8), object(10)\n",
            "memory usage: 41.8+ KB\n"
          ]
        }
      ],
      "source": [
        "df.info() # Display information about the DataFrame"
      ]
    },
    {
      "cell_type": "markdown",
      "metadata": {},
      "source": [
        "- Basic summary stratistics:"
      ]
    },
    {
      "cell_type": "code",
      "execution_count": 9,
      "metadata": {},
      "outputs": [
        {
          "data": {
            "text/html": [
              "<div>\n",
              "<style scoped>\n",
              "    .dataframe tbody tr th:only-of-type {\n",
              "        vertical-align: middle;\n",
              "    }\n",
              "\n",
              "    .dataframe tbody tr th {\n",
              "        vertical-align: top;\n",
              "    }\n",
              "\n",
              "    .dataframe thead th {\n",
              "        text-align: right;\n",
              "    }\n",
              "</style>\n",
              "<table border=\"1\" class=\"dataframe\">\n",
              "  <thead>\n",
              "    <tr style=\"text-align: right;\">\n",
              "      <th></th>\n",
              "      <th>car_ID</th>\n",
              "      <th>symboling</th>\n",
              "      <th>wheelbase</th>\n",
              "      <th>carlength</th>\n",
              "      <th>carwidth</th>\n",
              "      <th>carheight</th>\n",
              "      <th>curbweight</th>\n",
              "      <th>enginesize</th>\n",
              "      <th>boreratio</th>\n",
              "      <th>stroke</th>\n",
              "      <th>compressionratio</th>\n",
              "      <th>horsepower</th>\n",
              "      <th>peakrpm</th>\n",
              "      <th>citympg</th>\n",
              "      <th>highwaympg</th>\n",
              "      <th>price</th>\n",
              "    </tr>\n",
              "  </thead>\n",
              "  <tbody>\n",
              "    <tr>\n",
              "      <th>count</th>\n",
              "      <td>205.000000</td>\n",
              "      <td>205.000000</td>\n",
              "      <td>205.000000</td>\n",
              "      <td>205.000000</td>\n",
              "      <td>205.000000</td>\n",
              "      <td>205.000000</td>\n",
              "      <td>205.000000</td>\n",
              "      <td>205.000000</td>\n",
              "      <td>205.000000</td>\n",
              "      <td>205.000000</td>\n",
              "      <td>205.000000</td>\n",
              "      <td>205.000000</td>\n",
              "      <td>205.000000</td>\n",
              "      <td>205.000000</td>\n",
              "      <td>205.000000</td>\n",
              "      <td>205.000000</td>\n",
              "    </tr>\n",
              "    <tr>\n",
              "      <th>mean</th>\n",
              "      <td>103.000000</td>\n",
              "      <td>0.834146</td>\n",
              "      <td>98.756585</td>\n",
              "      <td>174.049268</td>\n",
              "      <td>65.907805</td>\n",
              "      <td>53.724878</td>\n",
              "      <td>2555.565854</td>\n",
              "      <td>126.907317</td>\n",
              "      <td>3.329756</td>\n",
              "      <td>3.255415</td>\n",
              "      <td>10.142537</td>\n",
              "      <td>104.117073</td>\n",
              "      <td>5125.121951</td>\n",
              "      <td>25.219512</td>\n",
              "      <td>30.751220</td>\n",
              "      <td>13276.710571</td>\n",
              "    </tr>\n",
              "    <tr>\n",
              "      <th>std</th>\n",
              "      <td>59.322565</td>\n",
              "      <td>1.245307</td>\n",
              "      <td>6.021776</td>\n",
              "      <td>12.337289</td>\n",
              "      <td>2.145204</td>\n",
              "      <td>2.443522</td>\n",
              "      <td>520.680204</td>\n",
              "      <td>41.642693</td>\n",
              "      <td>0.270844</td>\n",
              "      <td>0.313597</td>\n",
              "      <td>3.972040</td>\n",
              "      <td>39.544167</td>\n",
              "      <td>476.985643</td>\n",
              "      <td>6.542142</td>\n",
              "      <td>6.886443</td>\n",
              "      <td>7988.852332</td>\n",
              "    </tr>\n",
              "    <tr>\n",
              "      <th>min</th>\n",
              "      <td>1.000000</td>\n",
              "      <td>-2.000000</td>\n",
              "      <td>86.600000</td>\n",
              "      <td>141.100000</td>\n",
              "      <td>60.300000</td>\n",
              "      <td>47.800000</td>\n",
              "      <td>1488.000000</td>\n",
              "      <td>61.000000</td>\n",
              "      <td>2.540000</td>\n",
              "      <td>2.070000</td>\n",
              "      <td>7.000000</td>\n",
              "      <td>48.000000</td>\n",
              "      <td>4150.000000</td>\n",
              "      <td>13.000000</td>\n",
              "      <td>16.000000</td>\n",
              "      <td>5118.000000</td>\n",
              "    </tr>\n",
              "    <tr>\n",
              "      <th>25%</th>\n",
              "      <td>52.000000</td>\n",
              "      <td>0.000000</td>\n",
              "      <td>94.500000</td>\n",
              "      <td>166.300000</td>\n",
              "      <td>64.100000</td>\n",
              "      <td>52.000000</td>\n",
              "      <td>2145.000000</td>\n",
              "      <td>97.000000</td>\n",
              "      <td>3.150000</td>\n",
              "      <td>3.110000</td>\n",
              "      <td>8.600000</td>\n",
              "      <td>70.000000</td>\n",
              "      <td>4800.000000</td>\n",
              "      <td>19.000000</td>\n",
              "      <td>25.000000</td>\n",
              "      <td>7788.000000</td>\n",
              "    </tr>\n",
              "    <tr>\n",
              "      <th>50%</th>\n",
              "      <td>103.000000</td>\n",
              "      <td>1.000000</td>\n",
              "      <td>97.000000</td>\n",
              "      <td>173.200000</td>\n",
              "      <td>65.500000</td>\n",
              "      <td>54.100000</td>\n",
              "      <td>2414.000000</td>\n",
              "      <td>120.000000</td>\n",
              "      <td>3.310000</td>\n",
              "      <td>3.290000</td>\n",
              "      <td>9.000000</td>\n",
              "      <td>95.000000</td>\n",
              "      <td>5200.000000</td>\n",
              "      <td>24.000000</td>\n",
              "      <td>30.000000</td>\n",
              "      <td>10295.000000</td>\n",
              "    </tr>\n",
              "    <tr>\n",
              "      <th>75%</th>\n",
              "      <td>154.000000</td>\n",
              "      <td>2.000000</td>\n",
              "      <td>102.400000</td>\n",
              "      <td>183.100000</td>\n",
              "      <td>66.900000</td>\n",
              "      <td>55.500000</td>\n",
              "      <td>2935.000000</td>\n",
              "      <td>141.000000</td>\n",
              "      <td>3.580000</td>\n",
              "      <td>3.410000</td>\n",
              "      <td>9.400000</td>\n",
              "      <td>116.000000</td>\n",
              "      <td>5500.000000</td>\n",
              "      <td>30.000000</td>\n",
              "      <td>34.000000</td>\n",
              "      <td>16503.000000</td>\n",
              "    </tr>\n",
              "    <tr>\n",
              "      <th>max</th>\n",
              "      <td>205.000000</td>\n",
              "      <td>3.000000</td>\n",
              "      <td>120.900000</td>\n",
              "      <td>208.100000</td>\n",
              "      <td>72.300000</td>\n",
              "      <td>59.800000</td>\n",
              "      <td>4066.000000</td>\n",
              "      <td>326.000000</td>\n",
              "      <td>3.940000</td>\n",
              "      <td>4.170000</td>\n",
              "      <td>23.000000</td>\n",
              "      <td>288.000000</td>\n",
              "      <td>6600.000000</td>\n",
              "      <td>49.000000</td>\n",
              "      <td>54.000000</td>\n",
              "      <td>45400.000000</td>\n",
              "    </tr>\n",
              "  </tbody>\n",
              "</table>\n",
              "</div>"
            ],
            "text/plain": [
              "           car_ID   symboling   wheelbase   carlength    carwidth   carheight  \\\n",
              "count  205.000000  205.000000  205.000000  205.000000  205.000000  205.000000   \n",
              "mean   103.000000    0.834146   98.756585  174.049268   65.907805   53.724878   \n",
              "std     59.322565    1.245307    6.021776   12.337289    2.145204    2.443522   \n",
              "min      1.000000   -2.000000   86.600000  141.100000   60.300000   47.800000   \n",
              "25%     52.000000    0.000000   94.500000  166.300000   64.100000   52.000000   \n",
              "50%    103.000000    1.000000   97.000000  173.200000   65.500000   54.100000   \n",
              "75%    154.000000    2.000000  102.400000  183.100000   66.900000   55.500000   \n",
              "max    205.000000    3.000000  120.900000  208.100000   72.300000   59.800000   \n",
              "\n",
              "        curbweight  enginesize   boreratio      stroke  compressionratio  \\\n",
              "count   205.000000  205.000000  205.000000  205.000000        205.000000   \n",
              "mean   2555.565854  126.907317    3.329756    3.255415         10.142537   \n",
              "std     520.680204   41.642693    0.270844    0.313597          3.972040   \n",
              "min    1488.000000   61.000000    2.540000    2.070000          7.000000   \n",
              "25%    2145.000000   97.000000    3.150000    3.110000          8.600000   \n",
              "50%    2414.000000  120.000000    3.310000    3.290000          9.000000   \n",
              "75%    2935.000000  141.000000    3.580000    3.410000          9.400000   \n",
              "max    4066.000000  326.000000    3.940000    4.170000         23.000000   \n",
              "\n",
              "       horsepower      peakrpm     citympg  highwaympg         price  \n",
              "count  205.000000   205.000000  205.000000  205.000000    205.000000  \n",
              "mean   104.117073  5125.121951   25.219512   30.751220  13276.710571  \n",
              "std     39.544167   476.985643    6.542142    6.886443   7988.852332  \n",
              "min     48.000000  4150.000000   13.000000   16.000000   5118.000000  \n",
              "25%     70.000000  4800.000000   19.000000   25.000000   7788.000000  \n",
              "50%     95.000000  5200.000000   24.000000   30.000000  10295.000000  \n",
              "75%    116.000000  5500.000000   30.000000   34.000000  16503.000000  \n",
              "max    288.000000  6600.000000   49.000000   54.000000  45400.000000  "
            ]
          },
          "execution_count": 9,
          "metadata": {},
          "output_type": "execute_result"
        }
      ],
      "source": [
        "df.describe() # Display statistical information about the DataFrame"
      ]
    },
    {
      "cell_type": "markdown",
      "metadata": {},
      "source": [
        "- List column names for inspection and transformation"
      ]
    },
    {
      "cell_type": "code",
      "execution_count": 10,
      "metadata": {},
      "outputs": [
        {
          "data": {
            "text/plain": [
              "Index(['car_ID', 'symboling', 'CarName', 'fueltype', 'aspiration',\n",
              "       'doornumber', 'carbody', 'drivewheel', 'enginelocation', 'wheelbase',\n",
              "       'carlength', 'carwidth', 'carheight', 'curbweight', 'enginetype',\n",
              "       'cylindernumber', 'enginesize', 'fuelsystem', 'boreratio', 'stroke',\n",
              "       'compressionratio', 'horsepower', 'peakrpm', 'citympg', 'highwaympg',\n",
              "       'price'],\n",
              "      dtype='object')"
            ]
          },
          "execution_count": 10,
          "metadata": {},
          "output_type": "execute_result"
        }
      ],
      "source": [
        "df.columns # Display the columns of the DataFrame"
      ]
    },
    {
      "cell_type": "code",
      "execution_count": 11,
      "metadata": {},
      "outputs": [
        {
          "data": {
            "text/html": [
              "<div>\n",
              "<style scoped>\n",
              "    .dataframe tbody tr th:only-of-type {\n",
              "        vertical-align: middle;\n",
              "    }\n",
              "\n",
              "    .dataframe tbody tr th {\n",
              "        vertical-align: top;\n",
              "    }\n",
              "\n",
              "    .dataframe thead th {\n",
              "        text-align: right;\n",
              "    }\n",
              "</style>\n",
              "<table border=\"1\" class=\"dataframe\">\n",
              "  <thead>\n",
              "    <tr style=\"text-align: right;\">\n",
              "      <th></th>\n",
              "      <th>car_id</th>\n",
              "      <th>symboling</th>\n",
              "      <th>car_name</th>\n",
              "      <th>fuel_type</th>\n",
              "      <th>aspiration</th>\n",
              "      <th>door_number</th>\n",
              "      <th>car_body</th>\n",
              "      <th>drive_wheel</th>\n",
              "      <th>engine_location</th>\n",
              "      <th>wheel_base</th>\n",
              "      <th>...</th>\n",
              "      <th>engine_size</th>\n",
              "      <th>fuel_system</th>\n",
              "      <th>bore_ratio</th>\n",
              "      <th>stroke</th>\n",
              "      <th>compression_ratio</th>\n",
              "      <th>horse_power</th>\n",
              "      <th>peak_rpm</th>\n",
              "      <th>city_mpg</th>\n",
              "      <th>highway_mpg</th>\n",
              "      <th>price</th>\n",
              "    </tr>\n",
              "  </thead>\n",
              "  <tbody>\n",
              "    <tr>\n",
              "      <th>0</th>\n",
              "      <td>1</td>\n",
              "      <td>3</td>\n",
              "      <td>alfa-romero giulia</td>\n",
              "      <td>gas</td>\n",
              "      <td>std</td>\n",
              "      <td>two</td>\n",
              "      <td>convertible</td>\n",
              "      <td>rwd</td>\n",
              "      <td>front</td>\n",
              "      <td>88.6</td>\n",
              "      <td>...</td>\n",
              "      <td>130</td>\n",
              "      <td>mpfi</td>\n",
              "      <td>3.47</td>\n",
              "      <td>2.68</td>\n",
              "      <td>9.0</td>\n",
              "      <td>111</td>\n",
              "      <td>5000</td>\n",
              "      <td>21</td>\n",
              "      <td>27</td>\n",
              "      <td>13495.0</td>\n",
              "    </tr>\n",
              "    <tr>\n",
              "      <th>1</th>\n",
              "      <td>2</td>\n",
              "      <td>3</td>\n",
              "      <td>alfa-romero stelvio</td>\n",
              "      <td>gas</td>\n",
              "      <td>std</td>\n",
              "      <td>two</td>\n",
              "      <td>convertible</td>\n",
              "      <td>rwd</td>\n",
              "      <td>front</td>\n",
              "      <td>88.6</td>\n",
              "      <td>...</td>\n",
              "      <td>130</td>\n",
              "      <td>mpfi</td>\n",
              "      <td>3.47</td>\n",
              "      <td>2.68</td>\n",
              "      <td>9.0</td>\n",
              "      <td>111</td>\n",
              "      <td>5000</td>\n",
              "      <td>21</td>\n",
              "      <td>27</td>\n",
              "      <td>16500.0</td>\n",
              "    </tr>\n",
              "    <tr>\n",
              "      <th>2</th>\n",
              "      <td>3</td>\n",
              "      <td>1</td>\n",
              "      <td>alfa-romero Quadrifoglio</td>\n",
              "      <td>gas</td>\n",
              "      <td>std</td>\n",
              "      <td>two</td>\n",
              "      <td>hatchback</td>\n",
              "      <td>rwd</td>\n",
              "      <td>front</td>\n",
              "      <td>94.5</td>\n",
              "      <td>...</td>\n",
              "      <td>152</td>\n",
              "      <td>mpfi</td>\n",
              "      <td>2.68</td>\n",
              "      <td>3.47</td>\n",
              "      <td>9.0</td>\n",
              "      <td>154</td>\n",
              "      <td>5000</td>\n",
              "      <td>19</td>\n",
              "      <td>26</td>\n",
              "      <td>16500.0</td>\n",
              "    </tr>\n",
              "    <tr>\n",
              "      <th>3</th>\n",
              "      <td>4</td>\n",
              "      <td>2</td>\n",
              "      <td>audi 100 ls</td>\n",
              "      <td>gas</td>\n",
              "      <td>std</td>\n",
              "      <td>four</td>\n",
              "      <td>sedan</td>\n",
              "      <td>fwd</td>\n",
              "      <td>front</td>\n",
              "      <td>99.8</td>\n",
              "      <td>...</td>\n",
              "      <td>109</td>\n",
              "      <td>mpfi</td>\n",
              "      <td>3.19</td>\n",
              "      <td>3.40</td>\n",
              "      <td>10.0</td>\n",
              "      <td>102</td>\n",
              "      <td>5500</td>\n",
              "      <td>24</td>\n",
              "      <td>30</td>\n",
              "      <td>13950.0</td>\n",
              "    </tr>\n",
              "    <tr>\n",
              "      <th>4</th>\n",
              "      <td>5</td>\n",
              "      <td>2</td>\n",
              "      <td>audi 100ls</td>\n",
              "      <td>gas</td>\n",
              "      <td>std</td>\n",
              "      <td>four</td>\n",
              "      <td>sedan</td>\n",
              "      <td>4wd</td>\n",
              "      <td>front</td>\n",
              "      <td>99.4</td>\n",
              "      <td>...</td>\n",
              "      <td>136</td>\n",
              "      <td>mpfi</td>\n",
              "      <td>3.19</td>\n",
              "      <td>3.40</td>\n",
              "      <td>8.0</td>\n",
              "      <td>115</td>\n",
              "      <td>5500</td>\n",
              "      <td>18</td>\n",
              "      <td>22</td>\n",
              "      <td>17450.0</td>\n",
              "    </tr>\n",
              "  </tbody>\n",
              "</table>\n",
              "<p>5 rows × 26 columns</p>\n",
              "</div>"
            ],
            "text/plain": [
              "   car_id  symboling                  car_name fuel_type aspiration  \\\n",
              "0       1          3        alfa-romero giulia       gas        std   \n",
              "1       2          3       alfa-romero stelvio       gas        std   \n",
              "2       3          1  alfa-romero Quadrifoglio       gas        std   \n",
              "3       4          2               audi 100 ls       gas        std   \n",
              "4       5          2                audi 100ls       gas        std   \n",
              "\n",
              "  door_number     car_body drive_wheel engine_location  wheel_base  ...  \\\n",
              "0         two  convertible         rwd           front        88.6  ...   \n",
              "1         two  convertible         rwd           front        88.6  ...   \n",
              "2         two    hatchback         rwd           front        94.5  ...   \n",
              "3        four        sedan         fwd           front        99.8  ...   \n",
              "4        four        sedan         4wd           front        99.4  ...   \n",
              "\n",
              "   engine_size  fuel_system  bore_ratio  stroke compression_ratio horse_power  \\\n",
              "0          130         mpfi        3.47    2.68               9.0         111   \n",
              "1          130         mpfi        3.47    2.68               9.0         111   \n",
              "2          152         mpfi        2.68    3.47               9.0         154   \n",
              "3          109         mpfi        3.19    3.40              10.0         102   \n",
              "4          136         mpfi        3.19    3.40               8.0         115   \n",
              "\n",
              "   peak_rpm city_mpg  highway_mpg    price  \n",
              "0      5000       21           27  13495.0  \n",
              "1      5000       21           27  16500.0  \n",
              "2      5000       19           26  16500.0  \n",
              "3      5500       24           30  13950.0  \n",
              "4      5500       18           22  17450.0  \n",
              "\n",
              "[5 rows x 26 columns]"
            ]
          },
          "execution_count": 11,
          "metadata": {},
          "output_type": "execute_result"
        }
      ],
      "source": [
        "# Renaming some of the  columns for better readability\n",
        "df.rename(columns={\n",
        "    'car_ID': 'car_id',\n",
        "    'CarName':'car_name',\n",
        "    'fueltype':'fuel_type',\n",
        "    'doornumber':'door_number',\n",
        "    'carbody': 'car_body',\n",
        "    'drivewheel': 'drive_wheel',\n",
        "    'enginelocation': 'engine_location',\n",
        "    'wheelbase':'wheel_base',\n",
        "    'carlength': 'car_length',\n",
        "    'carwidth': 'car_width',\n",
        "    'carheight': 'car_height',\n",
        "    'curbweight': 'curb_weight',\n",
        "    'enginetype': 'engine_type',\n",
        "    'cylindernumber':'cylinder_number',\n",
        "    'enginesize': 'engine_size',\n",
        "    'fuelsystem':'fuel_system',\n",
        "    'boreratio': 'bore_ratio',\n",
        "    'compressionratio':'compression_ratio',\n",
        "    'horsepower':'horse_power',\n",
        "    'peakrpm':'peak_rpm',\n",
        "    'citympg':'city_mpg',\n",
        "    'highwaympg':'highway_mpg'\n",
        "}, inplace=True)\n",
        "df.head(5)\n"
      ]
    },
    {
      "cell_type": "markdown",
      "metadata": {},
      "source": [
        "- Check for missing values "
      ]
    },
    {
      "cell_type": "code",
      "execution_count": 12,
      "metadata": {},
      "outputs": [
        {
          "data": {
            "text/plain": [
              "car_id               0\n",
              "symboling            0\n",
              "car_name             0\n",
              "fuel_type            0\n",
              "aspiration           0\n",
              "door_number          0\n",
              "car_body             0\n",
              "drive_wheel          0\n",
              "engine_location      0\n",
              "wheel_base           0\n",
              "car_length           0\n",
              "car_width            0\n",
              "car_height           0\n",
              "curb_weight          0\n",
              "engine_type          0\n",
              "cylinder_number      0\n",
              "engine_size          0\n",
              "fuel_system          0\n",
              "bore_ratio           0\n",
              "stroke               0\n",
              "compression_ratio    0\n",
              "horse_power          0\n",
              "peak_rpm             0\n",
              "city_mpg             0\n",
              "highway_mpg          0\n",
              "price                0\n",
              "dtype: int64"
            ]
          },
          "execution_count": 12,
          "metadata": {},
          "output_type": "execute_result"
        }
      ],
      "source": [
        "df.isnull().sum() # Check for missing values in each column"
      ]
    },
    {
      "cell_type": "markdown",
      "metadata": {},
      "source": [
        "---"
      ]
    },
    {
      "cell_type": "markdown",
      "metadata": {},
      "source": [
        "- Value distribution check for column 'car_name' as some discrepencies in naming noticed"
      ]
    },
    {
      "cell_type": "code",
      "execution_count": 13,
      "metadata": {},
      "outputs": [
        {
          "name": "stdout",
          "output_type": "stream",
          "text": [
            "car_name\n",
            "toyota corona           6\n",
            "toyota corolla          6\n",
            "peugeot 504             6\n",
            "subaru dl               4\n",
            "mitsubishi mirage g4    3\n",
            "                       ..\n",
            "mazda glc 4             1\n",
            "mazda rx2 coupe         1\n",
            "maxda glc deluxe        1\n",
            "maxda rx3               1\n",
            "volvo 246               1\n",
            "Name: count, Length: 147, dtype: int64\n"
          ]
        }
      ],
      "source": [
        "\n",
        "print(df['car_name'].value_counts()) # Display the count of each unique value in the 'car_name' column\n"
      ]
    },
    {
      "cell_type": "markdown",
      "metadata": {},
      "source": [
        "- Dividing the 'car_name' column into two new columns: 'car_brand' and 'car_model'"
      ]
    },
    {
      "cell_type": "code",
      "execution_count": 14,
      "metadata": {},
      "outputs": [
        {
          "data": {
            "text/plain": [
              "brand\n",
              "toyota         31\n",
              "nissan         18\n",
              "mazda          15\n",
              "honda          13\n",
              "mitsubishi     13\n",
              "subaru         12\n",
              "peugeot        11\n",
              "volvo          11\n",
              "dodge           9\n",
              "volkswagen      9\n",
              "bmw             8\n",
              "buick           8\n",
              "audi            7\n",
              "plymouth        7\n",
              "saab            6\n",
              "isuzu           4\n",
              "porsche         4\n",
              "alfa-romero     3\n",
              "jaguar          3\n",
              "chevrolet       3\n",
              "vw              2\n",
              "maxda           2\n",
              "renault         2\n",
              "toyouta         1\n",
              "vokswagen       1\n",
              "mercury         1\n",
              "porcshce        1\n",
              "Name: count, dtype: int64"
            ]
          },
          "execution_count": 14,
          "metadata": {},
          "output_type": "execute_result"
        }
      ],
      "source": [
        "# Extracting the brand and model from car_name and displaying the count of each brand\n",
        "# The new column 'brand' will contain the first word of the car_name, which is typically the brand name.\n",
        "# The original column car_name consists of both brand and model in a single string which makes it difficult to analyze the data by brand.\n",
        "\n",
        "df['model'] = df['car_name'].str.split(n=1).str[1] \n",
        "df['brand'] = df['car_name'].str.split().str[0].str.lower() \n",
        "\n",
        "df=df.copy() # Create a copy of the DataFrame to avoid SettingWithCopyWarning\n",
        "df = df.drop(columns=['car_name']) # dropping the car_name column as it is no longer needed\n",
        "\n",
        "df['brand'].value_counts() \n"
      ]
    },
    {
      "cell_type": "markdown",
      "metadata": {},
      "source": [
        "- Correcting misspellings"
      ]
    },
    {
      "cell_type": "code",
      "execution_count": 15,
      "metadata": {},
      "outputs": [
        {
          "data": {
            "text/plain": [
              "brand\n",
              "toyota        32\n",
              "nissan        18\n",
              "mazda         17\n",
              "mitsubishi    13\n",
              "honda         13\n",
              "volkswagen    12\n",
              "subaru        12\n",
              "peugeot       11\n",
              "volvo         11\n",
              "dodge          9\n",
              "buick          8\n",
              "bmw            8\n",
              "audi           7\n",
              "plymouth       7\n",
              "saab           6\n",
              "isuzu          4\n",
              "porsche        4\n",
              "jaguar         3\n",
              "chevrolet      3\n",
              "alfa romeo     3\n",
              "renault        2\n",
              "mercury        1\n",
              "porcshce       1\n",
              "Name: count, dtype: int64"
            ]
          },
          "execution_count": 15,
          "metadata": {},
          "output_type": "execute_result"
        }
      ],
      "source": [
        "# Correcting some common misspellings in the brand names\n",
        "\n",
        "df['brand'] = df['brand'].replace({\n",
        "    'maxda': 'mazda',\n",
        "    'vokswagen': 'volkswagen',\n",
        "    'vw': 'volkswagen',\n",
        "    'toyouta': 'toyota',\n",
        "    'alfa-romero': 'alfa romeo'\n",
        "})\n",
        "df['brand'].value_counts() # Display the count of each brand after correction"
      ]
    },
    {
      "cell_type": "markdown",
      "metadata": {},
      "source": [
        "- Re-check for null values after transformations"
      ]
    },
    {
      "cell_type": "code",
      "execution_count": 16,
      "metadata": {},
      "outputs": [
        {
          "data": {
            "text/plain": [
              "car_id               0\n",
              "symboling            0\n",
              "fuel_type            0\n",
              "aspiration           0\n",
              "door_number          0\n",
              "car_body             0\n",
              "drive_wheel          0\n",
              "engine_location      0\n",
              "wheel_base           0\n",
              "car_length           0\n",
              "car_width            0\n",
              "car_height           0\n",
              "curb_weight          0\n",
              "engine_type          0\n",
              "cylinder_number      0\n",
              "engine_size          0\n",
              "fuel_system          0\n",
              "bore_ratio           0\n",
              "stroke               0\n",
              "compression_ratio    0\n",
              "horse_power          0\n",
              "peak_rpm             0\n",
              "city_mpg             0\n",
              "highway_mpg          0\n",
              "price                0\n",
              "model                2\n",
              "brand                0\n",
              "dtype: int64"
            ]
          },
          "execution_count": 16,
          "metadata": {},
          "output_type": "execute_result"
        }
      ],
      "source": [
        "df.isnull().sum() # Check for missing values in each column after renaming and correcting brand names"
      ]
    },
    {
      "cell_type": "markdown",
      "metadata": {},
      "source": [
        "- Fix null values "
      ]
    },
    {
      "cell_type": "code",
      "execution_count": 17,
      "metadata": {},
      "outputs": [],
      "source": [
        "df['model'] = df[\"model\"].fillna('unknown') # Fill missing values in the 'model' column with 'unknown'"
      ]
    },
    {
      "cell_type": "code",
      "execution_count": 18,
      "metadata": {},
      "outputs": [
        {
          "data": {
            "text/plain": [
              "0"
            ]
          },
          "execution_count": 18,
          "metadata": {},
          "output_type": "execute_result"
        }
      ],
      "source": [
        "df['model'].isnull().sum() # Check for missing values in the 'model' column after filling"
      ]
    },
    {
      "cell_type": "markdown",
      "metadata": {},
      "source": [
        "- Verify data types"
      ]
    },
    {
      "cell_type": "code",
      "execution_count": 19,
      "metadata": {},
      "outputs": [
        {
          "data": {
            "text/plain": [
              "car_id                 int64\n",
              "symboling              int64\n",
              "fuel_type             object\n",
              "aspiration            object\n",
              "door_number           object\n",
              "car_body              object\n",
              "drive_wheel           object\n",
              "engine_location       object\n",
              "wheel_base           float64\n",
              "car_length           float64\n",
              "car_width            float64\n",
              "car_height           float64\n",
              "curb_weight            int64\n",
              "engine_type           object\n",
              "cylinder_number       object\n",
              "engine_size            int64\n",
              "fuel_system           object\n",
              "bore_ratio           float64\n",
              "stroke               float64\n",
              "compression_ratio    float64\n",
              "horse_power            int64\n",
              "peak_rpm               int64\n",
              "city_mpg               int64\n",
              "highway_mpg            int64\n",
              "price                float64\n",
              "model                 object\n",
              "brand                 object\n",
              "dtype: object"
            ]
          },
          "execution_count": 19,
          "metadata": {},
          "output_type": "execute_result"
        }
      ],
      "source": [
        "df.dtypes # Display the data types of each column"
      ]
    },
    {
      "cell_type": "markdown",
      "metadata": {},
      "source": [
        "- Checking unique values in categorical columns"
      ]
    },
    {
      "cell_type": "code",
      "execution_count": 20,
      "metadata": {},
      "outputs": [
        {
          "name": "stdout",
          "output_type": "stream",
          "text": [
            "Unique values in fuel_type: (2): ['gas' 'diesel'], dtype: object\n",
            "Unique values in aspiration: (2): ['std' 'turbo'], dtype: object\n",
            "Unique values in door_number: (2): ['two' 'four'], dtype: object\n",
            "Unique values in car_body: (5): ['convertible' 'hatchback' 'sedan' 'wagon' 'hardtop'], dtype: object\n",
            "Unique values in drive_wheel: (3): ['rwd' 'fwd' '4wd'], dtype: object\n",
            "Unique values in engine_location: (2): ['front' 'rear'], dtype: object\n",
            "Unique values in engine_type: (7): ['dohc' 'ohcv' 'ohc' 'l' 'rotor' 'ohcf' 'dohcv'], dtype: object\n",
            "Unique values in cylinder_number: (7): ['four' 'six' 'five' 'three' 'twelve' 'two' 'eight'], dtype: object\n",
            "Unique values in fuel_system: (8): ['mpfi' '2bbl' 'mfi' '1bbl' 'spfi' '4bbl' 'idi' 'spdi'], dtype: object\n",
            "Unique values in brand: (23): ['alfa romeo' 'audi' 'bmw' 'chevrolet' 'dodge' 'honda' 'isuzu' 'jaguar'\n",
            " 'mazda' 'buick' 'mercury' 'mitsubishi' 'nissan' 'peugeot' 'plymouth'\n",
            " 'porsche' 'porcshce' 'renault' 'saab' 'subaru' 'toyota' 'volkswagen'\n",
            " 'volvo'], dtype: object\n",
            "Unique values in model: (142): ['giulia' 'stelvio' 'Quadrifoglio' '100 ls' '100ls' 'fox' '5000' '4000'\n",
            " '5000s (diesel)' '320i' 'x1' 'x3' 'z4' 'x4' 'x5' 'impala' 'monte carlo'\n",
            " 'vega 2300' 'rampage' 'challenger se' 'd200' 'monaco (sw)' 'colt hardtop'\n",
            " 'colt (sw)' 'coronet custom' 'dart custom' 'coronet custom (sw)' 'civic'\n",
            " 'civic cvcc' 'accord cvcc' 'accord lx' 'civic 1500 gl' 'accord'\n",
            " 'civic 1300' 'prelude' 'civic (auto)' 'MU-X' 'D-Max ' 'D-Max V-Cross'\n",
            " 'xj' 'xf' 'xk' 'rx3' 'glc deluxe' 'rx2 coupe' 'rx-4' '626' 'glc'\n",
            " 'rx-7 gs' 'glc 4' 'glc custom l' 'glc custom' 'electra 225 custom'\n",
            " 'century luxus (sw)' 'century' 'skyhawk' 'opel isuzu deluxe' 'skylark'\n",
            " 'century special' 'regal sport coupe (turbo)' 'cougar' 'mirage' 'lancer'\n",
            " 'outlander' 'g4' 'mirage g4' 'montero' 'pajero' 'versa' 'gt-r' 'rogue'\n",
            " 'latio' 'titan' 'leaf' 'juke' 'note' 'clipper' 'nv200' 'dayz' 'fuga'\n",
            " 'otti' 'teana' 'kicks' '504' '304' '504 (sw)' '604sl' '505s turbo diesel'\n",
            " 'fury iii' 'cricket' 'satellite custom (sw)' 'fury gran sedan' 'valiant'\n",
            " 'duster' 'macan' 'panamera' 'cayenne' 'boxter' '12tl' '5 gtl' '99e'\n",
            " '99le' '99gle' 'unknown' 'dl' 'brz' 'baja' 'r1' 'r2' 'trezia' 'tribeca'\n",
            " 'corona mark ii' 'corona' 'corolla 1200' 'corona hardtop'\n",
            " 'corolla 1600 (sw)' 'carina' 'mark ii' 'corolla' 'corolla liftback'\n",
            " 'celica gt liftback' 'corolla tercel' 'corona liftback' 'starlet'\n",
            " 'tercel' 'cressida' 'celica gt' 'rabbit' '1131 deluxe sedan' 'model 111'\n",
            " 'type 3' '411 (sw)' 'super beetle' 'dasher' 'rabbit custom' '145e (sw)'\n",
            " '144ea' '244dl' '245' '264gl' 'diesel' '246'], dtype: object\n"
          ]
        }
      ],
      "source": [
        "# List of categorical columns that I want to check for unique values\n",
        "columns = [\n",
        "    'fuel_type', 'aspiration', 'door_number',\n",
        "    'car_body', 'drive_wheel', 'engine_location',\n",
        "    'engine_type', 'cylinder_number', 'fuel_system',\n",
        "    'brand', 'model'\n",
        "]\n",
        "\n",
        "for col in columns:   \n",
        "    unique_vals = df[col].unique() # Get unique values in the column\n",
        "    print(f\"Unique values in {col}: ({len(unique_vals)}): {unique_vals}, dtype: {df[col].dtype}\") # Print unique values and their count for each column\n",
        "\n"
      ]
    },
    {
      "cell_type": "markdown",
      "metadata": {},
      "source": [
        "Explanation: Categorical columns do not need further transformation at this point.\n",
        "Encoding will be done later, once it is clear which values are needed for visualisation.\n",
        "The 'model' column has too many unique values (142), but the analysis will focus \n",
        "on brands, so individual model values research and validation is not necessary at the moment. "
      ]
    },
    {
      "cell_type": "markdown",
      "metadata": {},
      "source": [
        "- Summary statistics for numerical columns"
      ]
    },
    {
      "cell_type": "code",
      "execution_count": 21,
      "metadata": {},
      "outputs": [
        {
          "data": {
            "text/html": [
              "<div>\n",
              "<style scoped>\n",
              "    .dataframe tbody tr th:only-of-type {\n",
              "        vertical-align: middle;\n",
              "    }\n",
              "\n",
              "    .dataframe tbody tr th {\n",
              "        vertical-align: top;\n",
              "    }\n",
              "\n",
              "    .dataframe thead th {\n",
              "        text-align: right;\n",
              "    }\n",
              "</style>\n",
              "<table border=\"1\" class=\"dataframe\">\n",
              "  <thead>\n",
              "    <tr style=\"text-align: right;\">\n",
              "      <th></th>\n",
              "      <th>count</th>\n",
              "      <th>mean</th>\n",
              "      <th>std</th>\n",
              "      <th>min</th>\n",
              "      <th>25%</th>\n",
              "      <th>50%</th>\n",
              "      <th>75%</th>\n",
              "      <th>max</th>\n",
              "    </tr>\n",
              "  </thead>\n",
              "  <tbody>\n",
              "    <tr>\n",
              "      <th>car_id</th>\n",
              "      <td>205.0</td>\n",
              "      <td>103.000000</td>\n",
              "      <td>59.322565</td>\n",
              "      <td>1.00</td>\n",
              "      <td>52.00</td>\n",
              "      <td>103.00</td>\n",
              "      <td>154.00</td>\n",
              "      <td>205.00</td>\n",
              "    </tr>\n",
              "    <tr>\n",
              "      <th>symboling</th>\n",
              "      <td>205.0</td>\n",
              "      <td>0.834146</td>\n",
              "      <td>1.245307</td>\n",
              "      <td>-2.00</td>\n",
              "      <td>0.00</td>\n",
              "      <td>1.00</td>\n",
              "      <td>2.00</td>\n",
              "      <td>3.00</td>\n",
              "    </tr>\n",
              "    <tr>\n",
              "      <th>wheel_base</th>\n",
              "      <td>205.0</td>\n",
              "      <td>98.756585</td>\n",
              "      <td>6.021776</td>\n",
              "      <td>86.60</td>\n",
              "      <td>94.50</td>\n",
              "      <td>97.00</td>\n",
              "      <td>102.40</td>\n",
              "      <td>120.90</td>\n",
              "    </tr>\n",
              "    <tr>\n",
              "      <th>car_length</th>\n",
              "      <td>205.0</td>\n",
              "      <td>174.049268</td>\n",
              "      <td>12.337289</td>\n",
              "      <td>141.10</td>\n",
              "      <td>166.30</td>\n",
              "      <td>173.20</td>\n",
              "      <td>183.10</td>\n",
              "      <td>208.10</td>\n",
              "    </tr>\n",
              "    <tr>\n",
              "      <th>car_width</th>\n",
              "      <td>205.0</td>\n",
              "      <td>65.907805</td>\n",
              "      <td>2.145204</td>\n",
              "      <td>60.30</td>\n",
              "      <td>64.10</td>\n",
              "      <td>65.50</td>\n",
              "      <td>66.90</td>\n",
              "      <td>72.30</td>\n",
              "    </tr>\n",
              "    <tr>\n",
              "      <th>car_height</th>\n",
              "      <td>205.0</td>\n",
              "      <td>53.724878</td>\n",
              "      <td>2.443522</td>\n",
              "      <td>47.80</td>\n",
              "      <td>52.00</td>\n",
              "      <td>54.10</td>\n",
              "      <td>55.50</td>\n",
              "      <td>59.80</td>\n",
              "    </tr>\n",
              "    <tr>\n",
              "      <th>curb_weight</th>\n",
              "      <td>205.0</td>\n",
              "      <td>2555.565854</td>\n",
              "      <td>520.680204</td>\n",
              "      <td>1488.00</td>\n",
              "      <td>2145.00</td>\n",
              "      <td>2414.00</td>\n",
              "      <td>2935.00</td>\n",
              "      <td>4066.00</td>\n",
              "    </tr>\n",
              "    <tr>\n",
              "      <th>engine_size</th>\n",
              "      <td>205.0</td>\n",
              "      <td>126.907317</td>\n",
              "      <td>41.642693</td>\n",
              "      <td>61.00</td>\n",
              "      <td>97.00</td>\n",
              "      <td>120.00</td>\n",
              "      <td>141.00</td>\n",
              "      <td>326.00</td>\n",
              "    </tr>\n",
              "    <tr>\n",
              "      <th>bore_ratio</th>\n",
              "      <td>205.0</td>\n",
              "      <td>3.329756</td>\n",
              "      <td>0.270844</td>\n",
              "      <td>2.54</td>\n",
              "      <td>3.15</td>\n",
              "      <td>3.31</td>\n",
              "      <td>3.58</td>\n",
              "      <td>3.94</td>\n",
              "    </tr>\n",
              "    <tr>\n",
              "      <th>stroke</th>\n",
              "      <td>205.0</td>\n",
              "      <td>3.255415</td>\n",
              "      <td>0.313597</td>\n",
              "      <td>2.07</td>\n",
              "      <td>3.11</td>\n",
              "      <td>3.29</td>\n",
              "      <td>3.41</td>\n",
              "      <td>4.17</td>\n",
              "    </tr>\n",
              "    <tr>\n",
              "      <th>compression_ratio</th>\n",
              "      <td>205.0</td>\n",
              "      <td>10.142537</td>\n",
              "      <td>3.972040</td>\n",
              "      <td>7.00</td>\n",
              "      <td>8.60</td>\n",
              "      <td>9.00</td>\n",
              "      <td>9.40</td>\n",
              "      <td>23.00</td>\n",
              "    </tr>\n",
              "    <tr>\n",
              "      <th>horse_power</th>\n",
              "      <td>205.0</td>\n",
              "      <td>104.117073</td>\n",
              "      <td>39.544167</td>\n",
              "      <td>48.00</td>\n",
              "      <td>70.00</td>\n",
              "      <td>95.00</td>\n",
              "      <td>116.00</td>\n",
              "      <td>288.00</td>\n",
              "    </tr>\n",
              "    <tr>\n",
              "      <th>peak_rpm</th>\n",
              "      <td>205.0</td>\n",
              "      <td>5125.121951</td>\n",
              "      <td>476.985643</td>\n",
              "      <td>4150.00</td>\n",
              "      <td>4800.00</td>\n",
              "      <td>5200.00</td>\n",
              "      <td>5500.00</td>\n",
              "      <td>6600.00</td>\n",
              "    </tr>\n",
              "    <tr>\n",
              "      <th>city_mpg</th>\n",
              "      <td>205.0</td>\n",
              "      <td>25.219512</td>\n",
              "      <td>6.542142</td>\n",
              "      <td>13.00</td>\n",
              "      <td>19.00</td>\n",
              "      <td>24.00</td>\n",
              "      <td>30.00</td>\n",
              "      <td>49.00</td>\n",
              "    </tr>\n",
              "    <tr>\n",
              "      <th>highway_mpg</th>\n",
              "      <td>205.0</td>\n",
              "      <td>30.751220</td>\n",
              "      <td>6.886443</td>\n",
              "      <td>16.00</td>\n",
              "      <td>25.00</td>\n",
              "      <td>30.00</td>\n",
              "      <td>34.00</td>\n",
              "      <td>54.00</td>\n",
              "    </tr>\n",
              "    <tr>\n",
              "      <th>price</th>\n",
              "      <td>205.0</td>\n",
              "      <td>13276.710571</td>\n",
              "      <td>7988.852332</td>\n",
              "      <td>5118.00</td>\n",
              "      <td>7788.00</td>\n",
              "      <td>10295.00</td>\n",
              "      <td>16503.00</td>\n",
              "      <td>45400.00</td>\n",
              "    </tr>\n",
              "  </tbody>\n",
              "</table>\n",
              "</div>"
            ],
            "text/plain": [
              "                   count          mean          std      min      25%  \\\n",
              "car_id             205.0    103.000000    59.322565     1.00    52.00   \n",
              "symboling          205.0      0.834146     1.245307    -2.00     0.00   \n",
              "wheel_base         205.0     98.756585     6.021776    86.60    94.50   \n",
              "car_length         205.0    174.049268    12.337289   141.10   166.30   \n",
              "car_width          205.0     65.907805     2.145204    60.30    64.10   \n",
              "car_height         205.0     53.724878     2.443522    47.80    52.00   \n",
              "curb_weight        205.0   2555.565854   520.680204  1488.00  2145.00   \n",
              "engine_size        205.0    126.907317    41.642693    61.00    97.00   \n",
              "bore_ratio         205.0      3.329756     0.270844     2.54     3.15   \n",
              "stroke             205.0      3.255415     0.313597     2.07     3.11   \n",
              "compression_ratio  205.0     10.142537     3.972040     7.00     8.60   \n",
              "horse_power        205.0    104.117073    39.544167    48.00    70.00   \n",
              "peak_rpm           205.0   5125.121951   476.985643  4150.00  4800.00   \n",
              "city_mpg           205.0     25.219512     6.542142    13.00    19.00   \n",
              "highway_mpg        205.0     30.751220     6.886443    16.00    25.00   \n",
              "price              205.0  13276.710571  7988.852332  5118.00  7788.00   \n",
              "\n",
              "                        50%       75%       max  \n",
              "car_id               103.00    154.00    205.00  \n",
              "symboling              1.00      2.00      3.00  \n",
              "wheel_base            97.00    102.40    120.90  \n",
              "car_length           173.20    183.10    208.10  \n",
              "car_width             65.50     66.90     72.30  \n",
              "car_height            54.10     55.50     59.80  \n",
              "curb_weight         2414.00   2935.00   4066.00  \n",
              "engine_size          120.00    141.00    326.00  \n",
              "bore_ratio             3.31      3.58      3.94  \n",
              "stroke                 3.29      3.41      4.17  \n",
              "compression_ratio      9.00      9.40     23.00  \n",
              "horse_power           95.00    116.00    288.00  \n",
              "peak_rpm            5200.00   5500.00   6600.00  \n",
              "city_mpg              24.00     30.00     49.00  \n",
              "highway_mpg           30.00     34.00     54.00  \n",
              "price              10295.00  16503.00  45400.00  "
            ]
          },
          "execution_count": 21,
          "metadata": {},
          "output_type": "execute_result"
        }
      ],
      "source": [
        "df.describe().T # Transpose for better readability - in a table format"
      ]
    },
    {
      "cell_type": "markdown",
      "metadata": {},
      "source": [
        "- Outliar detection"
      ]
    },
    {
      "cell_type": "code",
      "execution_count": 22,
      "metadata": {},
      "outputs": [
        {
          "name": "stdout",
          "output_type": "stream",
          "text": [
            "car_id: 0 outliers\n",
            "symboling: 0 outliers\n",
            "wheel_base: 3 outliers\n",
            "car_length: 1 outliers\n",
            "car_width: 8 outliers\n",
            "car_height: 0 outliers\n",
            "curb_weight: 0 outliers\n",
            "engine_size: 10 outliers\n",
            "bore_ratio: 0 outliers\n",
            "stroke: 20 outliers\n",
            "compression_ratio: 28 outliers\n",
            "horse_power: 6 outliers\n",
            "peak_rpm: 2 outliers\n",
            "city_mpg: 2 outliers\n",
            "highway_mpg: 3 outliers\n",
            "price: 15 outliers\n"
          ]
        }
      ],
      "source": [
        "# Check for outliers in all numeric columns\n",
        "\n",
        "numeric_cols = df.select_dtypes(include=np.number).columns # list of numeric columns\n",
        "\n",
        "for col in numeric_cols:\n",
        "    Q1 = df[col].quantile(0.25)\n",
        "    Q3 = df[col].quantile(0.75)\n",
        "    IQR = Q3 - Q1\n",
        "    outliers = df[(df[col] < Q1 - 1.5 * IQR) | (df[col] > Q3 + 1.5 * IQR)]\n",
        "    print(f\"{col}: {len(outliers)} outliers\")\n",
        "\n"
      ]
    },
    {
      "cell_type": "markdown",
      "metadata": {},
      "source": [
        "- Standardizing numeric columns for visualisation"
      ]
    },
    {
      "cell_type": "code",
      "execution_count": 23,
      "metadata": {},
      "outputs": [
        {
          "data": {
            "image/png": "[encoded data removed]",
            "text/plain": [
              "<Figure size 1200x600 with 1 Axes>"
            ]
          },
          "metadata": {},
          "output_type": "display_data"
        }
      ],
      "source": [
        "numeric_cols = df.select_dtypes(include=np.number).columns\n",
        "\n",
        "# Standardizing the numeric columns for better visualization\n",
        "# How far each value is from the average in terms of standard deviation.\n",
        "df_standardized = df[numeric_cols].apply(lambda x: (x - x.mean()) / x.std())\n",
        "\n",
        "plt.figure(figsize=(12, 6))\n",
        "sns.boxplot(data=df_standardized, orient=\"h\")\n",
        "plt.title(\"Standardized Boxplots of All Numeric Columns\")\n",
        "plt.xlabel(\"Standardized Value\")\n",
        "plt.show()\n"
      ]
    },
    {
      "cell_type": "markdown",
      "metadata": {},
      "source": [
        "Explanation: For the purpose of the current project, a detailed examination of the meaning and impact of all car features included in the dataset is\n",
        "beyond the present scope and will be left for future improvements. At this stage, I will focus only on columns with extreme outliers, \n",
        "which are clearly visible from the boxplot visualization—specifically, price, horse power, engine size, and stroke. This targeted approach \n",
        "ensures that the most influential and variable features are addressed, while a comprehensive feature analysis can be conducted in subsequent \n",
        "iterations of the project."
      ]
    },
    {
      "cell_type": "markdown",
      "metadata": {},
      "source": [
        "- Identify outliar values for inspection"
      ]
    },
    {
      "cell_type": "code",
      "execution_count": 24,
      "metadata": {},
      "outputs": [
        {
          "name": "stdout",
          "output_type": "stream",
          "text": [
            "       price      feature  horse_power  engine_size  stroke\n",
            "15   30760.0        price          NaN          NaN     NaN\n",
            "16   41315.0        price          NaN          NaN     NaN\n",
            "17   36880.0        price          NaN          NaN     NaN\n",
            "47   32250.0        price          NaN          NaN     NaN\n",
            "48   35550.0        price          NaN          NaN     NaN\n",
            "49   36000.0        price          NaN          NaN     NaN\n",
            "70   31600.0        price          NaN          NaN     NaN\n",
            "71   34184.0        price          NaN          NaN     NaN\n",
            "72   35056.0        price          NaN          NaN     NaN\n",
            "73   40960.0        price          NaN          NaN     NaN\n",
            "74   45400.0        price          NaN          NaN     NaN\n",
            "126  32528.0        price          NaN          NaN     NaN\n",
            "127  34028.0        price          NaN          NaN     NaN\n",
            "128  37028.0        price          NaN          NaN     NaN\n",
            "129  31400.5        price          NaN          NaN     NaN\n",
            "49       NaN  horse_power        262.0          NaN     NaN\n",
            "105      NaN  horse_power        200.0          NaN     NaN\n",
            "126      NaN  horse_power        207.0          NaN     NaN\n",
            "127      NaN  horse_power        207.0          NaN     NaN\n",
            "128      NaN  horse_power        207.0          NaN     NaN\n",
            "129      NaN  horse_power        288.0          NaN     NaN\n",
            "15       NaN  engine_size          NaN        209.0     NaN\n",
            "16       NaN  engine_size          NaN        209.0     NaN\n",
            "17       NaN  engine_size          NaN        209.0     NaN\n",
            "47       NaN  engine_size          NaN        258.0     NaN\n",
            "48       NaN  engine_size          NaN        258.0     NaN\n",
            "49       NaN  engine_size          NaN        326.0     NaN\n",
            "71       NaN  engine_size          NaN        234.0     NaN\n",
            "72       NaN  engine_size          NaN        234.0     NaN\n",
            "73       NaN  engine_size          NaN        308.0     NaN\n",
            "74       NaN  engine_size          NaN        304.0     NaN\n",
            "29       NaN       stroke          NaN          NaN    3.90\n",
            "47       NaN       stroke          NaN          NaN    4.17\n",
            "48       NaN       stroke          NaN          NaN    4.17\n",
            "111      NaN       stroke          NaN          NaN    2.19\n",
            "113      NaN       stroke          NaN          NaN    2.19\n",
            "130      NaN       stroke          NaN          NaN    3.90\n",
            "131      NaN       stroke          NaN          NaN    3.90\n",
            "134      NaN       stroke          NaN          NaN    2.07\n",
            "138      NaN       stroke          NaN          NaN    2.36\n",
            "139      NaN       stroke          NaN          NaN    2.64\n",
            "140      NaN       stroke          NaN          NaN    2.64\n",
            "141      NaN       stroke          NaN          NaN    2.64\n",
            "142      NaN       stroke          NaN          NaN    2.64\n",
            "143      NaN       stroke          NaN          NaN    2.64\n",
            "144      NaN       stroke          NaN          NaN    2.64\n",
            "145      NaN       stroke          NaN          NaN    2.64\n",
            "146      NaN       stroke          NaN          NaN    2.64\n",
            "147      NaN       stroke          NaN          NaN    2.64\n",
            "148      NaN       stroke          NaN          NaN    2.64\n",
            "149      NaN       stroke          NaN          NaN    2.64\n"
          ]
        }
      ],
      "source": [
        "outlier_cols = ['price', 'horse_power', 'engine_size', 'stroke'] # Columns to check for outliers\n",
        "outlier_tables = []\n",
        "\n",
        "for col in outlier_cols:\n",
        "    Q1 = df[col].quantile(0.25)\n",
        "    Q3 = df[col].quantile(0.75)\n",
        "    IQR = Q3 - Q1\n",
        "    outliers = df[(df[col] < Q1 - 1.5 * IQR) | (df[col] > Q3 + 1.5 * IQR)][[col]]\n",
        "    outliers['feature'] = col\n",
        "    outlier_tables.append(outliers)\n",
        "\n",
        "# Combine all outlier tables into one and inspect\n",
        "all_outliers = pd.concat(outlier_tables)\n",
        "print(all_outliers)\n"
      ]
    },
    {
      "cell_type": "markdown",
      "metadata": {},
      "source": [
        "Explanation: Outliers in 'price', 'horse_power', and 'engine_size' may represent genuine variations in car models (luxury cars, sports engines or unusually \n",
        "large engines) and are therefore kept unchanged.\n",
        "Outliers in 'stroke' may be due to rare engine designs or data entry errors.\n",
        "After reviewing these values, they appear valid and do not require correction or removal."
      ]
    },
    {
      "cell_type": "markdown",
      "metadata": {},
      "source": [
        "## Save cleaned data"
      ]
    },
    {
      "cell_type": "code",
      "execution_count": 25,
      "metadata": {},
      "outputs": [],
      "source": [
        "df.to_csv('D:/vscode-projects/Projects/Car_price_analysis/Dataset/clean/cars_clean.csv', index=False) # Save the cleaned DataFrame"
      ]
    },
    {
      "cell_type": "markdown",
      "metadata": {},
      "source": [
        "NOTES:"
      ]
    },
    {
      "cell_type": "markdown",
      "metadata": {},
      "source": [
        "* All required python packages (pandas, numpy,seaborn,matplotlib)  must be installed before running this notebook\n",
        "* Notebook cells should be run swquentially from the top to bottom to avoid errors \n",
        "* Outliars in some key features are identified but not removed as they may be valid values\n",
        "* Further feature-engineering may be needed in the second stage of visualisation\n",
        "* This analysis focus is on cleaning initial data and its exploration\n",
        "* Please refer to README file for more information"
      ]
    },
    {
      "cell_type": "markdown",
      "metadata": {},
      "source": [
        "---"
      ]
    },
    {
      "cell_type": "markdown",
      "metadata": {
        "id": "ltNetd085qHf"
      },
      "source": [
        "# Push files to Repo"
      ]
    },
    {
      "cell_type": "markdown",
      "metadata": {},
      "source": [
        "* In cases where you don't need to push files to Repo, you may replace this section with \"Conclusions and Next Steps\" and state your conclusions and next steps."
      ]
    },
    {
      "cell_type": "code",
      "execution_count": 26,
      "metadata": {
        "id": "aKlnIozA4eQO",
        "outputId": "fd09bc1f-adb1-4511-f6ce-492a6af570c0"
      },
      "outputs": [
        {
          "name": "stdout",
          "output_type": "stream",
          "text": [
            "Folder 'output' created or already exists.\n"
          ]
        }
      ],
      "source": [
        "import os\n",
        "try:\n",
        "    # Example: create a folder named 'output'\n",
        "    os.makedirs('output', exist_ok=True)\n",
        "    print(\"Folder 'output' created or already exists.\")\n",
        "except Exception as e:\n",
        "    print(e)\n"
      ]
    }
  ],
  "metadata": {
    "accelerator": "GPU",
    "colab": {
      "name": "Data Practitioner Jupyter Notebook.ipynb",
      "provenance": [],
      "toc_visible": true
    },
    "kernelspec": {
      "display_name": ".venv",
      "language": "python",
      "name": "python3"
    },
    "language_info": {
      "codemirror_mode": {
        "name": "ipython",
        "version": 3
      },
      "file_extension": ".py",
      "mimetype": "text/x-python",
      "name": "python",
      "nbconvert_exporter": "python",
      "pygments_lexer": "ipython3",
      "version": "3.12.8"
    },
    "orig_nbformat": 2
  },
  "nbformat": 4,
  "nbformat_minor": 2
}
