{
  "cells": [
    {
      "cell_type": "markdown",
      "metadata": {
        "id": "0aStgWSO0E0E"
      },
      "source": [
        "# **CAR PRICE ANALYSIS**"
      ]
    },
    {
      "cell_type": "markdown",
      "metadata": {
        "id": "1eLEkw5O0ECa"
      },
      "source": [
        "## Objectives\n",
        "\n",
        "* The purpose of this notebook is to explore and visualise the prepared dataset in order to identify trends, paterns and relationships within the data.\n",
        "*The visualisation steps are planned as follows:\n",
        "- Continue examinations of the data\n",
        "- Create charts to visualise trenda, dependencies, comparisons\n",
        "- Interpretation of the the findings\n",
        "\n",
        "## Inputs\n",
        "\n",
        "* The input file for this notebook is cars_clean.csv\n",
        "\n",
        "## Outputs\n",
        "\n",
        "* Data visualisation notebook, presenting plots and statistics\n",
        "\n",
        "## Additional Comments\n",
        "\n",
        "* No additional comments. \n",
        "\n"
      ]
    },
    {
      "cell_type": "markdown",
      "metadata": {
        "id": "9uWZXH9LwoQg"
      },
      "source": [
        "---"
      ]
    },
    {
      "cell_type": "markdown",
      "metadata": {
        "id": "cqP-UeN-z3i2"
      },
      "source": [
        "# Change working directory"
      ]
    },
    {
      "cell_type": "markdown",
      "metadata": {},
      "source": [
        "* We are assuming you will store the notebooks in a subfolder, therefore when running the notebook in the editor, you will need to change the working directory"
      ]
    },
    {
      "cell_type": "markdown",
      "metadata": {
        "id": "aOGIGS-uz3i2"
      },
      "source": [
        "We need to change the working directory from its current folder to its parent folder\n",
        "* We access the current directory with os.getcwd()"
      ]
    },
    {
      "cell_type": "code",
      "execution_count": 1,
      "metadata": {
        "id": "wZfF_j-Bz3i4",
        "outputId": "66943449-1436-4c3d-85c7-b85f9f78349b"
      },
      "outputs": [
        {
          "data": {
            "text/plain": [
              "'d:\\\\vscode-projects\\\\Projects\\\\Car_price_analysis\\\\jupyter_notebooks'"
            ]
          },
          "execution_count": 1,
          "metadata": {},
          "output_type": "execute_result"
        }
      ],
      "source": [
        "import os\n",
        "current_dir = os.getcwd()\n",
        "current_dir"
      ]
    },
    {
      "cell_type": "markdown",
      "metadata": {
        "id": "9MWW8E7lz3i7"
      },
      "source": [
        "We want to make the parent of the current directory the new current directory\n",
        "* os.path.dirname() gets the parent directory\n",
        "* os.chir() defines the new current directory"
      ]
    },
    {
      "cell_type": "code",
      "execution_count": 2,
      "metadata": {
        "id": "TwHsQRWjz3i9",
        "outputId": "86849db3-cd2f-4cc5-ebb8-2d0caafa1a2c"
      },
      "outputs": [
        {
          "name": "stdout",
          "output_type": "stream",
          "text": [
            "You set a new current directory\n"
          ]
        }
      ],
      "source": [
        "os.chdir(os.path.dirname(current_dir))\n",
        "print(\"You set a new current directory\")"
      ]
    },
    {
      "cell_type": "markdown",
      "metadata": {
        "id": "M_xPk_Ijz3i-"
      },
      "source": [
        "Confirm the new current directory"
      ]
    },
    {
      "cell_type": "code",
      "execution_count": 3,
      "metadata": {
        "id": "vz3S-_kjz3jA",
        "outputId": "00b79ae4-75d0-4a96-d193-ac9ef9847ea2"
      },
      "outputs": [
        {
          "data": {
            "text/plain": [
              "'d:\\\\vscode-projects\\\\Projects\\\\Car_price_analysis'"
            ]
          },
          "execution_count": 3,
          "metadata": {},
          "output_type": "execute_result"
        }
      ],
      "source": [
        "current_dir = os.getcwd()\n",
        "current_dir"
      ]
    },
    {
      "cell_type": "markdown",
      "metadata": {
        "id": "-mavJ8DibrcQ"
      },
      "source": [
        "# Setup"
      ]
    },
    {
      "cell_type": "markdown",
      "metadata": {},
      "source": [
        "- Environment setup/Importing necessary libraries:"
      ]
    },
    {
      "cell_type": "code",
      "execution_count": 4,
      "metadata": {},
      "outputs": [],
      "source": [
        "import pandas as pd\n",
        "import numpy as np\n",
        "import seaborn as sns\n",
        "import matplotlib.pyplot as plt\n",
        "import plotly.express as px\n"
      ]
    },
    {
      "cell_type": "markdown",
      "metadata": {},
      "source": [
        "- Initial data visualisation"
      ]
    },
    {
      "cell_type": "code",
      "execution_count": 5,
      "metadata": {},
      "outputs": [
        {
          "data": {
            "text/html": [
              "<div>\n",
              "<style scoped>\n",
              "    .dataframe tbody tr th:only-of-type {\n",
              "        vertical-align: middle;\n",
              "    }\n",
              "\n",
              "    .dataframe tbody tr th {\n",
              "        vertical-align: top;\n",
              "    }\n",
              "\n",
              "    .dataframe thead th {\n",
              "        text-align: right;\n",
              "    }\n",
              "</style>\n",
              "<table border=\"1\" class=\"dataframe\">\n",
              "  <thead>\n",
              "    <tr style=\"text-align: right;\">\n",
              "      <th></th>\n",
              "      <th>car_id</th>\n",
              "      <th>symboling</th>\n",
              "      <th>fuel_type</th>\n",
              "      <th>aspiration</th>\n",
              "      <th>door_number</th>\n",
              "      <th>car_body</th>\n",
              "      <th>drive_wheel</th>\n",
              "      <th>engine_location</th>\n",
              "      <th>wheel_base</th>\n",
              "      <th>car_length</th>\n",
              "      <th>...</th>\n",
              "      <th>bore_ratio</th>\n",
              "      <th>stroke</th>\n",
              "      <th>compression_ratio</th>\n",
              "      <th>horse_power</th>\n",
              "      <th>peak_rpm</th>\n",
              "      <th>city_mpg</th>\n",
              "      <th>highwaympg</th>\n",
              "      <th>price</th>\n",
              "      <th>brand</th>\n",
              "      <th>model</th>\n",
              "    </tr>\n",
              "  </thead>\n",
              "  <tbody>\n",
              "    <tr>\n",
              "      <th>0</th>\n",
              "      <td>1</td>\n",
              "      <td>3</td>\n",
              "      <td>gas</td>\n",
              "      <td>std</td>\n",
              "      <td>two</td>\n",
              "      <td>convertible</td>\n",
              "      <td>rwd</td>\n",
              "      <td>front</td>\n",
              "      <td>88.6</td>\n",
              "      <td>168.8</td>\n",
              "      <td>...</td>\n",
              "      <td>3.47</td>\n",
              "      <td>2.68</td>\n",
              "      <td>9.0</td>\n",
              "      <td>111</td>\n",
              "      <td>5000</td>\n",
              "      <td>21</td>\n",
              "      <td>27</td>\n",
              "      <td>13495.0</td>\n",
              "      <td>alfa romeo</td>\n",
              "      <td>giulia</td>\n",
              "    </tr>\n",
              "    <tr>\n",
              "      <th>1</th>\n",
              "      <td>2</td>\n",
              "      <td>3</td>\n",
              "      <td>gas</td>\n",
              "      <td>std</td>\n",
              "      <td>two</td>\n",
              "      <td>convertible</td>\n",
              "      <td>rwd</td>\n",
              "      <td>front</td>\n",
              "      <td>88.6</td>\n",
              "      <td>168.8</td>\n",
              "      <td>...</td>\n",
              "      <td>3.47</td>\n",
              "      <td>2.68</td>\n",
              "      <td>9.0</td>\n",
              "      <td>111</td>\n",
              "      <td>5000</td>\n",
              "      <td>21</td>\n",
              "      <td>27</td>\n",
              "      <td>16500.0</td>\n",
              "      <td>alfa romeo</td>\n",
              "      <td>stelvio</td>\n",
              "    </tr>\n",
              "    <tr>\n",
              "      <th>2</th>\n",
              "      <td>3</td>\n",
              "      <td>1</td>\n",
              "      <td>gas</td>\n",
              "      <td>std</td>\n",
              "      <td>two</td>\n",
              "      <td>hatchback</td>\n",
              "      <td>rwd</td>\n",
              "      <td>front</td>\n",
              "      <td>94.5</td>\n",
              "      <td>171.2</td>\n",
              "      <td>...</td>\n",
              "      <td>2.68</td>\n",
              "      <td>3.47</td>\n",
              "      <td>9.0</td>\n",
              "      <td>154</td>\n",
              "      <td>5000</td>\n",
              "      <td>19</td>\n",
              "      <td>26</td>\n",
              "      <td>16500.0</td>\n",
              "      <td>alfa romeo</td>\n",
              "      <td>Quadrifoglio</td>\n",
              "    </tr>\n",
              "    <tr>\n",
              "      <th>3</th>\n",
              "      <td>4</td>\n",
              "      <td>2</td>\n",
              "      <td>gas</td>\n",
              "      <td>std</td>\n",
              "      <td>four</td>\n",
              "      <td>sedan</td>\n",
              "      <td>fwd</td>\n",
              "      <td>front</td>\n",
              "      <td>99.8</td>\n",
              "      <td>176.6</td>\n",
              "      <td>...</td>\n",
              "      <td>3.19</td>\n",
              "      <td>3.40</td>\n",
              "      <td>10.0</td>\n",
              "      <td>102</td>\n",
              "      <td>5500</td>\n",
              "      <td>24</td>\n",
              "      <td>30</td>\n",
              "      <td>13950.0</td>\n",
              "      <td>audi</td>\n",
              "      <td>100 ls</td>\n",
              "    </tr>\n",
              "    <tr>\n",
              "      <th>4</th>\n",
              "      <td>5</td>\n",
              "      <td>2</td>\n",
              "      <td>gas</td>\n",
              "      <td>std</td>\n",
              "      <td>four</td>\n",
              "      <td>sedan</td>\n",
              "      <td>4wd</td>\n",
              "      <td>front</td>\n",
              "      <td>99.4</td>\n",
              "      <td>176.6</td>\n",
              "      <td>...</td>\n",
              "      <td>3.19</td>\n",
              "      <td>3.40</td>\n",
              "      <td>8.0</td>\n",
              "      <td>115</td>\n",
              "      <td>5500</td>\n",
              "      <td>18</td>\n",
              "      <td>22</td>\n",
              "      <td>17450.0</td>\n",
              "      <td>audi</td>\n",
              "      <td>100ls</td>\n",
              "    </tr>\n",
              "  </tbody>\n",
              "</table>\n",
              "<p>5 rows × 27 columns</p>\n",
              "</div>"
            ],
            "text/plain": [
              "   car_id  symboling fuel_type aspiration door_number     car_body  \\\n",
              "0       1          3       gas        std         two  convertible   \n",
              "1       2          3       gas        std         two  convertible   \n",
              "2       3          1       gas        std         two    hatchback   \n",
              "3       4          2       gas        std        four        sedan   \n",
              "4       5          2       gas        std        four        sedan   \n",
              "\n",
              "  drive_wheel engine_location  wheel_base  car_length  ...  bore_ratio  \\\n",
              "0         rwd           front        88.6       168.8  ...        3.47   \n",
              "1         rwd           front        88.6       168.8  ...        3.47   \n",
              "2         rwd           front        94.5       171.2  ...        2.68   \n",
              "3         fwd           front        99.8       176.6  ...        3.19   \n",
              "4         4wd           front        99.4       176.6  ...        3.19   \n",
              "\n",
              "   stroke  compression_ratio horse_power peak_rpm  city_mpg highwaympg  \\\n",
              "0    2.68                9.0         111     5000        21         27   \n",
              "1    2.68                9.0         111     5000        21         27   \n",
              "2    3.47                9.0         154     5000        19         26   \n",
              "3    3.40               10.0         102     5500        24         30   \n",
              "4    3.40                8.0         115     5500        18         22   \n",
              "\n",
              "     price       brand         model  \n",
              "0  13495.0  alfa romeo        giulia  \n",
              "1  16500.0  alfa romeo       stelvio  \n",
              "2  16500.0  alfa romeo  Quadrifoglio  \n",
              "3  13950.0        audi        100 ls  \n",
              "4  17450.0        audi         100ls  \n",
              "\n",
              "[5 rows x 27 columns]"
            ]
          },
          "execution_count": 5,
          "metadata": {},
          "output_type": "execute_result"
        }
      ],
      "source": [
        "df = pd.read_csv('D:/vscode-projects/test/cars_cleaned.csv') \n",
        "df.head(5)"
      ]
    },
    {
      "cell_type": "markdown",
      "metadata": {},
      "source": [
        "- Basic descriptive statistics "
      ]
    },
    {
      "cell_type": "code",
      "execution_count": null,
      "metadata": {},
      "outputs": [],
      "source": [
        "print(df.describe().T)"
      ]
    },
    {
      "cell_type": "markdown",
      "metadata": {},
      "source": [
        "## Overall price landscape"
      ]
    },
    {
      "cell_type": "code",
      "execution_count": null,
      "metadata": {},
      "outputs": [
        {
          "data": {
            "image/png": "[encoded data removed]",
            "text/plain": [
              "<Figure size 1800x500 with 2 Axes>"
            ]
          },
          "metadata": {},
          "output_type": "display_data"
        }
      ],
      "source": [
        "#Price distribution\n",
        "# Shows car price distribution, revealing right skew with most cars priced between $10k and $30k.\n",
        "\n",
        "fig, axes = plt.subplots(1, 2, figsize=(18, 5)) # 1 row, 2 columns\n",
        "\n",
        "sns.histplot(df['price'], bins=20, kde=True, color='coral', edgecolor='black', alpha=0.7, ax=axes[0])\n",
        "axes[0].set_title(\"Price distribution\", color='darkblue', fontsize=14, fontweight='bold')\n",
        "axes[0].set_xlabel(\"Price ($)\", fontsize=12)\n",
        "axes[0].set_ylabel(\"Number of cars\", fontsize=12)\n",
        "axes[0].grid(True, linestyle='--', alpha=0.4)\n",
        "\n",
        "\n",
        "# Brand Influence\n",
        "# Displays average price by brand, highlighting premium brands like Jaguar, Buick, and Porsche with higher prices.\n",
        "avg_price_brand = df.groupby('brand')['price'].mean().sort_values(ascending=False)\n",
        "\n",
        "sns.barplot(x=avg_price_brand.index, y=avg_price_brand.values, edgecolor='black', color='turquoise', ax=axes[1])\n",
        "axes[1].set_title(\"Average Price by Brand\", color='darkblue', fontsize=14, fontweight='bold')\n",
        "axes[1].set_xlabel(\"Brand\", fontsize=12)\n",
        "axes[1].set_ylabel(\"Average price ($)\", fontsize=12)\n",
        "axes[1].tick_params(axis='x', rotation=45)\n",
        "axes[1].grid(True, linestyle='--', alpha=0.4)\n",
        "\n"
      ]
    },
    {
      "cell_type": "markdown",
      "metadata": {},
      "source": [
        "# Price variations"
      ]
    },
    {
      "cell_type": "code",
      "execution_count": null,
      "metadata": {},
      "outputs": [
        {
          "data": {
            "image/png": "[encoded data removed]",
            "text/plain": [
              "<Figure size 1500x500 with 2 Axes>"
            ]
          },
          "metadata": {},
          "output_type": "display_data"
        }
      ],
      "source": [
        "# Average price by engine Location\n",
        "# Shows price differences; rear-engine cars tend to be pricier, suggesting a premium segment.\n",
        "\n",
        "plt.figure(figsize=(15, 5))\n",
        "\n",
        "plt.subplot(1, 2, 1)\n",
        "avg_price_loc = df.groupby('engine_location')['price'].mean()\n",
        "plt.bar(avg_price_loc.index, avg_price_loc.values, color='teal')\n",
        "plt.title('Average price by engine location', color='darkblue', fontsize=14, fontweight='bold')\n",
        "plt.xlabel('Engine location')\n",
        "plt.ylabel('Average price')\n",
        "\n",
        "# Average price by horsepower\n",
        "# Higher horsepower cars generally have higher prices, reflecting a performance premium.\n",
        "\n",
        "plt.subplot(1, 2, 2)\n",
        "avg_price_hp = df.groupby('horse_power')['price'].mean()\n",
        "plt.bar(avg_price_hp.index, avg_price_hp.values, color='purple')\n",
        "plt.title('Average price by horse power', color='darkblue', fontsize=14, fontweight='bold')\n",
        "plt.xlabel('Horse power')\n",
        "plt.ylabel('Average price')\n",
        "\n",
        "\n",
        "plt.tight_layout()\n",
        "plt.show()\n"
      ]
    },
    {
      "cell_type": "markdown",
      "metadata": {},
      "source": [
        "## Correlation analysis"
      ]
    },
    {
      "cell_type": "code",
      "execution_count": null,
      "metadata": {},
      "outputs": [
        {
          "data": {
            "image/png": "[encoded data removed]",
            "text/plain": [
              "<Figure size 1200x800 with 2 Axes>"
            ]
          },
          "metadata": {},
          "output_type": "display_data"
        }
      ],
      "source": [
        "# Correlation heatmap\n",
        "# Displays correlations between numerical features, highlighting strong positive links of price with horsepower and engine size.\n",
        "\n",
        "# Select numerical columns for correlation analysis\n",
        "numerical_columns = df[['symboling', 'wheel_base', 'car_length', 'car_width', 'car_height', \n",
        "                        'curb_weight', 'engine_size', 'bore_ratio', 'stroke', 'compression_ratio', \n",
        "                        'horse_power', 'peak_rpm', 'city_mpg', 'highwaympg', 'price']]\n",
        "\n",
        "correlation_matrix = numerical_columns.corr()\n",
        "\n",
        "plt.figure(figsize=(12, 8))\n",
        "sns.heatmap(\n",
        "    correlation_matrix, \n",
        "    annot=True, \n",
        "    cmap='YlOrRd', \n",
        "    fmt='.2f', \n",
        "    linewidths=0.5, \n",
        "    cbar_kws={\"shrink\": 0.8}\n",
        ")\n",
        "plt.title(\"Correlation Heatmap - Price vs Attributes\", color='darkred', fontsize=14, fontweight='bold')\n",
        "plt.show()"
      ]
    },
    {
      "cell_type": "markdown",
      "metadata": {},
      "source": [
        "The correlation heatmap shows that car price is strongly positively correlated with features like engine size, horsepower, curb weight, and car dimensions—indicating that larger, more powerful, and heavier cars tend to be more expensive. Conversely, fuel efficiency metrics (city and highway MPG) have a strong negative correlation with price, meaning more fuel-efficient cars are generally cheaper. Other features like car height and peak RPM show weak or no clear correlation with price."
      ]
    },
    {
      "cell_type": "markdown",
      "metadata": {},
      "source": [
        "## Feature impact on price"
      ]
    },
    {
      "cell_type": "code",
      "execution_count": null,
      "metadata": {},
      "outputs": [
        {
          "data": {
            "image/png": "[encoded data removed]",
            "text/plain": [
              "<Figure size 800x600 with 1 Axes>"
            ]
          },
          "metadata": {},
          "output_type": "display_data"
        }
      ],
      "source": [
        "# Correlation analysis for pricing insights\n",
        "# Identifies features strongly linked to price, guiding which to reduce to lower cost.\n",
        "               \n",
        "corr = df.corr(numeric_only=True)['price'].sort_values(ascending=False)\n",
        "\n",
        "plt.figure(figsize=(8, 6))\n",
        "sns.barplot(x=corr.values, y=corr.index, hue=corr.index, palette=\"coolwarm\", legend=False)\n",
        "plt.title(\"Correlation of Features with Price\", fontsize=14)\n",
        "plt.xlabel(\"Correlation with Price\")\n",
        "plt.ylabel(\"Features\")\n",
        "plt.show()"
      ]
    },
    {
      "cell_type": "markdown",
      "metadata": {},
      "source": [
        "Key findings:\n",
        "- Larger engines, heavier weight, and higher horsepower increase price.\n",
        "- Features like car height and peak RPM show weak correlation.\n",
        "- City and highway MPG negatively correlate, meaning more efficient cars tend to be cheaper."
      ]
    },
    {
      "cell_type": "markdown",
      "metadata": {},
      "source": [
        "## Fuel type and price distribution"
      ]
    },
    {
      "cell_type": "code",
      "execution_count": null,
      "metadata": {},
      "outputs": [
        {
          "data": {
            "application/vnd.plotly.v1+json": {
              "config": {
                "plotlyServerURL": "https://plot.ly"
              },
              "data": [
                {
                  "alignmentgroup": "True",
                  "box": {
                    "visible": true
                  },
                  "hovertemplate": "fuel_type=%{x}<br>price=%{y}<extra></extra>",
                  "legendgroup": "gas",
                  "marker": {
                    "color": "orchid"
                  },
                  "name": "gas",
                  "offsetgroup": "gas",
                  "orientation": "v",
                  "points": "all",
                  "scalegroup": "True",
                  "showlegend": true,
                  "type": "violin",
                  "x": [
                    "gas",
                    "gas",
                    "gas",
                    "gas",
                    "gas",
                    "gas",
                    "gas",
                    "gas",
                    "gas",
                    "gas",
                    "gas",
                    "gas",
                    "gas",
                    "gas",
                    "gas",
                    "gas",
                    "gas",
                    "gas",
                    "gas",
                    "gas",
                    "gas",
                    "gas",
                    "gas",
                    "gas",
                    "gas",
                    "gas",
                    "gas",
                    "gas",
                    "gas",
                    "gas",
                    "gas",
                    "gas",
                    "gas",
                    "gas",
                    "gas",
                    "gas",
                    "gas",
                    "gas",
                    "gas",
                    "gas",
                    "gas",
                    "gas",
                    "gas",
                    "gas",
                    "gas",
                    "gas",
                    "gas",
                    "gas",
                    "gas",
                    "gas",
                    "gas",
                    "gas",
                    "gas",
                    "gas",
                    "gas",
                    "gas",
                    "gas",
                    "gas",
                    "gas",
                    "gas",
                    "gas",
                    "gas",
                    "gas",
                    "gas",
                    "gas",
                    "gas",
                    "gas",
                    "gas",
                    "gas",
                    "gas",
                    "gas",
                    "gas",
                    "gas",
                    "gas",
                    "gas",
                    "gas",
                    "gas",
                    "gas",
                    "gas",
                    "gas",
                    "gas",
                    "gas",
                    "gas",
                    "gas",
                    "gas",
                    "gas",
                    "gas",
                    "gas",
                    "gas",
                    "gas",
                    "gas",
                    "gas",
                    "gas",
                    "gas",
                    "gas",
                    "gas",
                    "gas",
                    "gas",
                    "gas",
                    "gas",
                    "gas",
                    "gas",
                    "gas",
                    "gas",
                    "gas",
                    "gas",
                    "gas",
                    "gas",
                    "gas",
                    "gas",
                    "gas",
                    "gas",
                    "gas",
                    "gas",
                    "gas",
                    "gas",
                    "gas",
                    "gas",
                    "gas",
                    "gas",
                    "gas",
                    "gas",
                    "gas",
                    "gas",
                    "gas",
                    "gas",
                    "gas",
                    "gas",
                    "gas",
                    "gas",
                    "gas",
                    "gas",
                    "gas",
                    "gas",
                    "gas",
                    "gas",
                    "gas",
                    "gas",
                    "gas",
                    "gas",
                    "gas",
                    "gas",
                    "gas",
                    "gas",
                    "gas",
                    "gas",
                    "gas",
                    "gas",
                    "gas",
                    "gas",
                    "gas",
                    "gas",
                    "gas",
                    "gas",
                    "gas",
                    "gas",
                    "gas",
                    "gas",
                    "gas",
                    "gas",
                    "gas",
                    "gas",
                    "gas",
                    "gas",
                    "gas",
                    "gas",
                    "gas",
                    "gas",
                    "gas",
                    "gas",
                    "gas",
                    "gas",
                    "gas",
                    "gas",
                    "gas",
                    "gas",
                    "gas",
                    "gas",
                    "gas",
                    "gas",
                    "gas",
                    "gas",
                    "gas",
                    "gas",
                    "gas"
                  ],
                  "x0": " ",
                  "xaxis": "x",
                  "y": [
                    13495,
                    16500,
                    16500,
                    13950,
                    17450,
                    15250,
                    17710,
                    18920,
                    23875,
                    17859.167,
                    16430,
                    16925,
                    20970,
                    21105,
                    24565,
                    30760,
                    41315,
                    36880,
                    5151,
                    6295,
                    6575,
                    5572,
                    6377,
                    7957,
                    6229,
                    6692,
                    7609,
                    8558,
                    8921,
                    12964,
                    6479,
                    6855,
                    5399,
                    6529,
                    7129,
                    7295,
                    7295,
                    7895,
                    9095,
                    8845,
                    10295,
                    12945,
                    10345,
                    6785,
                    8916.5,
                    8916.5,
                    11048,
                    32250,
                    35550,
                    36000,
                    5195,
                    6095,
                    6795,
                    6695,
                    7395,
                    10945,
                    11845,
                    13645,
                    15645,
                    8845,
                    8495,
                    10595,
                    10245,
                    11245,
                    18280,
                    34184,
                    35056,
                    40960,
                    45400,
                    16503,
                    5389,
                    6189,
                    6669,
                    7689,
                    9959,
                    8499,
                    12629,
                    14869,
                    14489,
                    6989,
                    8189,
                    9279,
                    9279,
                    5499,
                    6649,
                    6849,
                    7349,
                    7299,
                    7799,
                    7499,
                    7999,
                    8249,
                    8949,
                    9549,
                    13499,
                    14399,
                    13499,
                    17199,
                    19699,
                    18399,
                    11900,
                    12440,
                    15580,
                    16695,
                    16630,
                    18150,
                    5572,
                    7957,
                    6229,
                    6692,
                    7609,
                    8921,
                    12764,
                    22018,
                    32528,
                    34028,
                    37028,
                    31400.5,
                    9295,
                    9895,
                    11850,
                    12170,
                    15040,
                    15510,
                    18150,
                    18620,
                    5118,
                    7053,
                    7603,
                    7126,
                    7775,
                    9960,
                    9233,
                    11259,
                    7463,
                    10198,
                    8013,
                    11694,
                    5348,
                    6338,
                    6488,
                    6918,
                    7898,
                    8778,
                    6938,
                    7198,
                    7738,
                    8358,
                    9258,
                    8058,
                    8238,
                    9298,
                    9538,
                    8449,
                    9639,
                    9989,
                    11199,
                    11549,
                    17669,
                    8948,
                    9988,
                    10898,
                    11248,
                    16558,
                    15998,
                    15690,
                    15750,
                    7975,
                    8195,
                    8495,
                    9995,
                    11595,
                    9980,
                    13295,
                    12290,
                    12940,
                    13415,
                    15985,
                    16515,
                    18420,
                    18950,
                    16845,
                    19045,
                    21485,
                    22625
                  ],
                  "y0": " ",
                  "yaxis": "y"
                },
                {
                  "alignmentgroup": "True",
                  "box": {
                    "visible": true
                  },
                  "hovertemplate": "fuel_type=%{x}<br>price=%{y}<extra></extra>",
                  "legendgroup": "diesel",
                  "marker": {
                    "color": "indigo"
                  },
                  "name": "diesel",
                  "offsetgroup": "diesel",
                  "orientation": "v",
                  "points": "all",
                  "scalegroup": "True",
                  "showlegend": true,
                  "type": "violin",
                  "x": [
                    "diesel",
                    "diesel",
                    "diesel",
                    "diesel",
                    "diesel",
                    "diesel",
                    "diesel",
                    "diesel",
                    "diesel",
                    "diesel",
                    "diesel",
                    "diesel",
                    "diesel",
                    "diesel",
                    "diesel",
                    "diesel",
                    "diesel",
                    "diesel",
                    "diesel",
                    "diesel"
                  ],
                  "x0": " ",
                  "xaxis": "x",
                  "y": [
                    10795,
                    18344,
                    25552,
                    28248,
                    28176,
                    31600,
                    7099,
                    13200,
                    13860,
                    16900,
                    17075,
                    17950,
                    7898,
                    7788,
                    10698,
                    7775,
                    7995,
                    9495,
                    13845,
                    22470
                  ],
                  "y0": " ",
                  "yaxis": "y"
                }
              ],
              "layout": {
                "legend": {
                  "title": {
                    "text": "fuel_type"
                  },
                  "tracegroupgap": 0
                },
                "template": {
                  "data": {
                    "bar": [
                      {
                        "error_x": {
                          "color": "#2a3f5f"
                        },
                        "error_y": {
                          "color": "#2a3f5f"
                        },
                        "marker": {
                          "line": {
                            "color": "#E5ECF6",
                            "width": 0.5
                          },
                          "pattern": {
                            "fillmode": "overlay",
                            "size": 10,
                            "solidity": 0.2
                          }
                        },
                        "type": "bar"
                      }
                    ],
                    "barpolar": [
                      {
                        "marker": {
                          "line": {
                            "color": "#E5ECF6",
                            "width": 0.5
                          },
                          "pattern": {
                            "fillmode": "overlay",
                            "size": 10,
                            "solidity": 0.2
                          }
                        },
                        "type": "barpolar"
                      }
                    ],
                    "carpet": [
                      {
                        "aaxis": {
                          "endlinecolor": "#2a3f5f",
                          "gridcolor": "white",
                          "linecolor": "white",
                          "minorgridcolor": "white",
                          "startlinecolor": "#2a3f5f"
                        },
                        "baxis": {
                          "endlinecolor": "#2a3f5f",
                          "gridcolor": "white",
                          "linecolor": "white",
                          "minorgridcolor": "white",
                          "startlinecolor": "#2a3f5f"
                        },
                        "type": "carpet"
                      }
                    ],
                    "choropleth": [
                      {
                        "colorbar": {
                          "outlinewidth": 0,
                          "ticks": ""
                        },
                        "type": "choropleth"
                      }
                    ],
                    "contour": [
                      {
                        "colorbar": {
                          "outlinewidth": 0,
                          "ticks": ""
                        },
                        "colorscale": [
                          [
                            0,
                            "#0d0887"
                          ],
                          [
                            0.1111111111111111,
                            "#46039f"
                          ],
                          [
                            0.2222222222222222,
                            "#7201a8"
                          ],
                          [
                            0.3333333333333333,
                            "#9c179e"
                          ],
                          [
                            0.4444444444444444,
                            "#bd3786"
                          ],
                          [
                            0.5555555555555556,
                            "#d8576b"
                          ],
                          [
                            0.6666666666666666,
                            "#ed7953"
                          ],
                          [
                            0.7777777777777778,
                            "#fb9f3a"
                          ],
                          [
                            0.8888888888888888,
                            "#fdca26"
                          ],
                          [
                            1,
                            "#f0f921"
                          ]
                        ],
                        "type": "contour"
                      }
                    ],
                    "contourcarpet": [
                      {
                        "colorbar": {
                          "outlinewidth": 0,
                          "ticks": ""
                        },
                        "type": "contourcarpet"
                      }
                    ],
                    "heatmap": [
                      {
                        "colorbar": {
                          "outlinewidth": 0,
                          "ticks": ""
                        },
                        "colorscale": [
                          [
                            0,
                            "#0d0887"
                          ],
                          [
                            0.1111111111111111,
                            "#46039f"
                          ],
                          [
                            0.2222222222222222,
                            "#7201a8"
                          ],
                          [
                            0.3333333333333333,
                            "#9c179e"
                          ],
                          [
                            0.4444444444444444,
                            "#bd3786"
                          ],
                          [
                            0.5555555555555556,
                            "#d8576b"
                          ],
                          [
                            0.6666666666666666,
                            "#ed7953"
                          ],
                          [
                            0.7777777777777778,
                            "#fb9f3a"
                          ],
                          [
                            0.8888888888888888,
                            "#fdca26"
                          ],
                          [
                            1,
                            "#f0f921"
                          ]
                        ],
                        "type": "heatmap"
                      }
                    ],
                    "heatmapgl": [
                      {
                        "colorbar": {
                          "outlinewidth": 0,
                          "ticks": ""
                        },
                        "colorscale": [
                          [
                            0,
                            "#0d0887"
                          ],
                          [
                            0.1111111111111111,
                            "#46039f"
                          ],
                          [
                            0.2222222222222222,
                            "#7201a8"
                          ],
                          [
                            0.3333333333333333,
                            "#9c179e"
                          ],
                          [
                            0.4444444444444444,
                            "#bd3786"
                          ],
                          [
                            0.5555555555555556,
                            "#d8576b"
                          ],
                          [
                            0.6666666666666666,
                            "#ed7953"
                          ],
                          [
                            0.7777777777777778,
                            "#fb9f3a"
                          ],
                          [
                            0.8888888888888888,
                            "#fdca26"
                          ],
                          [
                            1,
                            "#f0f921"
                          ]
                        ],
                        "type": "heatmapgl"
                      }
                    ],
                    "histogram": [
                      {
                        "marker": {
                          "pattern": {
                            "fillmode": "overlay",
                            "size": 10,
                            "solidity": 0.2
                          }
                        },
                        "type": "histogram"
                      }
                    ],
                    "histogram2d": [
                      {
                        "colorbar": {
                          "outlinewidth": 0,
                          "ticks": ""
                        },
                        "colorscale": [
                          [
                            0,
                            "#0d0887"
                          ],
                          [
                            0.1111111111111111,
                            "#46039f"
                          ],
                          [
                            0.2222222222222222,
                            "#7201a8"
                          ],
                          [
                            0.3333333333333333,
                            "#9c179e"
                          ],
                          [
                            0.4444444444444444,
                            "#bd3786"
                          ],
                          [
                            0.5555555555555556,
                            "#d8576b"
                          ],
                          [
                            0.6666666666666666,
                            "#ed7953"
                          ],
                          [
                            0.7777777777777778,
                            "#fb9f3a"
                          ],
                          [
                            0.8888888888888888,
                            "#fdca26"
                          ],
                          [
                            1,
                            "#f0f921"
                          ]
                        ],
                        "type": "histogram2d"
                      }
                    ],
                    "histogram2dcontour": [
                      {
                        "colorbar": {
                          "outlinewidth": 0,
                          "ticks": ""
                        },
                        "colorscale": [
                          [
                            0,
                            "#0d0887"
                          ],
                          [
                            0.1111111111111111,
                            "#46039f"
                          ],
                          [
                            0.2222222222222222,
                            "#7201a8"
                          ],
                          [
                            0.3333333333333333,
                            "#9c179e"
                          ],
                          [
                            0.4444444444444444,
                            "#bd3786"
                          ],
                          [
                            0.5555555555555556,
                            "#d8576b"
                          ],
                          [
                            0.6666666666666666,
                            "#ed7953"
                          ],
                          [
                            0.7777777777777778,
                            "#fb9f3a"
                          ],
                          [
                            0.8888888888888888,
                            "#fdca26"
                          ],
                          [
                            1,
                            "#f0f921"
                          ]
                        ],
                        "type": "histogram2dcontour"
                      }
                    ],
                    "mesh3d": [
                      {
                        "colorbar": {
                          "outlinewidth": 0,
                          "ticks": ""
                        },
                        "type": "mesh3d"
                      }
                    ],
                    "parcoords": [
                      {
                        "line": {
                          "colorbar": {
                            "outlinewidth": 0,
                            "ticks": ""
                          }
                        },
                        "type": "parcoords"
                      }
                    ],
                    "pie": [
                      {
                        "automargin": true,
                        "type": "pie"
                      }
                    ],
                    "scatter": [
                      {
                        "fillpattern": {
                          "fillmode": "overlay",
                          "size": 10,
                          "solidity": 0.2
                        },
                        "type": "scatter"
                      }
                    ],
                    "scatter3d": [
                      {
                        "line": {
                          "colorbar": {
                            "outlinewidth": 0,
                            "ticks": ""
                          }
                        },
                        "marker": {
                          "colorbar": {
                            "outlinewidth": 0,
                            "ticks": ""
                          }
                        },
                        "type": "scatter3d"
                      }
                    ],
                    "scattercarpet": [
                      {
                        "marker": {
                          "colorbar": {
                            "outlinewidth": 0,
                            "ticks": ""
                          }
                        },
                        "type": "scattercarpet"
                      }
                    ],
                    "scattergeo": [
                      {
                        "marker": {
                          "colorbar": {
                            "outlinewidth": 0,
                            "ticks": ""
                          }
                        },
                        "type": "scattergeo"
                      }
                    ],
                    "scattergl": [
                      {
                        "marker": {
                          "colorbar": {
                            "outlinewidth": 0,
                            "ticks": ""
                          }
                        },
                        "type": "scattergl"
                      }
                    ],
                    "scattermapbox": [
                      {
                        "marker": {
                          "colorbar": {
                            "outlinewidth": 0,
                            "ticks": ""
                          }
                        },
                        "type": "scattermapbox"
                      }
                    ],
                    "scatterpolar": [
                      {
                        "marker": {
                          "colorbar": {
                            "outlinewidth": 0,
                            "ticks": ""
                          }
                        },
                        "type": "scatterpolar"
                      }
                    ],
                    "scatterpolargl": [
                      {
                        "marker": {
                          "colorbar": {
                            "outlinewidth": 0,
                            "ticks": ""
                          }
                        },
                        "type": "scatterpolargl"
                      }
                    ],
                    "scatterternary": [
                      {
                        "marker": {
                          "colorbar": {
                            "outlinewidth": 0,
                            "ticks": ""
                          }
                        },
                        "type": "scatterternary"
                      }
                    ],
                    "surface": [
                      {
                        "colorbar": {
                          "outlinewidth": 0,
                          "ticks": ""
                        },
                        "colorscale": [
                          [
                            0,
                            "#0d0887"
                          ],
                          [
                            0.1111111111111111,
                            "#46039f"
                          ],
                          [
                            0.2222222222222222,
                            "#7201a8"
                          ],
                          [
                            0.3333333333333333,
                            "#9c179e"
                          ],
                          [
                            0.4444444444444444,
                            "#bd3786"
                          ],
                          [
                            0.5555555555555556,
                            "#d8576b"
                          ],
                          [
                            0.6666666666666666,
                            "#ed7953"
                          ],
                          [
                            0.7777777777777778,
                            "#fb9f3a"
                          ],
                          [
                            0.8888888888888888,
                            "#fdca26"
                          ],
                          [
                            1,
                            "#f0f921"
                          ]
                        ],
                        "type": "surface"
                      }
                    ],
                    "table": [
                      {
                        "cells": {
                          "fill": {
                            "color": "#EBF0F8"
                          },
                          "line": {
                            "color": "white"
                          }
                        },
                        "header": {
                          "fill": {
                            "color": "#C8D4E3"
                          },
                          "line": {
                            "color": "white"
                          }
                        },
                        "type": "table"
                      }
                    ]
                  },
                  "layout": {
                    "annotationdefaults": {
                      "arrowcolor": "#2a3f5f",
                      "arrowhead": 0,
                      "arrowwidth": 1
                    },
                    "autotypenumbers": "strict",
                    "coloraxis": {
                      "colorbar": {
                        "outlinewidth": 0,
                        "ticks": ""
                      }
                    },
                    "colorscale": {
                      "diverging": [
                        [
                          0,
                          "#8e0152"
                        ],
                        [
                          0.1,
                          "#c51b7d"
                        ],
                        [
                          0.2,
                          "#de77ae"
                        ],
                        [
                          0.3,
                          "#f1b6da"
                        ],
                        [
                          0.4,
                          "#fde0ef"
                        ],
                        [
                          0.5,
                          "#f7f7f7"
                        ],
                        [
                          0.6,
                          "#e6f5d0"
                        ],
                        [
                          0.7,
                          "#b8e186"
                        ],
                        [
                          0.8,
                          "#7fbc41"
                        ],
                        [
                          0.9,
                          "#4d9221"
                        ],
                        [
                          1,
                          "#276419"
                        ]
                      ],
                      "sequential": [
                        [
                          0,
                          "#0d0887"
                        ],
                        [
                          0.1111111111111111,
                          "#46039f"
                        ],
                        [
                          0.2222222222222222,
                          "#7201a8"
                        ],
                        [
                          0.3333333333333333,
                          "#9c179e"
                        ],
                        [
                          0.4444444444444444,
                          "#bd3786"
                        ],
                        [
                          0.5555555555555556,
                          "#d8576b"
                        ],
                        [
                          0.6666666666666666,
                          "#ed7953"
                        ],
                        [
                          0.7777777777777778,
                          "#fb9f3a"
                        ],
                        [
                          0.8888888888888888,
                          "#fdca26"
                        ],
                        [
                          1,
                          "#f0f921"
                        ]
                      ],
                      "sequentialminus": [
                        [
                          0,
                          "#0d0887"
                        ],
                        [
                          0.1111111111111111,
                          "#46039f"
                        ],
                        [
                          0.2222222222222222,
                          "#7201a8"
                        ],
                        [
                          0.3333333333333333,
                          "#9c179e"
                        ],
                        [
                          0.4444444444444444,
                          "#bd3786"
                        ],
                        [
                          0.5555555555555556,
                          "#d8576b"
                        ],
                        [
                          0.6666666666666666,
                          "#ed7953"
                        ],
                        [
                          0.7777777777777778,
                          "#fb9f3a"
                        ],
                        [
                          0.8888888888888888,
                          "#fdca26"
                        ],
                        [
                          1,
                          "#f0f921"
                        ]
                      ]
                    },
                    "colorway": [
                      "#636efa",
                      "#EF553B",
                      "#00cc96",
                      "#ab63fa",
                      "#FFA15A",
                      "#19d3f3",
                      "#FF6692",
                      "#B6E880",
                      "#FF97FF",
                      "#FECB52"
                    ],
                    "font": {
                      "color": "#2a3f5f"
                    },
                    "geo": {
                      "bgcolor": "white",
                      "lakecolor": "white",
                      "landcolor": "#E5ECF6",
                      "showlakes": true,
                      "showland": true,
                      "subunitcolor": "white"
                    },
                    "hoverlabel": {
                      "align": "left"
                    },
                    "hovermode": "closest",
                    "mapbox": {
                      "style": "light"
                    },
                    "paper_bgcolor": "white",
                    "plot_bgcolor": "#E5ECF6",
                    "polar": {
                      "angularaxis": {
                        "gridcolor": "white",
                        "linecolor": "white",
                        "ticks": ""
                      },
                      "bgcolor": "#E5ECF6",
                      "radialaxis": {
                        "gridcolor": "white",
                        "linecolor": "white",
                        "ticks": ""
                      }
                    },
                    "scene": {
                      "xaxis": {
                        "backgroundcolor": "#E5ECF6",
                        "gridcolor": "white",
                        "gridwidth": 2,
                        "linecolor": "white",
                        "showbackground": true,
                        "ticks": "",
                        "zerolinecolor": "white"
                      },
                      "yaxis": {
                        "backgroundcolor": "#E5ECF6",
                        "gridcolor": "white",
                        "gridwidth": 2,
                        "linecolor": "white",
                        "showbackground": true,
                        "ticks": "",
                        "zerolinecolor": "white"
                      },
                      "zaxis": {
                        "backgroundcolor": "#E5ECF6",
                        "gridcolor": "white",
                        "gridwidth": 2,
                        "linecolor": "white",
                        "showbackground": true,
                        "ticks": "",
                        "zerolinecolor": "white"
                      }
                    },
                    "shapedefaults": {
                      "line": {
                        "color": "#2a3f5f"
                      }
                    },
                    "ternary": {
                      "aaxis": {
                        "gridcolor": "white",
                        "linecolor": "white",
                        "ticks": ""
                      },
                      "baxis": {
                        "gridcolor": "white",
                        "linecolor": "white",
                        "ticks": ""
                      },
                      "bgcolor": "#E5ECF6",
                      "caxis": {
                        "gridcolor": "white",
                        "linecolor": "white",
                        "ticks": ""
                      }
                    },
                    "title": {
                      "x": 0.05
                    },
                    "xaxis": {
                      "automargin": true,
                      "gridcolor": "white",
                      "linecolor": "white",
                      "ticks": "",
                      "title": {
                        "standoff": 15
                      },
                      "zerolinecolor": "white",
                      "zerolinewidth": 2
                    },
                    "yaxis": {
                      "automargin": true,
                      "gridcolor": "white",
                      "linecolor": "white",
                      "ticks": "",
                      "title": {
                        "standoff": 15
                      },
                      "zerolinecolor": "white",
                      "zerolinewidth": 2
                    }
                  }
                },
                "title": {
                  "text": "Price distribution by fuel type"
                },
                "violinmode": "overlay",
                "xaxis": {
                  "anchor": "y",
                  "categoryarray": [
                    "gas",
                    "diesel"
                  ],
                  "categoryorder": "array",
                  "domain": [
                    0,
                    1
                  ],
                  "title": {
                    "text": "fuel_type"
                  }
                },
                "yaxis": {
                  "anchor": "x",
                  "domain": [
                    0,
                    1
                  ],
                  "title": {
                    "text": "price"
                  }
                }
              }
            }
          },
          "metadata": {},
          "output_type": "display_data"
        }
      ],
      "source": [
        "# Price distribution by fuel type\n",
        "# Shows how car prices vary across fuel types, indicating distinct market segments.\n",
        "\n",
        "fig_violin = px.violin(\n",
        "    df,\n",
        "    x='fuel_type',\n",
        "    y='price',\n",
        "    color='fuel_type',\n",
        "    color_discrete_map={\n",
        "        'gas': 'orchid',      \n",
        "        'diesel': 'indigo'  \n",
        "    },\n",
        "    box=True,\n",
        "    points='all',\n",
        "    title=\"Price distribution by fuel type\"\n",
        ")\n",
        "fig_violin.show()\n"
      ]
    },
    {
      "cell_type": "markdown",
      "metadata": {},
      "source": [
        "The price distribution by fuel type reveals clear differences, showing that fuel type influences pricing and reflects distinct market segments, with some fuel types generally associated with higher-priced vehicles than others."
      ]
    },
    {
      "cell_type": "markdown",
      "metadata": {},
      "source": [
        "## Predictive Feature Relationships"
      ]
    },
    {
      "cell_type": "code",
      "execution_count": null,
      "metadata": {},
      "outputs": [
        {
          "data": {
            "application/vnd.plotly.v1+json": {
              "config": {
                "plotlyServerURL": "https://plot.ly"
              },
              "data": [
                {
                  "customdata": [
                    [
                      "alfa romeo",
                      "giulia",
                      130
                    ],
                    [
                      "alfa romeo",
                      "stelvio",
                      130
                    ],
                    [
                      "alfa romeo",
                      "Quadrifoglio",
                      152
                    ],
                    [
                      "audi",
                      "100 ls",
                      109
                    ],
                    [
                      "audi",
                      "100ls",
                      136
                    ],
                    [
                      "audi",
                      "fox",
                      136
                    ],
                    [
                      "audi",
                      "100ls",
                      136
                    ],
                    [
                      "audi",
                      "5000",
                      136
                    ],
                    [
                      "audi",
                      "4000",
                      131
                    ],
                    [
                      "audi",
                      "5000s (diesel)",
                      131
                    ],
                    [
                      "bmw",
                      "320i",
                      108
                    ],
                    [
                      "bmw",
                      "320i",
                      108
                    ],
                    [
                      "bmw",
                      "x1",
                      164
                    ],
                    [
                      "bmw",
                      "x3",
                      164
                    ],
                    [
                      "bmw",
                      "z4",
                      164
                    ],
                    [
                      "bmw",
                      "x4",
                      209
                    ],
                    [
                      "bmw",
                      "x5",
                      209
                    ],
                    [
                      "bmw",
                      "x3",
                      209
                    ],
                    [
                      "chevrolet",
                      "impala",
                      61
                    ],
                    [
                      "chevrolet",
                      "monte carlo",
                      90
                    ],
                    [
                      "chevrolet",
                      "vega 2300",
                      90
                    ],
                    [
                      "dodge",
                      "rampage",
                      90
                    ],
                    [
                      "dodge",
                      "challenger se",
                      90
                    ],
                    [
                      "dodge",
                      "d200",
                      98
                    ],
                    [
                      "dodge",
                      "monaco (sw)",
                      90
                    ],
                    [
                      "dodge",
                      "colt hardtop",
                      90
                    ],
                    [
                      "dodge",
                      "colt (sw)",
                      90
                    ],
                    [
                      "dodge",
                      "coronet custom",
                      98
                    ],
                    [
                      "dodge",
                      "dart custom",
                      122
                    ],
                    [
                      "dodge",
                      "coronet custom (sw)",
                      156
                    ],
                    [
                      "honda",
                      "civic",
                      92
                    ],
                    [
                      "honda",
                      "civic cvcc",
                      92
                    ],
                    [
                      "honda",
                      "civic",
                      79
                    ],
                    [
                      "honda",
                      "accord cvcc",
                      92
                    ],
                    [
                      "honda",
                      "civic cvcc",
                      92
                    ],
                    [
                      "honda",
                      "accord lx",
                      92
                    ],
                    [
                      "honda",
                      "civic 1500 gl",
                      92
                    ],
                    [
                      "honda",
                      "accord",
                      110
                    ],
                    [
                      "honda",
                      "civic 1300",
                      110
                    ],
                    [
                      "honda",
                      "prelude",
                      110
                    ],
                    [
                      "honda",
                      "accord",
                      110
                    ],
                    [
                      "honda",
                      "civic",
                      110
                    ],
                    [
                      "honda",
                      "civic (auto)",
                      110
                    ],
                    [
                      "isuzu",
                      "MU-X",
                      111
                    ],
                    [
                      "isuzu",
                      "D-Max ",
                      90
                    ],
                    [
                      "isuzu",
                      "D-Max V-Cross",
                      90
                    ],
                    [
                      "isuzu",
                      "D-Max ",
                      119
                    ],
                    [
                      "jaguar",
                      "xj",
                      258
                    ],
                    [
                      "jaguar",
                      "xf",
                      258
                    ],
                    [
                      "jaguar",
                      "xk",
                      326
                    ],
                    [
                      "mazda",
                      "rx3",
                      91
                    ],
                    [
                      "mazda",
                      "glc deluxe",
                      91
                    ],
                    [
                      "mazda",
                      "rx2 coupe",
                      91
                    ],
                    [
                      "mazda",
                      "rx-4",
                      91
                    ],
                    [
                      "mazda",
                      "glc deluxe",
                      91
                    ],
                    [
                      "mazda",
                      "626",
                      70
                    ],
                    [
                      "mazda",
                      "glc",
                      70
                    ],
                    [
                      "mazda",
                      "rx-7 gs",
                      70
                    ],
                    [
                      "mazda",
                      "glc 4",
                      80
                    ],
                    [
                      "mazda",
                      "626",
                      122
                    ],
                    [
                      "mazda",
                      "glc custom l",
                      122
                    ],
                    [
                      "mazda",
                      "glc custom",
                      122
                    ],
                    [
                      "mazda",
                      "rx-4",
                      122
                    ],
                    [
                      "mazda",
                      "glc deluxe",
                      122
                    ],
                    [
                      "mazda",
                      "626",
                      122
                    ],
                    [
                      "mazda",
                      "glc",
                      140
                    ],
                    [
                      "mazda",
                      "rx-7 gs",
                      134
                    ],
                    [
                      "buick",
                      "electra 225 custom",
                      183
                    ],
                    [
                      "buick",
                      "century luxus (sw)",
                      183
                    ],
                    [
                      "buick",
                      "century",
                      183
                    ],
                    [
                      "buick",
                      "skyhawk",
                      183
                    ],
                    [
                      "buick",
                      "opel isuzu deluxe",
                      234
                    ],
                    [
                      "buick",
                      "skylark",
                      234
                    ],
                    [
                      "buick",
                      "century special",
                      308
                    ],
                    [
                      "buick",
                      "regal sport coupe (turbo)",
                      304
                    ],
                    [
                      "mercury",
                      "cougar",
                      140
                    ],
                    [
                      "mitsubishi",
                      "mirage",
                      92
                    ],
                    [
                      "mitsubishi",
                      "lancer",
                      92
                    ],
                    [
                      "mitsubishi",
                      "outlander",
                      92
                    ],
                    [
                      "mitsubishi",
                      "g4",
                      98
                    ],
                    [
                      "mitsubishi",
                      "mirage g4",
                      110
                    ],
                    [
                      "mitsubishi",
                      "g4",
                      122
                    ],
                    [
                      "mitsubishi",
                      "outlander",
                      156
                    ],
                    [
                      "mitsubishi",
                      "g4",
                      156
                    ],
                    [
                      "mitsubishi",
                      "mirage g4",
                      156
                    ],
                    [
                      "mitsubishi",
                      "montero",
                      122
                    ],
                    [
                      "mitsubishi",
                      "pajero",
                      122
                    ],
                    [
                      "mitsubishi",
                      "outlander",
                      110
                    ],
                    [
                      "mitsubishi",
                      "mirage g4",
                      110
                    ],
                    [
                      "nissan",
                      "versa",
                      97
                    ],
                    [
                      "nissan",
                      "gt-r",
                      103
                    ],
                    [
                      "nissan",
                      "rogue",
                      97
                    ],
                    [
                      "nissan",
                      "latio",
                      97
                    ],
                    [
                      "nissan",
                      "titan",
                      97
                    ],
                    [
                      "nissan",
                      "leaf",
                      97
                    ],
                    [
                      "nissan",
                      "juke",
                      97
                    ],
                    [
                      "nissan",
                      "latio",
                      97
                    ],
                    [
                      "nissan",
                      "note",
                      97
                    ],
                    [
                      "nissan",
                      "clipper",
                      97
                    ],
                    [
                      "nissan",
                      "rogue",
                      120
                    ],
                    [
                      "nissan",
                      "nv200",
                      120
                    ],
                    [
                      "nissan",
                      "dayz",
                      181
                    ],
                    [
                      "nissan",
                      "fuga",
                      181
                    ],
                    [
                      "nissan",
                      "otti",
                      181
                    ],
                    [
                      "nissan",
                      "teana",
                      181
                    ],
                    [
                      "nissan",
                      "kicks",
                      181
                    ],
                    [
                      "nissan",
                      "clipper",
                      181
                    ],
                    [
                      "peugeot",
                      "504",
                      120
                    ],
                    [
                      "peugeot",
                      "304",
                      152
                    ],
                    [
                      "peugeot",
                      "504 (sw)",
                      120
                    ],
                    [
                      "peugeot",
                      "504",
                      152
                    ],
                    [
                      "peugeot",
                      "504",
                      120
                    ],
                    [
                      "peugeot",
                      "604sl",
                      152
                    ],
                    [
                      "peugeot",
                      "504",
                      120
                    ],
                    [
                      "peugeot",
                      "505s turbo diesel",
                      152
                    ],
                    [
                      "peugeot",
                      "504",
                      120
                    ],
                    [
                      "peugeot",
                      "504",
                      152
                    ],
                    [
                      "peugeot",
                      "604sl",
                      134
                    ],
                    [
                      "plymouth",
                      "fury iii",
                      90
                    ],
                    [
                      "plymouth",
                      "cricket",
                      98
                    ],
                    [
                      "plymouth",
                      "fury iii",
                      90
                    ],
                    [
                      "plymouth",
                      "satellite custom (sw)",
                      90
                    ],
                    [
                      "plymouth",
                      "fury gran sedan",
                      98
                    ],
                    [
                      "plymouth",
                      "valiant",
                      122
                    ],
                    [
                      "plymouth",
                      "duster",
                      156
                    ],
                    [
                      "porsche",
                      "macan",
                      151
                    ],
                    [
                      "porcshce",
                      "panamera",
                      194
                    ],
                    [
                      "porsche",
                      "cayenne",
                      194
                    ],
                    [
                      "porsche",
                      "boxter",
                      194
                    ],
                    [
                      "porsche",
                      "cayenne",
                      203
                    ],
                    [
                      "renault",
                      "12tl",
                      132
                    ],
                    [
                      "renault",
                      "5 gtl",
                      132
                    ],
                    [
                      "saab",
                      "99e",
                      121
                    ],
                    [
                      "saab",
                      "99le",
                      121
                    ],
                    [
                      "saab",
                      "99le",
                      121
                    ],
                    [
                      "saab",
                      "99gle",
                      121
                    ],
                    [
                      "saab",
                      "99gle",
                      121
                    ],
                    [
                      "saab",
                      "99e",
                      121
                    ],
                    [
                      "subaru",
                      null,
                      97
                    ],
                    [
                      "subaru",
                      "dl",
                      108
                    ],
                    [
                      "subaru",
                      "dl",
                      108
                    ],
                    [
                      "subaru",
                      null,
                      108
                    ],
                    [
                      "subaru",
                      "brz",
                      108
                    ],
                    [
                      "subaru",
                      "baja",
                      108
                    ],
                    [
                      "subaru",
                      "r1",
                      108
                    ],
                    [
                      "subaru",
                      "r2",
                      108
                    ],
                    [
                      "subaru",
                      "trezia",
                      108
                    ],
                    [
                      "subaru",
                      "tribeca",
                      108
                    ],
                    [
                      "subaru",
                      "dl",
                      108
                    ],
                    [
                      "subaru",
                      "dl",
                      108
                    ],
                    [
                      "toyota",
                      "corona mark ii",
                      92
                    ],
                    [
                      "toyota",
                      "corona",
                      92
                    ],
                    [
                      "toyota",
                      "corolla 1200",
                      92
                    ],
                    [
                      "toyota",
                      "corona hardtop",
                      92
                    ],
                    [
                      "toyota",
                      "corolla 1600 (sw)",
                      92
                    ],
                    [
                      "toyota",
                      "carina",
                      92
                    ],
                    [
                      "toyota",
                      "mark ii",
                      98
                    ],
                    [
                      "toyota",
                      "corolla 1200",
                      98
                    ],
                    [
                      "toyota",
                      "corona",
                      110
                    ],
                    [
                      "toyota",
                      "corolla",
                      110
                    ],
                    [
                      "toyota",
                      "corona",
                      98
                    ],
                    [
                      "toyota",
                      "corolla",
                      98
                    ],
                    [
                      "toyota",
                      "mark ii",
                      98
                    ],
                    [
                      "toyota",
                      "corolla liftback",
                      98
                    ],
                    [
                      "toyota",
                      "corona",
                      98
                    ],
                    [
                      "toyota",
                      "celica gt liftback",
                      98
                    ],
                    [
                      "toyota",
                      "corolla tercel",
                      98
                    ],
                    [
                      "toyota",
                      "corona liftback",
                      146
                    ],
                    [
                      "toyota",
                      "corolla",
                      146
                    ],
                    [
                      "toyota",
                      "starlet",
                      146
                    ],
                    [
                      "toyota",
                      "tercel",
                      146
                    ],
                    [
                      "toyota",
                      "corolla",
                      146
                    ],
                    [
                      "toyota",
                      "cressida",
                      146
                    ],
                    [
                      "toyota",
                      "corolla",
                      122
                    ],
                    [
                      "toyota",
                      "celica gt",
                      110
                    ],
                    [
                      "toyota",
                      "corona",
                      122
                    ],
                    [
                      "toyota",
                      "corolla",
                      122
                    ],
                    [
                      "toyota",
                      "mark ii",
                      122
                    ],
                    [
                      "toyota",
                      "corolla liftback",
                      171
                    ],
                    [
                      "toyota",
                      "corona",
                      171
                    ],
                    [
                      "toyota",
                      "starlet",
                      171
                    ],
                    [
                      "toyota",
                      "tercel",
                      161
                    ],
                    [
                      "volkswagen",
                      "rabbit",
                      97
                    ],
                    [
                      "volkswagen",
                      "1131 deluxe sedan",
                      109
                    ],
                    [
                      "volkswagen",
                      "model 111",
                      97
                    ],
                    [
                      "volkswagen",
                      "type 3",
                      109
                    ],
                    [
                      "volkswagen",
                      "411 (sw)",
                      109
                    ],
                    [
                      "volkswagen",
                      "super beetle",
                      97
                    ],
                    [
                      "volkswagen",
                      "dasher",
                      109
                    ],
                    [
                      "volkswagen",
                      "dasher",
                      109
                    ],
                    [
                      "volkswagen",
                      "rabbit",
                      109
                    ],
                    [
                      "volkswagen",
                      "rabbit",
                      136
                    ],
                    [
                      "volkswagen",
                      "rabbit custom",
                      97
                    ],
                    [
                      "volkswagen",
                      "dasher",
                      109
                    ],
                    [
                      "volvo",
                      "145e (sw)",
                      141
                    ],
                    [
                      "volvo",
                      "144ea",
                      141
                    ],
                    [
                      "volvo",
                      "244dl",
                      141
                    ],
                    [
                      "volvo",
                      "245",
                      141
                    ],
                    [
                      "volvo",
                      "264gl",
                      130
                    ],
                    [
                      "volvo",
                      "diesel",
                      130
                    ],
                    [
                      "volvo",
                      "145e (sw)",
                      141
                    ],
                    [
                      "volvo",
                      "144ea",
                      141
                    ],
                    [
                      "volvo",
                      "244dl",
                      173
                    ],
                    [
                      "volvo",
                      "246",
                      145
                    ],
                    [
                      "volvo",
                      "264gl",
                      141
                    ]
                  ],
                  "hovertemplate": "Curb Weight=%{x}<br>Price ($)=%{y}<br>Horse Power=%{marker.size}<br>brand=%{customdata[0]}<br>model=%{customdata[1]}<br>engine_size=%{customdata[2]}<br>Highway MPG=%{marker.color}<extra></extra>",
                  "legendgroup": "",
                  "marker": {
                    "color": [
                      27,
                      27,
                      26,
                      30,
                      22,
                      25,
                      25,
                      25,
                      20,
                      22,
                      29,
                      29,
                      28,
                      28,
                      25,
                      22,
                      22,
                      20,
                      53,
                      43,
                      43,
                      41,
                      38,
                      30,
                      38,
                      38,
                      38,
                      30,
                      30,
                      24,
                      54,
                      38,
                      42,
                      34,
                      34,
                      34,
                      34,
                      33,
                      33,
                      33,
                      33,
                      28,
                      31,
                      29,
                      43,
                      43,
                      29,
                      19,
                      19,
                      17,
                      31,
                      38,
                      38,
                      38,
                      38,
                      23,
                      23,
                      23,
                      23,
                      32,
                      32,
                      32,
                      32,
                      42,
                      32,
                      27,
                      39,
                      25,
                      25,
                      25,
                      25,
                      18,
                      18,
                      16,
                      16,
                      24,
                      41,
                      38,
                      38,
                      30,
                      30,
                      32,
                      24,
                      24,
                      24,
                      32,
                      32,
                      30,
                      30,
                      37,
                      50,
                      37,
                      37,
                      37,
                      37,
                      37,
                      37,
                      37,
                      37,
                      34,
                      34,
                      22,
                      22,
                      25,
                      25,
                      23,
                      25,
                      24,
                      33,
                      24,
                      25,
                      24,
                      33,
                      24,
                      25,
                      24,
                      33,
                      24,
                      41,
                      30,
                      38,
                      38,
                      38,
                      30,
                      24,
                      27,
                      25,
                      25,
                      25,
                      28,
                      31,
                      31,
                      28,
                      28,
                      28,
                      28,
                      26,
                      26,
                      36,
                      31,
                      31,
                      37,
                      33,
                      32,
                      25,
                      29,
                      32,
                      31,
                      29,
                      23,
                      39,
                      38,
                      38,
                      37,
                      32,
                      32,
                      37,
                      37,
                      36,
                      47,
                      47,
                      34,
                      34,
                      34,
                      34,
                      29,
                      29,
                      30,
                      30,
                      30,
                      30,
                      30,
                      30,
                      34,
                      33,
                      32,
                      32,
                      32,
                      24,
                      24,
                      24,
                      24,
                      46,
                      34,
                      46,
                      34,
                      34,
                      42,
                      32,
                      29,
                      29,
                      24,
                      38,
                      31,
                      28,
                      28,
                      28,
                      28,
                      22,
                      22,
                      28,
                      25,
                      23,
                      27,
                      25
                    ],
                    "coloraxis": "coloraxis",
                    "size": [
                      111,
                      111,
                      154,
                      102,
                      115,
                      110,
                      110,
                      110,
                      140,
                      160,
                      101,
                      101,
                      121,
                      121,
                      121,
                      182,
                      182,
                      182,
                      48,
                      70,
                      70,
                      68,
                      68,
                      102,
                      68,
                      68,
                      68,
                      102,
                      88,
                      145,
                      58,
                      76,
                      60,
                      76,
                      76,
                      76,
                      76,
                      86,
                      86,
                      86,
                      86,
                      101,
                      100,
                      78,
                      70,
                      70,
                      90,
                      176,
                      176,
                      262,
                      68,
                      68,
                      68,
                      68,
                      68,
                      101,
                      101,
                      101,
                      135,
                      84,
                      84,
                      84,
                      84,
                      64,
                      84,
                      120,
                      72,
                      123,
                      123,
                      123,
                      123,
                      155,
                      155,
                      184,
                      184,
                      175,
                      68,
                      68,
                      68,
                      102,
                      116,
                      88,
                      145,
                      145,
                      145,
                      88,
                      88,
                      116,
                      116,
                      69,
                      55,
                      69,
                      69,
                      69,
                      69,
                      69,
                      69,
                      69,
                      69,
                      97,
                      97,
                      152,
                      152,
                      152,
                      160,
                      200,
                      160,
                      97,
                      95,
                      97,
                      95,
                      95,
                      95,
                      95,
                      95,
                      97,
                      95,
                      142,
                      68,
                      102,
                      68,
                      68,
                      68,
                      88,
                      145,
                      143,
                      207,
                      207,
                      207,
                      288,
                      90,
                      90,
                      110,
                      110,
                      110,
                      110,
                      160,
                      160,
                      69,
                      73,
                      73,
                      82,
                      82,
                      94,
                      82,
                      111,
                      82,
                      94,
                      82,
                      111,
                      62,
                      62,
                      62,
                      62,
                      62,
                      62,
                      70,
                      70,
                      56,
                      56,
                      70,
                      70,
                      70,
                      70,
                      70,
                      112,
                      112,
                      116,
                      116,
                      116,
                      116,
                      116,
                      116,
                      92,
                      73,
                      92,
                      92,
                      92,
                      161,
                      161,
                      156,
                      156,
                      52,
                      85,
                      52,
                      85,
                      85,
                      68,
                      100,
                      90,
                      90,
                      110,
                      68,
                      88,
                      114,
                      114,
                      114,
                      114,
                      162,
                      162,
                      114,
                      160,
                      134,
                      106,
                      114
                    ],
                    "sizemode": "area",
                    "sizeref": 0.72,
                    "symbol": "circle"
                  },
                  "mode": "markers",
                  "name": "",
                  "orientation": "v",
                  "showlegend": false,
                  "type": "scatter",
                  "x": [
                    2548,
                    2548,
                    2823,
                    2337,
                    2824,
                    2507,
                    2844,
                    2954,
                    3086,
                    3053,
                    2395,
                    2395,
                    2710,
                    2765,
                    3055,
                    3230,
                    3380,
                    3505,
                    1488,
                    1874,
                    1909,
                    1876,
                    1876,
                    2128,
                    1967,
                    1989,
                    1989,
                    2191,
                    2535,
                    2811,
                    1713,
                    1819,
                    1837,
                    1940,
                    1956,
                    2010,
                    2024,
                    2236,
                    2289,
                    2304,
                    2372,
                    2465,
                    2293,
                    2337,
                    1874,
                    1909,
                    2734,
                    4066,
                    4066,
                    3950,
                    1890,
                    1900,
                    1905,
                    1945,
                    1950,
                    2380,
                    2380,
                    2385,
                    2500,
                    2385,
                    2410,
                    2385,
                    2410,
                    2443,
                    2425,
                    2670,
                    2700,
                    3515,
                    3750,
                    3495,
                    3770,
                    3740,
                    3685,
                    3900,
                    3715,
                    2910,
                    1918,
                    1944,
                    2004,
                    2145,
                    2370,
                    2328,
                    2833,
                    2921,
                    2926,
                    2365,
                    2405,
                    2403,
                    2403,
                    1889,
                    2017,
                    1918,
                    1938,
                    2024,
                    1951,
                    2028,
                    1971,
                    2037,
                    2008,
                    2324,
                    2302,
                    3095,
                    3296,
                    3060,
                    3071,
                    3139,
                    3139,
                    3020,
                    3197,
                    3230,
                    3430,
                    3075,
                    3252,
                    3285,
                    3485,
                    3075,
                    3252,
                    3130,
                    1918,
                    2128,
                    1967,
                    1989,
                    2191,
                    2535,
                    2818,
                    2778,
                    2756,
                    2756,
                    2800,
                    3366,
                    2579,
                    2460,
                    2658,
                    2695,
                    2707,
                    2758,
                    2808,
                    2847,
                    2050,
                    2120,
                    2240,
                    2145,
                    2190,
                    2340,
                    2385,
                    2510,
                    2290,
                    2455,
                    2420,
                    2650,
                    1985,
                    2040,
                    2015,
                    2280,
                    2290,
                    3110,
                    2081,
                    2109,
                    2275,
                    2275,
                    2094,
                    2122,
                    2140,
                    2169,
                    2204,
                    2265,
                    2300,
                    2540,
                    2536,
                    2551,
                    2679,
                    2714,
                    2975,
                    2326,
                    2480,
                    2414,
                    2414,
                    2458,
                    2976,
                    3016,
                    3131,
                    3151,
                    2261,
                    2209,
                    2264,
                    2212,
                    2275,
                    2319,
                    2300,
                    2254,
                    2221,
                    2661,
                    2579,
                    2563,
                    2912,
                    3034,
                    2935,
                    3042,
                    3045,
                    3157,
                    2952,
                    3049,
                    3012,
                    3217,
                    3062
                  ],
                  "xaxis": "x",
                  "y": [
                    13495,
                    16500,
                    16500,
                    13950,
                    17450,
                    15250,
                    17710,
                    18920,
                    23875,
                    17859.167,
                    16430,
                    16925,
                    20970,
                    21105,
                    24565,
                    30760,
                    41315,
                    36880,
                    5151,
                    6295,
                    6575,
                    5572,
                    6377,
                    7957,
                    6229,
                    6692,
                    7609,
                    8558,
                    8921,
                    12964,
                    6479,
                    6855,
                    5399,
                    6529,
                    7129,
                    7295,
                    7295,
                    7895,
                    9095,
                    8845,
                    10295,
                    12945,
                    10345,
                    6785,
                    8916.5,
                    8916.5,
                    11048,
                    32250,
                    35550,
                    36000,
                    5195,
                    6095,
                    6795,
                    6695,
                    7395,
                    10945,
                    11845,
                    13645,
                    15645,
                    8845,
                    8495,
                    10595,
                    10245,
                    10795,
                    11245,
                    18280,
                    18344,
                    25552,
                    28248,
                    28176,
                    31600,
                    34184,
                    35056,
                    40960,
                    45400,
                    16503,
                    5389,
                    6189,
                    6669,
                    7689,
                    9959,
                    8499,
                    12629,
                    14869,
                    14489,
                    6989,
                    8189,
                    9279,
                    9279,
                    5499,
                    7099,
                    6649,
                    6849,
                    7349,
                    7299,
                    7799,
                    7499,
                    7999,
                    8249,
                    8949,
                    9549,
                    13499,
                    14399,
                    13499,
                    17199,
                    19699,
                    18399,
                    11900,
                    13200,
                    12440,
                    13860,
                    15580,
                    16900,
                    16695,
                    17075,
                    16630,
                    17950,
                    18150,
                    5572,
                    7957,
                    6229,
                    6692,
                    7609,
                    8921,
                    12764,
                    22018,
                    32528,
                    34028,
                    37028,
                    31400.5,
                    9295,
                    9895,
                    11850,
                    12170,
                    15040,
                    15510,
                    18150,
                    18620,
                    5118,
                    7053,
                    7603,
                    7126,
                    7775,
                    9960,
                    9233,
                    11259,
                    7463,
                    10198,
                    8013,
                    11694,
                    5348,
                    6338,
                    6488,
                    6918,
                    7898,
                    8778,
                    6938,
                    7198,
                    7898,
                    7788,
                    7738,
                    8358,
                    9258,
                    8058,
                    8238,
                    9298,
                    9538,
                    8449,
                    9639,
                    9989,
                    11199,
                    11549,
                    17669,
                    8948,
                    10698,
                    9988,
                    10898,
                    11248,
                    16558,
                    15998,
                    15690,
                    15750,
                    7775,
                    7975,
                    7995,
                    8195,
                    8495,
                    9495,
                    9995,
                    11595,
                    9980,
                    13295,
                    13845,
                    12290,
                    12940,
                    13415,
                    15985,
                    16515,
                    18420,
                    18950,
                    16845,
                    19045,
                    21485,
                    22470,
                    22625
                  ],
                  "yaxis": "y"
                }
              ],
              "layout": {
                "coloraxis": {
                  "colorbar": {
                    "title": {
                      "text": "Highway MPG"
                    }
                  },
                  "colorscale": [
                    [
                      0,
                      "#440154"
                    ],
                    [
                      0.1111111111111111,
                      "#482878"
                    ],
                    [
                      0.2222222222222222,
                      "#3e4989"
                    ],
                    [
                      0.3333333333333333,
                      "#31688e"
                    ],
                    [
                      0.4444444444444444,
                      "#26828e"
                    ],
                    [
                      0.5555555555555556,
                      "#1f9e89"
                    ],
                    [
                      0.6666666666666666,
                      "#35b779"
                    ],
                    [
                      0.7777777777777778,
                      "#6ece58"
                    ],
                    [
                      0.8888888888888888,
                      "#b5de2b"
                    ],
                    [
                      1,
                      "#fde725"
                    ]
                  ]
                },
                "legend": {
                  "itemsizing": "constant",
                  "tracegroupgap": 0
                },
                "showlegend": true,
                "template": {
                  "data": {
                    "bar": [
                      {
                        "error_x": {
                          "color": "#2a3f5f"
                        },
                        "error_y": {
                          "color": "#2a3f5f"
                        },
                        "marker": {
                          "line": {
                            "color": "#E5ECF6",
                            "width": 0.5
                          },
                          "pattern": {
                            "fillmode": "overlay",
                            "size": 10,
                            "solidity": 0.2
                          }
                        },
                        "type": "bar"
                      }
                    ],
                    "barpolar": [
                      {
                        "marker": {
                          "line": {
                            "color": "#E5ECF6",
                            "width": 0.5
                          },
                          "pattern": {
                            "fillmode": "overlay",
                            "size": 10,
                            "solidity": 0.2
                          }
                        },
                        "type": "barpolar"
                      }
                    ],
                    "carpet": [
                      {
                        "aaxis": {
                          "endlinecolor": "#2a3f5f",
                          "gridcolor": "white",
                          "linecolor": "white",
                          "minorgridcolor": "white",
                          "startlinecolor": "#2a3f5f"
                        },
                        "baxis": {
                          "endlinecolor": "#2a3f5f",
                          "gridcolor": "white",
                          "linecolor": "white",
                          "minorgridcolor": "white",
                          "startlinecolor": "#2a3f5f"
                        },
                        "type": "carpet"
                      }
                    ],
                    "choropleth": [
                      {
                        "colorbar": {
                          "outlinewidth": 0,
                          "ticks": ""
                        },
                        "type": "choropleth"
                      }
                    ],
                    "contour": [
                      {
                        "colorbar": {
                          "outlinewidth": 0,
                          "ticks": ""
                        },
                        "colorscale": [
                          [
                            0,
                            "#0d0887"
                          ],
                          [
                            0.1111111111111111,
                            "#46039f"
                          ],
                          [
                            0.2222222222222222,
                            "#7201a8"
                          ],
                          [
                            0.3333333333333333,
                            "#9c179e"
                          ],
                          [
                            0.4444444444444444,
                            "#bd3786"
                          ],
                          [
                            0.5555555555555556,
                            "#d8576b"
                          ],
                          [
                            0.6666666666666666,
                            "#ed7953"
                          ],
                          [
                            0.7777777777777778,
                            "#fb9f3a"
                          ],
                          [
                            0.8888888888888888,
                            "#fdca26"
                          ],
                          [
                            1,
                            "#f0f921"
                          ]
                        ],
                        "type": "contour"
                      }
                    ],
                    "contourcarpet": [
                      {
                        "colorbar": {
                          "outlinewidth": 0,
                          "ticks": ""
                        },
                        "type": "contourcarpet"
                      }
                    ],
                    "heatmap": [
                      {
                        "colorbar": {
                          "outlinewidth": 0,
                          "ticks": ""
                        },
                        "colorscale": [
                          [
                            0,
                            "#0d0887"
                          ],
                          [
                            0.1111111111111111,
                            "#46039f"
                          ],
                          [
                            0.2222222222222222,
                            "#7201a8"
                          ],
                          [
                            0.3333333333333333,
                            "#9c179e"
                          ],
                          [
                            0.4444444444444444,
                            "#bd3786"
                          ],
                          [
                            0.5555555555555556,
                            "#d8576b"
                          ],
                          [
                            0.6666666666666666,
                            "#ed7953"
                          ],
                          [
                            0.7777777777777778,
                            "#fb9f3a"
                          ],
                          [
                            0.8888888888888888,
                            "#fdca26"
                          ],
                          [
                            1,
                            "#f0f921"
                          ]
                        ],
                        "type": "heatmap"
                      }
                    ],
                    "heatmapgl": [
                      {
                        "colorbar": {
                          "outlinewidth": 0,
                          "ticks": ""
                        },
                        "colorscale": [
                          [
                            0,
                            "#0d0887"
                          ],
                          [
                            0.1111111111111111,
                            "#46039f"
                          ],
                          [
                            0.2222222222222222,
                            "#7201a8"
                          ],
                          [
                            0.3333333333333333,
                            "#9c179e"
                          ],
                          [
                            0.4444444444444444,
                            "#bd3786"
                          ],
                          [
                            0.5555555555555556,
                            "#d8576b"
                          ],
                          [
                            0.6666666666666666,
                            "#ed7953"
                          ],
                          [
                            0.7777777777777778,
                            "#fb9f3a"
                          ],
                          [
                            0.8888888888888888,
                            "#fdca26"
                          ],
                          [
                            1,
                            "#f0f921"
                          ]
                        ],
                        "type": "heatmapgl"
                      }
                    ],
                    "histogram": [
                      {
                        "marker": {
                          "pattern": {
                            "fillmode": "overlay",
                            "size": 10,
                            "solidity": 0.2
                          }
                        },
                        "type": "histogram"
                      }
                    ],
                    "histogram2d": [
                      {
                        "colorbar": {
                          "outlinewidth": 0,
                          "ticks": ""
                        },
                        "colorscale": [
                          [
                            0,
                            "#0d0887"
                          ],
                          [
                            0.1111111111111111,
                            "#46039f"
                          ],
                          [
                            0.2222222222222222,
                            "#7201a8"
                          ],
                          [
                            0.3333333333333333,
                            "#9c179e"
                          ],
                          [
                            0.4444444444444444,
                            "#bd3786"
                          ],
                          [
                            0.5555555555555556,
                            "#d8576b"
                          ],
                          [
                            0.6666666666666666,
                            "#ed7953"
                          ],
                          [
                            0.7777777777777778,
                            "#fb9f3a"
                          ],
                          [
                            0.8888888888888888,
                            "#fdca26"
                          ],
                          [
                            1,
                            "#f0f921"
                          ]
                        ],
                        "type": "histogram2d"
                      }
                    ],
                    "histogram2dcontour": [
                      {
                        "colorbar": {
                          "outlinewidth": 0,
                          "ticks": ""
                        },
                        "colorscale": [
                          [
                            0,
                            "#0d0887"
                          ],
                          [
                            0.1111111111111111,
                            "#46039f"
                          ],
                          [
                            0.2222222222222222,
                            "#7201a8"
                          ],
                          [
                            0.3333333333333333,
                            "#9c179e"
                          ],
                          [
                            0.4444444444444444,
                            "#bd3786"
                          ],
                          [
                            0.5555555555555556,
                            "#d8576b"
                          ],
                          [
                            0.6666666666666666,
                            "#ed7953"
                          ],
                          [
                            0.7777777777777778,
                            "#fb9f3a"
                          ],
                          [
                            0.8888888888888888,
                            "#fdca26"
                          ],
                          [
                            1,
                            "#f0f921"
                          ]
                        ],
                        "type": "histogram2dcontour"
                      }
                    ],
                    "mesh3d": [
                      {
                        "colorbar": {
                          "outlinewidth": 0,
                          "ticks": ""
                        },
                        "type": "mesh3d"
                      }
                    ],
                    "parcoords": [
                      {
                        "line": {
                          "colorbar": {
                            "outlinewidth": 0,
                            "ticks": ""
                          }
                        },
                        "type": "parcoords"
                      }
                    ],
                    "pie": [
                      {
                        "automargin": true,
                        "type": "pie"
                      }
                    ],
                    "scatter": [
                      {
                        "fillpattern": {
                          "fillmode": "overlay",
                          "size": 10,
                          "solidity": 0.2
                        },
                        "type": "scatter"
                      }
                    ],
                    "scatter3d": [
                      {
                        "line": {
                          "colorbar": {
                            "outlinewidth": 0,
                            "ticks": ""
                          }
                        },
                        "marker": {
                          "colorbar": {
                            "outlinewidth": 0,
                            "ticks": ""
                          }
                        },
                        "type": "scatter3d"
                      }
                    ],
                    "scattercarpet": [
                      {
                        "marker": {
                          "colorbar": {
                            "outlinewidth": 0,
                            "ticks": ""
                          }
                        },
                        "type": "scattercarpet"
                      }
                    ],
                    "scattergeo": [
                      {
                        "marker": {
                          "colorbar": {
                            "outlinewidth": 0,
                            "ticks": ""
                          }
                        },
                        "type": "scattergeo"
                      }
                    ],
                    "scattergl": [
                      {
                        "marker": {
                          "colorbar": {
                            "outlinewidth": 0,
                            "ticks": ""
                          }
                        },
                        "type": "scattergl"
                      }
                    ],
                    "scattermapbox": [
                      {
                        "marker": {
                          "colorbar": {
                            "outlinewidth": 0,
                            "ticks": ""
                          }
                        },
                        "type": "scattermapbox"
                      }
                    ],
                    "scatterpolar": [
                      {
                        "marker": {
                          "colorbar": {
                            "outlinewidth": 0,
                            "ticks": ""
                          }
                        },
                        "type": "scatterpolar"
                      }
                    ],
                    "scatterpolargl": [
                      {
                        "marker": {
                          "colorbar": {
                            "outlinewidth": 0,
                            "ticks": ""
                          }
                        },
                        "type": "scatterpolargl"
                      }
                    ],
                    "scatterternary": [
                      {
                        "marker": {
                          "colorbar": {
                            "outlinewidth": 0,
                            "ticks": ""
                          }
                        },
                        "type": "scatterternary"
                      }
                    ],
                    "surface": [
                      {
                        "colorbar": {
                          "outlinewidth": 0,
                          "ticks": ""
                        },
                        "colorscale": [
                          [
                            0,
                            "#0d0887"
                          ],
                          [
                            0.1111111111111111,
                            "#46039f"
                          ],
                          [
                            0.2222222222222222,
                            "#7201a8"
                          ],
                          [
                            0.3333333333333333,
                            "#9c179e"
                          ],
                          [
                            0.4444444444444444,
                            "#bd3786"
                          ],
                          [
                            0.5555555555555556,
                            "#d8576b"
                          ],
                          [
                            0.6666666666666666,
                            "#ed7953"
                          ],
                          [
                            0.7777777777777778,
                            "#fb9f3a"
                          ],
                          [
                            0.8888888888888888,
                            "#fdca26"
                          ],
                          [
                            1,
                            "#f0f921"
                          ]
                        ],
                        "type": "surface"
                      }
                    ],
                    "table": [
                      {
                        "cells": {
                          "fill": {
                            "color": "#EBF0F8"
                          },
                          "line": {
                            "color": "white"
                          }
                        },
                        "header": {
                          "fill": {
                            "color": "#C8D4E3"
                          },
                          "line": {
                            "color": "white"
                          }
                        },
                        "type": "table"
                      }
                    ]
                  },
                  "layout": {
                    "annotationdefaults": {
                      "arrowcolor": "#2a3f5f",
                      "arrowhead": 0,
                      "arrowwidth": 1
                    },
                    "autotypenumbers": "strict",
                    "coloraxis": {
                      "colorbar": {
                        "outlinewidth": 0,
                        "ticks": ""
                      }
                    },
                    "colorscale": {
                      "diverging": [
                        [
                          0,
                          "#8e0152"
                        ],
                        [
                          0.1,
                          "#c51b7d"
                        ],
                        [
                          0.2,
                          "#de77ae"
                        ],
                        [
                          0.3,
                          "#f1b6da"
                        ],
                        [
                          0.4,
                          "#fde0ef"
                        ],
                        [
                          0.5,
                          "#f7f7f7"
                        ],
                        [
                          0.6,
                          "#e6f5d0"
                        ],
                        [
                          0.7,
                          "#b8e186"
                        ],
                        [
                          0.8,
                          "#7fbc41"
                        ],
                        [
                          0.9,
                          "#4d9221"
                        ],
                        [
                          1,
                          "#276419"
                        ]
                      ],
                      "sequential": [
                        [
                          0,
                          "#0d0887"
                        ],
                        [
                          0.1111111111111111,
                          "#46039f"
                        ],
                        [
                          0.2222222222222222,
                          "#7201a8"
                        ],
                        [
                          0.3333333333333333,
                          "#9c179e"
                        ],
                        [
                          0.4444444444444444,
                          "#bd3786"
                        ],
                        [
                          0.5555555555555556,
                          "#d8576b"
                        ],
                        [
                          0.6666666666666666,
                          "#ed7953"
                        ],
                        [
                          0.7777777777777778,
                          "#fb9f3a"
                        ],
                        [
                          0.8888888888888888,
                          "#fdca26"
                        ],
                        [
                          1,
                          "#f0f921"
                        ]
                      ],
                      "sequentialminus": [
                        [
                          0,
                          "#0d0887"
                        ],
                        [
                          0.1111111111111111,
                          "#46039f"
                        ],
                        [
                          0.2222222222222222,
                          "#7201a8"
                        ],
                        [
                          0.3333333333333333,
                          "#9c179e"
                        ],
                        [
                          0.4444444444444444,
                          "#bd3786"
                        ],
                        [
                          0.5555555555555556,
                          "#d8576b"
                        ],
                        [
                          0.6666666666666666,
                          "#ed7953"
                        ],
                        [
                          0.7777777777777778,
                          "#fb9f3a"
                        ],
                        [
                          0.8888888888888888,
                          "#fdca26"
                        ],
                        [
                          1,
                          "#f0f921"
                        ]
                      ]
                    },
                    "colorway": [
                      "#636efa",
                      "#EF553B",
                      "#00cc96",
                      "#ab63fa",
                      "#FFA15A",
                      "#19d3f3",
                      "#FF6692",
                      "#B6E880",
                      "#FF97FF",
                      "#FECB52"
                    ],
                    "font": {
                      "color": "#2a3f5f"
                    },
                    "geo": {
                      "bgcolor": "white",
                      "lakecolor": "white",
                      "landcolor": "#E5ECF6",
                      "showlakes": true,
                      "showland": true,
                      "subunitcolor": "white"
                    },
                    "hoverlabel": {
                      "align": "left"
                    },
                    "hovermode": "closest",
                    "mapbox": {
                      "style": "light"
                    },
                    "paper_bgcolor": "white",
                    "plot_bgcolor": "#E5ECF6",
                    "polar": {
                      "angularaxis": {
                        "gridcolor": "white",
                        "linecolor": "white",
                        "ticks": ""
                      },
                      "bgcolor": "#E5ECF6",
                      "radialaxis": {
                        "gridcolor": "white",
                        "linecolor": "white",
                        "ticks": ""
                      }
                    },
                    "scene": {
                      "xaxis": {
                        "backgroundcolor": "#E5ECF6",
                        "gridcolor": "white",
                        "gridwidth": 2,
                        "linecolor": "white",
                        "showbackground": true,
                        "ticks": "",
                        "zerolinecolor": "white"
                      },
                      "yaxis": {
                        "backgroundcolor": "#E5ECF6",
                        "gridcolor": "white",
                        "gridwidth": 2,
                        "linecolor": "white",
                        "showbackground": true,
                        "ticks": "",
                        "zerolinecolor": "white"
                      },
                      "zaxis": {
                        "backgroundcolor": "#E5ECF6",
                        "gridcolor": "white",
                        "gridwidth": 2,
                        "linecolor": "white",
                        "showbackground": true,
                        "ticks": "",
                        "zerolinecolor": "white"
                      }
                    },
                    "shapedefaults": {
                      "line": {
                        "color": "#2a3f5f"
                      }
                    },
                    "ternary": {
                      "aaxis": {
                        "gridcolor": "white",
                        "linecolor": "white",
                        "ticks": ""
                      },
                      "baxis": {
                        "gridcolor": "white",
                        "linecolor": "white",
                        "ticks": ""
                      },
                      "bgcolor": "#E5ECF6",
                      "caxis": {
                        "gridcolor": "white",
                        "linecolor": "white",
                        "ticks": ""
                      }
                    },
                    "title": {
                      "x": 0.05
                    },
                    "xaxis": {
                      "automargin": true,
                      "gridcolor": "white",
                      "linecolor": "white",
                      "ticks": "",
                      "title": {
                        "standoff": 15
                      },
                      "zerolinecolor": "white",
                      "zerolinewidth": 2
                    },
                    "yaxis": {
                      "automargin": true,
                      "gridcolor": "white",
                      "linecolor": "white",
                      "ticks": "",
                      "title": {
                        "standoff": 15
                      },
                      "zerolinecolor": "white",
                      "zerolinewidth": 2
                    }
                  }
                },
                "title": {
                  "text": "Multivariate Bubble Chart: Curb Weight, Horsepower, Highway MPG vs Price"
                },
                "xaxis": {
                  "anchor": "y",
                  "domain": [
                    0,
                    1
                  ],
                  "title": {
                    "text": "Curb Weight"
                  }
                },
                "yaxis": {
                  "anchor": "x",
                  "domain": [
                    0,
                    1
                  ],
                  "title": {
                    "text": "Price ($)"
                  }
                }
              }
            }
          },
          "metadata": {},
          "output_type": "display_data"
        }
      ],
      "source": [
        "# Multivariate bubble plot\n",
        "# Visualizes how curb weight, horsepower, and highway MPG together relate to car price.\n",
        "# Heavier, powerful, low-MPG cars tend to be pricier; lighter, efficient cars cost less.\n",
        "\n",
        "\n",
        "fig = px.scatter(df,\n",
        "                 x='curb_weight',\n",
        "                 y='price',\n",
        "                 size='horse_power',\n",
        "                 color='highwaympg',\n",
        "                 hover_data=['brand', 'model', 'engine_size'],\n",
        "                 title='Multivariate Bubble Chart: Curb Weight, Horsepower, Highway MPG vs Price',\n",
        "                 labels={\n",
        "                     'curb_weight': 'Curb Weight',\n",
        "                     'price': 'Price ($)',\n",
        "                     'horse_power': 'Horse Power',\n",
        "                     'highwaympg': 'Highway MPG'\n",
        "                 },\n",
        "                 color_continuous_scale='Viridis')\n",
        "\n",
        "fig.update_layout(showlegend=True)\n",
        "fig.show()\n"
      ]
    },
    {
      "cell_type": "markdown",
      "metadata": {},
      "source": [
        "Observation shows that cars with greater weight and horsepower are more expensive but less fuel-efficient, whereas lighter, fuel-efficient models are typically more affordable."
      ]
    },
    {
      "cell_type": "markdown",
      "metadata": {},
      "source": [
        "## Price Hierarchy by Brand and Model"
      ]
    },
    {
      "cell_type": "code",
      "execution_count": null,
      "metadata": {},
      "outputs": [
        {
          "data": {
            "application/vnd.plotly.v1+json": {
              "config": {
                "plotlyServerURL": "https://plot.ly"
              },
              "data": [
                {
                  "branchvalues": "total",
                  "customdata": [
                    [
                      22470
                    ],
                    [
                      13200
                    ],
                    [
                      15905
                    ],
                    [
                      17075
                    ],
                    [
                      16900
                    ],
                    [
                      10698
                    ],
                    [
                      28176
                    ],
                    [
                      28248
                    ],
                    [
                      7788
                    ],
                    [
                      7898
                    ],
                    [
                      25552
                    ],
                    [
                      10795
                    ],
                    [
                      7099
                    ],
                    [
                      7995
                    ],
                    [
                      7775
                    ],
                    [
                      13845
                    ],
                    [
                      18344
                    ],
                    [
                      31600
                    ],
                    [
                      9495
                    ],
                    [
                      13950
                    ],
                    [
                      17580
                    ],
                    [
                      7975
                    ],
                    [
                      9295
                    ],
                    [
                      16230
                    ],
                    [
                      14892.5
                    ],
                    [
                      18735
                    ],
                    [
                      16515
                    ],
                    [
                      20522.5
                    ],
                    [
                      16677.5
                    ],
                    [
                      23875
                    ],
                    [
                      8495
                    ],
                    [
                      9895
                    ],
                    [
                      18920
                    ],
                    [
                      17859.167
                    ],
                    [
                      15201.25
                    ],
                    [
                      12440
                    ],
                    [
                      18150
                    ],
                    [
                      10345
                    ],
                    [
                      15235
                    ],
                    [
                      16830
                    ],
                    [
                      13605
                    ],
                    [
                      9982.25
                    ],
                    [
                      8916.5
                    ],
                    [
                      6785
                    ],
                    [
                      16500
                    ],
                    [
                      9095
                    ],
                    [
                      6529
                    ],
                    [
                      7295
                    ],
                    [
                      9960
                    ],
                    [
                      37028
                    ],
                    [
                      7775
                    ],
                    [
                      8778
                    ],
                    [
                      32714.25
                    ],
                    [
                      9298
                    ],
                    [
                      40960
                    ],
                    [
                      6377
                    ],
                    [
                      8274.333333333334
                    ],
                    [
                      10345
                    ],
                    [
                      9095
                    ],
                    [
                      7295
                    ],
                    [
                      6992
                    ],
                    [
                      13324
                    ],
                    [
                      7609
                    ],
                    [
                      6692
                    ],
                    [
                      9878.4
                    ],
                    [
                      6843
                    ],
                    [
                      7898
                    ],
                    [
                      12308
                    ],
                    [
                      9538
                    ],
                    [
                      9660
                    ],
                    [
                      6918
                    ],
                    [
                      8449
                    ],
                    [
                      5348
                    ],
                    [
                      8558
                    ],
                    [
                      12964
                    ],
                    [
                      16503
                    ],
                    [
                      17669
                    ],
                    [
                      7957
                    ],
                    [
                      7957
                    ],
                    [
                      8921
                    ],
                    [
                      11293.333333333334
                    ],
                    [
                      13499
                    ],
                    [
                      18950
                    ],
                    [
                      8590.75
                    ],
                    [
                      12764
                    ],
                    [
                      15250
                    ],
                    [
                      14399
                    ],
                    [
                      7609
                    ],
                    [
                      5900.5
                    ],
                    [
                      10352.333333333334
                    ],
                    [
                      13495
                    ],
                    [
                      15062.5
                    ],
                    [
                      15645
                    ],
                    [
                      10595
                    ],
                    [
                      8495
                    ],
                    [
                      6745
                    ],
                    [
                      5151
                    ],
                    [
                      7799
                    ],
                    [
                      19699
                    ],
                    [
                      6189
                    ],
                    [
                      7174
                    ],
                    [
                      7299
                    ],
                    [
                      22018
                    ],
                    [
                      9148
                    ],
                    [
                      5389
                    ],
                    [
                      11242.333333333334
                    ],
                    [
                      6229
                    ],
                    [
                      6295
                    ],
                    [
                      6989
                    ],
                    [
                      7999
                    ],
                    [
                      9549
                    ],
                    [
                      34184
                    ],
                    [
                      13499
                    ],
                    [
                      9525.666666666666
                    ],
                    [
                      8189
                    ],
                    [
                      32528
                    ],
                    [
                      8845
                    ],
                    [
                      9233
                    ],
                    [
                      11259
                    ],
                    [
                      11637.5
                    ],
                    [
                      5572
                    ],
                    [
                      45400
                    ],
                    [
                      7799
                    ],
                    [
                      8470
                    ],
                    [
                      13645
                    ],
                    [
                      6795
                    ],
                    [
                      5195
                    ],
                    [
                      6692
                    ],
                    [
                      35056
                    ],
                    [
                      12839.5
                    ],
                    [
                      16500
                    ],
                    [
                      17199
                    ],
                    [
                      13474.5
                    ],
                    [
                      7349
                    ],
                    [
                      7463
                    ],
                    [
                      10198
                    ],
                    [
                      8195
                    ],
                    [
                      8921
                    ],
                    [
                      6575
                    ],
                    [
                      5499
                    ],
                    [
                      20970
                    ],
                    [
                      28992.5
                    ],
                    [
                      30760
                    ],
                    [
                      41315
                    ],
                    [
                      35550
                    ],
                    [
                      32250
                    ],
                    [
                      36000
                    ],
                    [
                      24565
                    ],
                    [
                      13950
                    ],
                    [
                      17580
                    ],
                    [
                      7975
                    ],
                    [
                      9295
                    ],
                    [
                      16230
                    ],
                    [
                      14892.5
                    ],
                    [
                      18735
                    ],
                    [
                      16515
                    ],
                    [
                      22470
                    ],
                    [
                      20522.5
                    ],
                    [
                      13200
                    ],
                    [
                      16677.5
                    ],
                    [
                      23875
                    ],
                    [
                      8495
                    ],
                    [
                      9895
                    ],
                    [
                      18920
                    ],
                    [
                      17859.167
                    ],
                    [
                      15561.085844886478
                    ],
                    [
                      12440
                    ],
                    [
                      17075
                    ],
                    [
                      17547.28958630528
                    ],
                    [
                      10345
                    ],
                    [
                      15235
                    ],
                    [
                      16830
                    ],
                    [
                      13605
                    ],
                    [
                      9982.25
                    ],
                    [
                      8916.5
                    ],
                    [
                      6785
                    ],
                    [
                      16500
                    ],
                    [
                      9095
                    ],
                    [
                      6529
                    ],
                    [
                      7295
                    ],
                    [
                      9960
                    ],
                    [
                      37028
                    ],
                    [
                      7775
                    ],
                    [
                      8778
                    ],
                    [
                      32714.25
                    ],
                    [
                      10698
                    ],
                    [
                      9298
                    ],
                    [
                      28176
                    ],
                    [
                      28248
                    ],
                    [
                      40960
                    ],
                    [
                      6377
                    ],
                    [
                      8274.333333333334
                    ],
                    [
                      10345
                    ],
                    [
                      9095
                    ],
                    [
                      7295
                    ],
                    [
                      6992
                    ],
                    [
                      13324
                    ],
                    [
                      7609
                    ],
                    [
                      6692
                    ],
                    [
                      8956.874663768509
                    ],
                    [
                      6843
                    ],
                    [
                      7898
                    ],
                    [
                      12308
                    ],
                    [
                      9538
                    ],
                    [
                      8867.411094657706
                    ],
                    [
                      6918
                    ],
                    [
                      8449
                    ],
                    [
                      5348
                    ],
                    [
                      8558
                    ],
                    [
                      12964
                    ],
                    [
                      16503
                    ],
                    [
                      17669
                    ],
                    [
                      7957
                    ],
                    [
                      7957
                    ],
                    [
                      8921
                    ],
                    [
                      11293.333333333334
                    ],
                    [
                      13499
                    ],
                    [
                      18950
                    ],
                    [
                      8590.75
                    ],
                    [
                      12764
                    ],
                    [
                      25552
                    ],
                    [
                      15250
                    ],
                    [
                      14399
                    ],
                    [
                      7609
                    ],
                    [
                      5900.5
                    ],
                    [
                      10352.333333333334
                    ],
                    [
                      13495
                    ],
                    [
                      15062.5
                    ],
                    [
                      15645
                    ],
                    [
                      10595
                    ],
                    [
                      8495
                    ],
                    [
                      9237.574116305586
                    ],
                    [
                      7099
                    ],
                    [
                      5151
                    ],
                    [
                      7799
                    ],
                    [
                      19699
                    ],
                    [
                      6189
                    ],
                    [
                      7174
                    ],
                    [
                      7299
                    ],
                    [
                      22018
                    ],
                    [
                      9148
                    ],
                    [
                      5389
                    ],
                    [
                      11242.333333333334
                    ],
                    [
                      7995
                    ],
                    [
                      6229
                    ],
                    [
                      6295
                    ],
                    [
                      6989
                    ],
                    [
                      7999
                    ],
                    [
                      9549
                    ],
                    [
                      34184
                    ],
                    [
                      13499
                    ],
                    [
                      9525.666666666666
                    ],
                    [
                      8189
                    ],
                    [
                      32528
                    ],
                    [
                      8845
                    ],
                    [
                      9233
                    ],
                    [
                      11259
                    ],
                    [
                      10090.510302640052
                    ],
                    [
                      13845
                    ],
                    [
                      5572
                    ],
                    [
                      45400
                    ],
                    [
                      7799
                    ],
                    [
                      8470
                    ],
                    [
                      16339.628028384757
                    ],
                    [
                      6795
                    ],
                    [
                      5195
                    ],
                    [
                      6692
                    ],
                    [
                      31600
                    ],
                    [
                      35056
                    ],
                    [
                      12839.5
                    ],
                    [
                      16500
                    ],
                    [
                      9495
                    ],
                    [
                      17199
                    ],
                    [
                      13474.5
                    ],
                    [
                      7349
                    ],
                    [
                      7463
                    ],
                    [
                      10198
                    ],
                    [
                      8195
                    ],
                    [
                      8921
                    ],
                    [
                      6575
                    ],
                    [
                      5499
                    ],
                    [
                      20970
                    ],
                    [
                      28992.5
                    ],
                    [
                      30760
                    ],
                    [
                      41315
                    ],
                    [
                      35550
                    ],
                    [
                      32250
                    ],
                    [
                      36000
                    ],
                    [
                      24565
                    ],
                    [
                      15627.809979567695
                    ],
                    [
                      18459.24184374128
                    ],
                    [
                      29489.165926629103
                    ],
                    [
                      34845.795226914735
                    ],
                    [
                      6070.165418123301
                    ],
                    [
                      8428.395561449795
                    ],
                    [
                      8365.794869014051
                    ],
                    [
                      8767.62592349248
                    ],
                    [
                      34680.78034682081
                    ],
                    [
                      12239.153220012066
                    ],
                    [
                      16503
                    ],
                    [
                      8769.561657326829
                    ],
                    [
                      12245.895436127776
                    ],
                    [
                      15795.067582695156
                    ],
                    [
                      8894.107180474886
                    ],
                    [
                      32528
                    ],
                    [
                      31888.396784691628
                    ],
                    [
                      9604.379885356957
                    ],
                    [
                      15337.204948543902
                    ],
                    [
                      9385.45107593587
                    ],
                    [
                      10512.374446687925
                    ],
                    [
                      10058.19476614735
                    ],
                    [
                      18658.156197638622
                    ]
                  ],
                  "domain": {
                    "x": [
                      0,
                      1
                    ],
                    "y": [
                      0,
                      1
                    ]
                  },
                  "hovertemplate": "labels=%{label}<br>price_sum=%{value}<br>parent=%{parent}<br>id=%{id}<br>price=%{color}<extra></extra>",
                  "ids": [
                    "volvo/246/diesel",
                    "peugeot/304/diesel",
                    "peugeot/504/diesel",
                    "peugeot/505s turbo diesel/diesel",
                    "peugeot/604sl/diesel",
                    "toyota/celica gt/diesel",
                    "buick/century/diesel",
                    "buick/century luxus (sw)/diesel",
                    "toyota/corolla/diesel",
                    "toyota/corona/diesel",
                    "buick/electra 225 custom/diesel",
                    "mazda/glc deluxe/diesel",
                    "nissan/gt-r/diesel",
                    "volkswagen/model 111/diesel",
                    "volkswagen/rabbit/diesel",
                    "volkswagen/rabbit custom/diesel",
                    "mazda/rx-7 gs/diesel",
                    "buick/skyhawk/diesel",
                    "volkswagen/super beetle/diesel",
                    "audi/100 ls/gas",
                    "audi/100ls/gas",
                    "volkswagen/1131 deluxe sedan/gas",
                    "renault/12tl/gas",
                    "volvo/144ea/gas",
                    "volvo/145e (sw)/gas",
                    "volvo/244dl/gas",
                    "volvo/245/gas",
                    "volvo/264gl/gas",
                    "bmw/320i/gas",
                    "audi/4000/gas",
                    "volkswagen/411 (sw)/gas",
                    "renault/5 gtl/gas",
                    "audi/5000/gas",
                    "audi/5000s (diesel)/gas",
                    "peugeot/504/gas",
                    "peugeot/504 (sw)/gas",
                    "peugeot/604sl/gas",
                    "mazda/626/gas",
                    "saab/99e/gas",
                    "saab/99gle/gas",
                    "saab/99le/gas",
                    "isuzu/D-Max /gas",
                    "isuzu/D-Max V-Cross/gas",
                    "isuzu/MU-X/gas",
                    "alfa romeo/Quadrifoglio/gas",
                    "honda/accord/gas",
                    "honda/accord cvcc/gas",
                    "honda/accord lx/gas",
                    "subaru/baja/gas",
                    "porsche/boxter/gas",
                    "subaru/brz/gas",
                    "toyota/carina/gas",
                    "porsche/cayenne/gas",
                    "toyota/celica gt liftback/gas",
                    "buick/century special/gas",
                    "dodge/challenger se/gas",
                    "honda/civic/gas",
                    "honda/civic (auto)/gas",
                    "honda/civic 1300/gas",
                    "honda/civic 1500 gl/gas",
                    "honda/civic cvcc/gas",
                    "nissan/clipper/gas",
                    "dodge/colt (sw)/gas",
                    "dodge/colt hardtop/gas",
                    "toyota/corolla/gas",
                    "toyota/corolla 1200/gas",
                    "toyota/corolla 1600 (sw)/gas",
                    "toyota/corolla liftback/gas",
                    "toyota/corolla tercel/gas",
                    "toyota/corona/gas",
                    "toyota/corona hardtop/gas",
                    "toyota/corona liftback/gas",
                    "toyota/corona mark ii/gas",
                    "dodge/coronet custom/gas",
                    "dodge/coronet custom (sw)/gas",
                    "mercury/cougar/gas",
                    "toyota/cressida/gas",
                    "plymouth/cricket/gas",
                    "dodge/d200/gas",
                    "dodge/dart custom/gas",
                    "volkswagen/dasher/gas",
                    "nissan/dayz/gas",
                    "volvo/diesel/gas",
                    "subaru/dl/gas",
                    "plymouth/duster/gas",
                    "audi/fox/gas",
                    "nissan/fuga/gas",
                    "plymouth/fury gran sedan/gas",
                    "plymouth/fury iii/gas",
                    "mitsubishi/g4/gas",
                    "alfa romeo/giulia/gas",
                    "mazda/glc/gas",
                    "mazda/glc 4/gas",
                    "mazda/glc custom/gas",
                    "mazda/glc custom l/gas",
                    "mazda/glc deluxe/gas",
                    "chevrolet/impala/gas",
                    "nissan/juke/gas",
                    "nissan/kicks/gas",
                    "mitsubishi/lancer/gas",
                    "nissan/latio/gas",
                    "nissan/leaf/gas",
                    "porsche/macan/gas",
                    "toyota/mark ii/gas",
                    "mitsubishi/mirage/gas",
                    "mitsubishi/mirage g4/gas",
                    "dodge/monaco (sw)/gas",
                    "chevrolet/monte carlo/gas",
                    "mitsubishi/montero/gas",
                    "nissan/note/gas",
                    "nissan/nv200/gas",
                    "buick/opel isuzu deluxe/gas",
                    "nissan/otti/gas",
                    "mitsubishi/outlander/gas",
                    "mitsubishi/pajero/gas",
                    "porcshce/panamera/gas",
                    "honda/prelude/gas",
                    "subaru/r1/gas",
                    "subaru/r2/gas",
                    "volkswagen/rabbit/gas",
                    "dodge/rampage/gas",
                    "buick/regal sport coupe (turbo)/gas",
                    "nissan/rogue/gas",
                    "mazda/rx-4/gas",
                    "mazda/rx-7 gs/gas",
                    "mazda/rx2 coupe/gas",
                    "mazda/rx3/gas",
                    "plymouth/satellite custom (sw)/gas",
                    "buick/skylark/gas",
                    "toyota/starlet/gas",
                    "alfa romeo/stelvio/gas",
                    "nissan/teana/gas",
                    "toyota/tercel/gas",
                    "nissan/titan/gas",
                    "subaru/trezia/gas",
                    "subaru/tribeca/gas",
                    "volkswagen/type 3/gas",
                    "plymouth/valiant/gas",
                    "chevrolet/vega 2300/gas",
                    "nissan/versa/gas",
                    "bmw/x1/gas",
                    "bmw/x3/gas",
                    "bmw/x4/gas",
                    "bmw/x5/gas",
                    "jaguar/xf/gas",
                    "jaguar/xj/gas",
                    "jaguar/xk/gas",
                    "bmw/z4/gas",
                    "audi/100 ls",
                    "audi/100ls",
                    "volkswagen/1131 deluxe sedan",
                    "renault/12tl",
                    "volvo/144ea",
                    "volvo/145e (sw)",
                    "volvo/244dl",
                    "volvo/245",
                    "volvo/246",
                    "volvo/264gl",
                    "peugeot/304",
                    "bmw/320i",
                    "audi/4000",
                    "volkswagen/411 (sw)",
                    "renault/5 gtl",
                    "audi/5000",
                    "audi/5000s (diesel)",
                    "peugeot/504",
                    "peugeot/504 (sw)",
                    "peugeot/505s turbo diesel",
                    "peugeot/604sl",
                    "mazda/626",
                    "saab/99e",
                    "saab/99gle",
                    "saab/99le",
                    "isuzu/D-Max ",
                    "isuzu/D-Max V-Cross",
                    "isuzu/MU-X",
                    "alfa romeo/Quadrifoglio",
                    "honda/accord",
                    "honda/accord cvcc",
                    "honda/accord lx",
                    "subaru/baja",
                    "porsche/boxter",
                    "subaru/brz",
                    "toyota/carina",
                    "porsche/cayenne",
                    "toyota/celica gt",
                    "toyota/celica gt liftback",
                    "buick/century",
                    "buick/century luxus (sw)",
                    "buick/century special",
                    "dodge/challenger se",
                    "honda/civic",
                    "honda/civic (auto)",
                    "honda/civic 1300",
                    "honda/civic 1500 gl",
                    "honda/civic cvcc",
                    "nissan/clipper",
                    "dodge/colt (sw)",
                    "dodge/colt hardtop",
                    "toyota/corolla",
                    "toyota/corolla 1200",
                    "toyota/corolla 1600 (sw)",
                    "toyota/corolla liftback",
                    "toyota/corolla tercel",
                    "toyota/corona",
                    "toyota/corona hardtop",
                    "toyota/corona liftback",
                    "toyota/corona mark ii",
                    "dodge/coronet custom",
                    "dodge/coronet custom (sw)",
                    "mercury/cougar",
                    "toyota/cressida",
                    "plymouth/cricket",
                    "dodge/d200",
                    "dodge/dart custom",
                    "volkswagen/dasher",
                    "nissan/dayz",
                    "volvo/diesel",
                    "subaru/dl",
                    "plymouth/duster",
                    "buick/electra 225 custom",
                    "audi/fox",
                    "nissan/fuga",
                    "plymouth/fury gran sedan",
                    "plymouth/fury iii",
                    "mitsubishi/g4",
                    "alfa romeo/giulia",
                    "mazda/glc",
                    "mazda/glc 4",
                    "mazda/glc custom",
                    "mazda/glc custom l",
                    "mazda/glc deluxe",
                    "nissan/gt-r",
                    "chevrolet/impala",
                    "nissan/juke",
                    "nissan/kicks",
                    "mitsubishi/lancer",
                    "nissan/latio",
                    "nissan/leaf",
                    "porsche/macan",
                    "toyota/mark ii",
                    "mitsubishi/mirage",
                    "mitsubishi/mirage g4",
                    "volkswagen/model 111",
                    "dodge/monaco (sw)",
                    "chevrolet/monte carlo",
                    "mitsubishi/montero",
                    "nissan/note",
                    "nissan/nv200",
                    "buick/opel isuzu deluxe",
                    "nissan/otti",
                    "mitsubishi/outlander",
                    "mitsubishi/pajero",
                    "porcshce/panamera",
                    "honda/prelude",
                    "subaru/r1",
                    "subaru/r2",
                    "volkswagen/rabbit",
                    "volkswagen/rabbit custom",
                    "dodge/rampage",
                    "buick/regal sport coupe (turbo)",
                    "nissan/rogue",
                    "mazda/rx-4",
                    "mazda/rx-7 gs",
                    "mazda/rx2 coupe",
                    "mazda/rx3",
                    "plymouth/satellite custom (sw)",
                    "buick/skyhawk",
                    "buick/skylark",
                    "toyota/starlet",
                    "alfa romeo/stelvio",
                    "volkswagen/super beetle",
                    "nissan/teana",
                    "toyota/tercel",
                    "nissan/titan",
                    "subaru/trezia",
                    "subaru/tribeca",
                    "volkswagen/type 3",
                    "plymouth/valiant",
                    "chevrolet/vega 2300",
                    "nissan/versa",
                    "bmw/x1",
                    "bmw/x3",
                    "bmw/x4",
                    "bmw/x5",
                    "jaguar/xf",
                    "jaguar/xj",
                    "jaguar/xk",
                    "bmw/z4",
                    "alfa romeo",
                    "audi",
                    "bmw",
                    "buick",
                    "chevrolet",
                    "dodge",
                    "honda",
                    "isuzu",
                    "jaguar",
                    "mazda",
                    "mercury",
                    "mitsubishi",
                    "nissan",
                    "peugeot",
                    "plymouth",
                    "porcshce",
                    "porsche",
                    "renault",
                    "saab",
                    "subaru",
                    "toyota",
                    "volkswagen",
                    "volvo"
                  ],
                  "labels": [
                    "diesel",
                    "diesel",
                    "diesel",
                    "diesel",
                    "diesel",
                    "diesel",
                    "diesel",
                    "diesel",
                    "diesel",
                    "diesel",
                    "diesel",
                    "diesel",
                    "diesel",
                    "diesel",
                    "diesel",
                    "diesel",
                    "diesel",
                    "diesel",
                    "diesel",
                    "gas",
                    "gas",
                    "gas",
                    "gas",
                    "gas",
                    "gas",
                    "gas",
                    "gas",
                    "gas",
                    "gas",
                    "gas",
                    "gas",
                    "gas",
                    "gas",
                    "gas",
                    "gas",
                    "gas",
                    "gas",
                    "gas",
                    "gas",
                    "gas",
                    "gas",
                    "gas",
                    "gas",
                    "gas",
                    "gas",
                    "gas",
                    "gas",
                    "gas",
                    "gas",
                    "gas",
                    "gas",
                    "gas",
                    "gas",
                    "gas",
                    "gas",
                    "gas",
                    "gas",
                    "gas",
                    "gas",
                    "gas",
                    "gas",
                    "gas",
                    "gas",
                    "gas",
                    "gas",
                    "gas",
                    "gas",
                    "gas",
                    "gas",
                    "gas",
                    "gas",
                    "gas",
                    "gas",
                    "gas",
                    "gas",
                    "gas",
                    "gas",
                    "gas",
                    "gas",
                    "gas",
                    "gas",
                    "gas",
                    "gas",
                    "gas",
                    "gas",
                    "gas",
                    "gas",
                    "gas",
                    "gas",
                    "gas",
                    "gas",
                    "gas",
                    "gas",
                    "gas",
                    "gas",
                    "gas",
                    "gas",
                    "gas",
                    "gas",
                    "gas",
                    "gas",
                    "gas",
                    "gas",
                    "gas",
                    "gas",
                    "gas",
                    "gas",
                    "gas",
                    "gas",
                    "gas",
                    "gas",
                    "gas",
                    "gas",
                    "gas",
                    "gas",
                    "gas",
                    "gas",
                    "gas",
                    "gas",
                    "gas",
                    "gas",
                    "gas",
                    "gas",
                    "gas",
                    "gas",
                    "gas",
                    "gas",
                    "gas",
                    "gas",
                    "gas",
                    "gas",
                    "gas",
                    "gas",
                    "gas",
                    "gas",
                    "gas",
                    "gas",
                    "gas",
                    "gas",
                    "gas",
                    "gas",
                    "gas",
                    "gas",
                    "gas",
                    "gas",
                    "gas",
                    "gas",
                    "gas",
                    "100 ls",
                    "100ls",
                    "1131 deluxe sedan",
                    "12tl",
                    "144ea",
                    "145e (sw)",
                    "244dl",
                    "245",
                    "246",
                    "264gl",
                    "304",
                    "320i",
                    "4000",
                    "411 (sw)",
                    "5 gtl",
                    "5000",
                    "5000s (diesel)",
                    "504",
                    "504 (sw)",
                    "505s turbo diesel",
                    "604sl",
                    "626",
                    "99e",
                    "99gle",
                    "99le",
                    "D-Max ",
                    "D-Max V-Cross",
                    "MU-X",
                    "Quadrifoglio",
                    "accord",
                    "accord cvcc",
                    "accord lx",
                    "baja",
                    "boxter",
                    "brz",
                    "carina",
                    "cayenne",
                    "celica gt",
                    "celica gt liftback",
                    "century",
                    "century luxus (sw)",
                    "century special",
                    "challenger se",
                    "civic",
                    "civic (auto)",
                    "civic 1300",
                    "civic 1500 gl",
                    "civic cvcc",
                    "clipper",
                    "colt (sw)",
                    "colt hardtop",
                    "corolla",
                    "corolla 1200",
                    "corolla 1600 (sw)",
                    "corolla liftback",
                    "corolla tercel",
                    "corona",
                    "corona hardtop",
                    "corona liftback",
                    "corona mark ii",
                    "coronet custom",
                    "coronet custom (sw)",
                    "cougar",
                    "cressida",
                    "cricket",
                    "d200",
                    "dart custom",
                    "dasher",
                    "dayz",
                    "diesel",
                    "dl",
                    "duster",
                    "electra 225 custom",
                    "fox",
                    "fuga",
                    "fury gran sedan",
                    "fury iii",
                    "g4",
                    "giulia",
                    "glc",
                    "glc 4",
                    "glc custom",
                    "glc custom l",
                    "glc deluxe",
                    "gt-r",
                    "impala",
                    "juke",
                    "kicks",
                    "lancer",
                    "latio",
                    "leaf",
                    "macan",
                    "mark ii",
                    "mirage",
                    "mirage g4",
                    "model 111",
                    "monaco (sw)",
                    "monte carlo",
                    "montero",
                    "note",
                    "nv200",
                    "opel isuzu deluxe",
                    "otti",
                    "outlander",
                    "pajero",
                    "panamera",
                    "prelude",
                    "r1",
                    "r2",
                    "rabbit",
                    "rabbit custom",
                    "rampage",
                    "regal sport coupe (turbo)",
                    "rogue",
                    "rx-4",
                    "rx-7 gs",
                    "rx2 coupe",
                    "rx3",
                    "satellite custom (sw)",
                    "skyhawk",
                    "skylark",
                    "starlet",
                    "stelvio",
                    "super beetle",
                    "teana",
                    "tercel",
                    "titan",
                    "trezia",
                    "tribeca",
                    "type 3",
                    "valiant",
                    "vega 2300",
                    "versa",
                    "x1",
                    "x3",
                    "x4",
                    "x5",
                    "xf",
                    "xj",
                    "xk",
                    "z4",
                    "alfa romeo",
                    "audi",
                    "bmw",
                    "buick",
                    "chevrolet",
                    "dodge",
                    "honda",
                    "isuzu",
                    "jaguar",
                    "mazda",
                    "mercury",
                    "mitsubishi",
                    "nissan",
                    "peugeot",
                    "plymouth",
                    "porcshce",
                    "porsche",
                    "renault",
                    "saab",
                    "subaru",
                    "toyota",
                    "volkswagen",
                    "volvo"
                  ],
                  "marker": {
                    "coloraxis": "coloraxis",
                    "colors": [
                      22470,
                      13200,
                      15905,
                      17075,
                      16900,
                      10698,
                      28176,
                      28248,
                      7788,
                      7898,
                      25552,
                      10795,
                      7099,
                      7995,
                      7775,
                      13845,
                      18344,
                      31600,
                      9495,
                      13950,
                      17580,
                      7975,
                      9295,
                      16230,
                      14892.5,
                      18735,
                      16515,
                      20522.5,
                      16677.5,
                      23875,
                      8495,
                      9895,
                      18920,
                      17859.167,
                      15201.25,
                      12440,
                      18150,
                      10345,
                      15235,
                      16830,
                      13605,
                      9982.25,
                      8916.5,
                      6785,
                      16500,
                      9095,
                      6529,
                      7295,
                      9960,
                      37028,
                      7775,
                      8778,
                      32714.25,
                      9298,
                      40960,
                      6377,
                      8274.333333333334,
                      10345,
                      9095,
                      7295,
                      6992,
                      13324,
                      7609,
                      6692,
                      9878.4,
                      6843,
                      7898,
                      12308,
                      9538,
                      9660,
                      6918,
                      8449,
                      5348,
                      8558,
                      12964,
                      16503,
                      17669,
                      7957,
                      7957,
                      8921,
                      11293.333333333334,
                      13499,
                      18950,
                      8590.75,
                      12764,
                      15250,
                      14399,
                      7609,
                      5900.5,
                      10352.333333333334,
                      13495,
                      15062.5,
                      15645,
                      10595,
                      8495,
                      6745,
                      5151,
                      7799,
                      19699,
                      6189,
                      7174,
                      7299,
                      22018,
                      9148,
                      5389,
                      11242.333333333334,
                      6229,
                      6295,
                      6989,
                      7999,
                      9549,
                      34184,
                      13499,
                      9525.666666666666,
                      8189,
                      32528,
                      8845,
                      9233,
                      11259,
                      11637.5,
                      5572,
                      45400,
                      7799,
                      8470,
                      13645,
                      6795,
                      5195,
                      6692,
                      35056,
                      12839.5,
                      16500,
                      17199,
                      13474.5,
                      7349,
                      7463,
                      10198,
                      8195,
                      8921,
                      6575,
                      5499,
                      20970,
                      28992.5,
                      30760,
                      41315,
                      35550,
                      32250,
                      36000,
                      24565,
                      13950,
                      17580,
                      7975,
                      9295,
                      16230,
                      14892.5,
                      18735,
                      16515,
                      22470,
                      20522.5,
                      13200,
                      16677.5,
                      23875,
                      8495,
                      9895,
                      18920,
                      17859.167,
                      15561.085844886478,
                      12440,
                      17075,
                      17547.28958630528,
                      10345,
                      15235,
                      16830,
                      13605,
                      9982.25,
                      8916.5,
                      6785,
                      16500,
                      9095,
                      6529,
                      7295,
                      9960,
                      37028,
                      7775,
                      8778,
                      32714.25,
                      10698,
                      9298,
                      28176,
                      28248,
                      40960,
                      6377,
                      8274.333333333334,
                      10345,
                      9095,
                      7295,
                      6992,
                      13324,
                      7609,
                      6692,
                      8956.874663768509,
                      6843,
                      7898,
                      12308,
                      9538,
                      8867.411094657706,
                      6918,
                      8449,
                      5348,
                      8558,
                      12964,
                      16503,
                      17669,
                      7957,
                      7957,
                      8921,
                      11293.333333333334,
                      13499,
                      18950,
                      8590.75,
                      12764,
                      25552,
                      15250,
                      14399,
                      7609,
                      5900.5,
                      10352.333333333334,
                      13495,
                      15062.5,
                      15645,
                      10595,
                      8495,
                      9237.574116305586,
                      7099,
                      5151,
                      7799,
                      19699,
                      6189,
                      7174,
                      7299,
                      22018,
                      9148,
                      5389,
                      11242.333333333334,
                      7995,
                      6229,
                      6295,
                      6989,
                      7999,
                      9549,
                      34184,
                      13499,
                      9525.666666666666,
                      8189,
                      32528,
                      8845,
                      9233,
                      11259,
                      10090.510302640052,
                      13845,
                      5572,
                      45400,
                      7799,
                      8470,
                      16339.628028384757,
                      6795,
                      5195,
                      6692,
                      31600,
                      35056,
                      12839.5,
                      16500,
                      9495,
                      17199,
                      13474.5,
                      7349,
                      7463,
                      10198,
                      8195,
                      8921,
                      6575,
                      5499,
                      20970,
                      28992.5,
                      30760,
                      41315,
                      35550,
                      32250,
                      36000,
                      24565,
                      15627.809979567695,
                      18459.24184374128,
                      29489.165926629103,
                      34845.795226914735,
                      6070.165418123301,
                      8428.395561449795,
                      8365.794869014051,
                      8767.62592349248,
                      34680.78034682081,
                      12239.153220012066,
                      16503,
                      8769.561657326829,
                      12245.895436127776,
                      15795.067582695156,
                      8894.107180474886,
                      32528,
                      31888.396784691628,
                      9604.379885356957,
                      15337.204948543902,
                      9385.45107593587,
                      10512.374446687925,
                      10058.19476614735,
                      18658.156197638622
                    ]
                  },
                  "maxdepth": 2,
                  "name": "",
                  "parents": [
                    "volvo/246",
                    "peugeot/304",
                    "peugeot/504",
                    "peugeot/505s turbo diesel",
                    "peugeot/604sl",
                    "toyota/celica gt",
                    "buick/century",
                    "buick/century luxus (sw)",
                    "toyota/corolla",
                    "toyota/corona",
                    "buick/electra 225 custom",
                    "mazda/glc deluxe",
                    "nissan/gt-r",
                    "volkswagen/model 111",
                    "volkswagen/rabbit",
                    "volkswagen/rabbit custom",
                    "mazda/rx-7 gs",
                    "buick/skyhawk",
                    "volkswagen/super beetle",
                    "audi/100 ls",
                    "audi/100ls",
                    "volkswagen/1131 deluxe sedan",
                    "renault/12tl",
                    "volvo/144ea",
                    "volvo/145e (sw)",
                    "volvo/244dl",
                    "volvo/245",
                    "volvo/264gl",
                    "bmw/320i",
                    "audi/4000",
                    "volkswagen/411 (sw)",
                    "renault/5 gtl",
                    "audi/5000",
                    "audi/5000s (diesel)",
                    "peugeot/504",
                    "peugeot/504 (sw)",
                    "peugeot/604sl",
                    "mazda/626",
                    "saab/99e",
                    "saab/99gle",
                    "saab/99le",
                    "isuzu/D-Max ",
                    "isuzu/D-Max V-Cross",
                    "isuzu/MU-X",
                    "alfa romeo/Quadrifoglio",
                    "honda/accord",
                    "honda/accord cvcc",
                    "honda/accord lx",
                    "subaru/baja",
                    "porsche/boxter",
                    "subaru/brz",
                    "toyota/carina",
                    "porsche/cayenne",
                    "toyota/celica gt liftback",
                    "buick/century special",
                    "dodge/challenger se",
                    "honda/civic",
                    "honda/civic (auto)",
                    "honda/civic 1300",
                    "honda/civic 1500 gl",
                    "honda/civic cvcc",
                    "nissan/clipper",
                    "dodge/colt (sw)",
                    "dodge/colt hardtop",
                    "toyota/corolla",
                    "toyota/corolla 1200",
                    "toyota/corolla 1600 (sw)",
                    "toyota/corolla liftback",
                    "toyota/corolla tercel",
                    "toyota/corona",
                    "toyota/corona hardtop",
                    "toyota/corona liftback",
                    "toyota/corona mark ii",
                    "dodge/coronet custom",
                    "dodge/coronet custom (sw)",
                    "mercury/cougar",
                    "toyota/cressida",
                    "plymouth/cricket",
                    "dodge/d200",
                    "dodge/dart custom",
                    "volkswagen/dasher",
                    "nissan/dayz",
                    "volvo/diesel",
                    "subaru/dl",
                    "plymouth/duster",
                    "audi/fox",
                    "nissan/fuga",
                    "plymouth/fury gran sedan",
                    "plymouth/fury iii",
                    "mitsubishi/g4",
                    "alfa romeo/giulia",
                    "mazda/glc",
                    "mazda/glc 4",
                    "mazda/glc custom",
                    "mazda/glc custom l",
                    "mazda/glc deluxe",
                    "chevrolet/impala",
                    "nissan/juke",
                    "nissan/kicks",
                    "mitsubishi/lancer",
                    "nissan/latio",
                    "nissan/leaf",
                    "porsche/macan",
                    "toyota/mark ii",
                    "mitsubishi/mirage",
                    "mitsubishi/mirage g4",
                    "dodge/monaco (sw)",
                    "chevrolet/monte carlo",
                    "mitsubishi/montero",
                    "nissan/note",
                    "nissan/nv200",
                    "buick/opel isuzu deluxe",
                    "nissan/otti",
                    "mitsubishi/outlander",
                    "mitsubishi/pajero",
                    "porcshce/panamera",
                    "honda/prelude",
                    "subaru/r1",
                    "subaru/r2",
                    "volkswagen/rabbit",
                    "dodge/rampage",
                    "buick/regal sport coupe (turbo)",
                    "nissan/rogue",
                    "mazda/rx-4",
                    "mazda/rx-7 gs",
                    "mazda/rx2 coupe",
                    "mazda/rx3",
                    "plymouth/satellite custom (sw)",
                    "buick/skylark",
                    "toyota/starlet",
                    "alfa romeo/stelvio",
                    "nissan/teana",
                    "toyota/tercel",
                    "nissan/titan",
                    "subaru/trezia",
                    "subaru/tribeca",
                    "volkswagen/type 3",
                    "plymouth/valiant",
                    "chevrolet/vega 2300",
                    "nissan/versa",
                    "bmw/x1",
                    "bmw/x3",
                    "bmw/x4",
                    "bmw/x5",
                    "jaguar/xf",
                    "jaguar/xj",
                    "jaguar/xk",
                    "bmw/z4",
                    "audi",
                    "audi",
                    "volkswagen",
                    "renault",
                    "volvo",
                    "volvo",
                    "volvo",
                    "volvo",
                    "volvo",
                    "volvo",
                    "peugeot",
                    "bmw",
                    "audi",
                    "volkswagen",
                    "renault",
                    "audi",
                    "audi",
                    "peugeot",
                    "peugeot",
                    "peugeot",
                    "peugeot",
                    "mazda",
                    "saab",
                    "saab",
                    "saab",
                    "isuzu",
                    "isuzu",
                    "isuzu",
                    "alfa romeo",
                    "honda",
                    "honda",
                    "honda",
                    "subaru",
                    "porsche",
                    "subaru",
                    "toyota",
                    "porsche",
                    "toyota",
                    "toyota",
                    "buick",
                    "buick",
                    "buick",
                    "dodge",
                    "honda",
                    "honda",
                    "honda",
                    "honda",
                    "honda",
                    "nissan",
                    "dodge",
                    "dodge",
                    "toyota",
                    "toyota",
                    "toyota",
                    "toyota",
                    "toyota",
                    "toyota",
                    "toyota",
                    "toyota",
                    "toyota",
                    "dodge",
                    "dodge",
                    "mercury",
                    "toyota",
                    "plymouth",
                    "dodge",
                    "dodge",
                    "volkswagen",
                    "nissan",
                    "volvo",
                    "subaru",
                    "plymouth",
                    "buick",
                    "audi",
                    "nissan",
                    "plymouth",
                    "plymouth",
                    "mitsubishi",
                    "alfa romeo",
                    "mazda",
                    "mazda",
                    "mazda",
                    "mazda",
                    "mazda",
                    "nissan",
                    "chevrolet",
                    "nissan",
                    "nissan",
                    "mitsubishi",
                    "nissan",
                    "nissan",
                    "porsche",
                    "toyota",
                    "mitsubishi",
                    "mitsubishi",
                    "volkswagen",
                    "dodge",
                    "chevrolet",
                    "mitsubishi",
                    "nissan",
                    "nissan",
                    "buick",
                    "nissan",
                    "mitsubishi",
                    "mitsubishi",
                    "porcshce",
                    "honda",
                    "subaru",
                    "subaru",
                    "volkswagen",
                    "volkswagen",
                    "dodge",
                    "buick",
                    "nissan",
                    "mazda",
                    "mazda",
                    "mazda",
                    "mazda",
                    "plymouth",
                    "buick",
                    "buick",
                    "toyota",
                    "alfa romeo",
                    "volkswagen",
                    "nissan",
                    "toyota",
                    "nissan",
                    "subaru",
                    "subaru",
                    "volkswagen",
                    "plymouth",
                    "chevrolet",
                    "nissan",
                    "bmw",
                    "bmw",
                    "bmw",
                    "bmw",
                    "jaguar",
                    "jaguar",
                    "jaguar",
                    "bmw",
                    "",
                    "",
                    "",
                    "",
                    "",
                    "",
                    "",
                    "",
                    "",
                    "",
                    "",
                    "",
                    "",
                    "",
                    "",
                    "",
                    "",
                    "",
                    "",
                    "",
                    "",
                    "",
                    ""
                  ],
                  "type": "sunburst",
                  "values": [
                    22470,
                    13200,
                    15905,
                    17075,
                    16900,
                    10698,
                    28176,
                    28248,
                    7788,
                    7898,
                    25552,
                    10795,
                    7099,
                    7995,
                    7775,
                    13845,
                    18344,
                    31600,
                    9495,
                    13950,
                    17580,
                    7975,
                    9295,
                    16230,
                    14892.5,
                    18735,
                    16515,
                    20522.5,
                    16677.5,
                    23875,
                    8495,
                    9895,
                    18920,
                    17859.167,
                    15201.25,
                    12440,
                    18150,
                    10345,
                    15235,
                    16830,
                    13605,
                    9982.25,
                    8916.5,
                    6785,
                    16500,
                    9095,
                    6529,
                    7295,
                    9960,
                    37028,
                    7775,
                    8778,
                    32714.25,
                    9298,
                    40960,
                    6377,
                    8274.333333333334,
                    10345,
                    9095,
                    7295,
                    6992,
                    13324,
                    7609,
                    6692,
                    9878.4,
                    6843,
                    7898,
                    12308,
                    9538,
                    9660,
                    6918,
                    8449,
                    5348,
                    8558,
                    12964,
                    16503,
                    17669,
                    7957,
                    7957,
                    8921,
                    11293.333333333334,
                    13499,
                    18950,
                    8590.75,
                    12764,
                    15250,
                    14399,
                    7609,
                    5900.5,
                    10352.333333333334,
                    13495,
                    15062.5,
                    15645,
                    10595,
                    8495,
                    6745,
                    5151,
                    7799,
                    19699,
                    6189,
                    7174,
                    7299,
                    22018,
                    9148,
                    5389,
                    11242.333333333334,
                    6229,
                    6295,
                    6989,
                    7999,
                    9549,
                    34184,
                    13499,
                    9525.666666666666,
                    8189,
                    32528,
                    8845,
                    9233,
                    11259,
                    11637.5,
                    5572,
                    45400,
                    7799,
                    8470,
                    13645,
                    6795,
                    5195,
                    6692,
                    35056,
                    12839.5,
                    16500,
                    17199,
                    13474.5,
                    7349,
                    7463,
                    10198,
                    8195,
                    8921,
                    6575,
                    5499,
                    20970,
                    28992.5,
                    30760,
                    41315,
                    35550,
                    32250,
                    36000,
                    24565,
                    13950,
                    17580,
                    7975,
                    9295,
                    16230,
                    14892.5,
                    18735,
                    16515,
                    22470,
                    20522.5,
                    13200,
                    16677.5,
                    23875,
                    8495,
                    9895,
                    18920,
                    17859.167,
                    31106.25,
                    12440,
                    17075,
                    35050,
                    10345,
                    15235,
                    16830,
                    13605,
                    9982.25,
                    8916.5,
                    6785,
                    16500,
                    9095,
                    6529,
                    7295,
                    9960,
                    37028,
                    7775,
                    8778,
                    32714.25,
                    10698,
                    9298,
                    28176,
                    28248,
                    40960,
                    6377,
                    8274.333333333334,
                    10345,
                    9095,
                    7295,
                    6992,
                    13324,
                    7609,
                    6692,
                    17666.4,
                    6843,
                    7898,
                    12308,
                    9538,
                    17558,
                    6918,
                    8449,
                    5348,
                    8558,
                    12964,
                    16503,
                    17669,
                    7957,
                    7957,
                    8921,
                    11293.333333333334,
                    13499,
                    18950,
                    8590.75,
                    12764,
                    25552,
                    15250,
                    14399,
                    7609,
                    5900.5,
                    10352.333333333334,
                    13495,
                    15062.5,
                    15645,
                    10595,
                    8495,
                    17540,
                    7099,
                    5151,
                    7799,
                    19699,
                    6189,
                    7174,
                    7299,
                    22018,
                    9148,
                    5389,
                    11242.333333333334,
                    7995,
                    6229,
                    6295,
                    6989,
                    7999,
                    9549,
                    34184,
                    13499,
                    9525.666666666666,
                    8189,
                    32528,
                    8845,
                    9233,
                    11259,
                    19412.5,
                    13845,
                    5572,
                    45400,
                    7799,
                    8470,
                    31989,
                    6795,
                    5195,
                    6692,
                    31600,
                    35056,
                    12839.5,
                    16500,
                    9495,
                    17199,
                    13474.5,
                    7349,
                    7463,
                    10198,
                    8195,
                    8921,
                    6575,
                    5499,
                    20970,
                    28992.5,
                    30760,
                    41315,
                    35550,
                    32250,
                    36000,
                    24565,
                    46495,
                    107434.167,
                    163280,
                    269176,
                    18021,
                    70879,
                    73765.33333333333,
                    25683.75,
                    103800,
                    130131.5,
                    16503,
                    57876.333333333336,
                    159185,
                    108871.25,
                    49843.5,
                    32528,
                    91760.25,
                    19190,
                    45670,
                    64478.75,
                    174431.4,
                    86705.83333333333,
                    128315
                  ]
                }
              ],
              "layout": {
                "coloraxis": {
                  "colorbar": {
                    "title": {
                      "text": "price"
                    }
                  },
                  "colorscale": [
                    [
                      0,
                      "#440154"
                    ],
                    [
                      0.1111111111111111,
                      "#482878"
                    ],
                    [
                      0.2222222222222222,
                      "#3e4989"
                    ],
                    [
                      0.3333333333333333,
                      "#31688e"
                    ],
                    [
                      0.4444444444444444,
                      "#26828e"
                    ],
                    [
                      0.5555555555555556,
                      "#1f9e89"
                    ],
                    [
                      0.6666666666666666,
                      "#35b779"
                    ],
                    [
                      0.7777777777777778,
                      "#6ece58"
                    ],
                    [
                      0.8888888888888888,
                      "#b5de2b"
                    ],
                    [
                      1,
                      "#fde725"
                    ]
                  ]
                },
                "height": 900,
                "legend": {
                  "tracegroupgap": 0
                },
                "margin": {
                  "b": 0,
                  "l": 0,
                  "r": 0,
                  "t": 50
                },
                "template": {
                  "data": {
                    "bar": [
                      {
                        "error_x": {
                          "color": "#2a3f5f"
                        },
                        "error_y": {
                          "color": "#2a3f5f"
                        },
                        "marker": {
                          "line": {
                            "color": "#E5ECF6",
                            "width": 0.5
                          },
                          "pattern": {
                            "fillmode": "overlay",
                            "size": 10,
                            "solidity": 0.2
                          }
                        },
                        "type": "bar"
                      }
                    ],
                    "barpolar": [
                      {
                        "marker": {
                          "line": {
                            "color": "#E5ECF6",
                            "width": 0.5
                          },
                          "pattern": {
                            "fillmode": "overlay",
                            "size": 10,
                            "solidity": 0.2
                          }
                        },
                        "type": "barpolar"
                      }
                    ],
                    "carpet": [
                      {
                        "aaxis": {
                          "endlinecolor": "#2a3f5f",
                          "gridcolor": "white",
                          "linecolor": "white",
                          "minorgridcolor": "white",
                          "startlinecolor": "#2a3f5f"
                        },
                        "baxis": {
                          "endlinecolor": "#2a3f5f",
                          "gridcolor": "white",
                          "linecolor": "white",
                          "minorgridcolor": "white",
                          "startlinecolor": "#2a3f5f"
                        },
                        "type": "carpet"
                      }
                    ],
                    "choropleth": [
                      {
                        "colorbar": {
                          "outlinewidth": 0,
                          "ticks": ""
                        },
                        "type": "choropleth"
                      }
                    ],
                    "contour": [
                      {
                        "colorbar": {
                          "outlinewidth": 0,
                          "ticks": ""
                        },
                        "colorscale": [
                          [
                            0,
                            "#0d0887"
                          ],
                          [
                            0.1111111111111111,
                            "#46039f"
                          ],
                          [
                            0.2222222222222222,
                            "#7201a8"
                          ],
                          [
                            0.3333333333333333,
                            "#9c179e"
                          ],
                          [
                            0.4444444444444444,
                            "#bd3786"
                          ],
                          [
                            0.5555555555555556,
                            "#d8576b"
                          ],
                          [
                            0.6666666666666666,
                            "#ed7953"
                          ],
                          [
                            0.7777777777777778,
                            "#fb9f3a"
                          ],
                          [
                            0.8888888888888888,
                            "#fdca26"
                          ],
                          [
                            1,
                            "#f0f921"
                          ]
                        ],
                        "type": "contour"
                      }
                    ],
                    "contourcarpet": [
                      {
                        "colorbar": {
                          "outlinewidth": 0,
                          "ticks": ""
                        },
                        "type": "contourcarpet"
                      }
                    ],
                    "heatmap": [
                      {
                        "colorbar": {
                          "outlinewidth": 0,
                          "ticks": ""
                        },
                        "colorscale": [
                          [
                            0,
                            "#0d0887"
                          ],
                          [
                            0.1111111111111111,
                            "#46039f"
                          ],
                          [
                            0.2222222222222222,
                            "#7201a8"
                          ],
                          [
                            0.3333333333333333,
                            "#9c179e"
                          ],
                          [
                            0.4444444444444444,
                            "#bd3786"
                          ],
                          [
                            0.5555555555555556,
                            "#d8576b"
                          ],
                          [
                            0.6666666666666666,
                            "#ed7953"
                          ],
                          [
                            0.7777777777777778,
                            "#fb9f3a"
                          ],
                          [
                            0.8888888888888888,
                            "#fdca26"
                          ],
                          [
                            1,
                            "#f0f921"
                          ]
                        ],
                        "type": "heatmap"
                      }
                    ],
                    "heatmapgl": [
                      {
                        "colorbar": {
                          "outlinewidth": 0,
                          "ticks": ""
                        },
                        "colorscale": [
                          [
                            0,
                            "#0d0887"
                          ],
                          [
                            0.1111111111111111,
                            "#46039f"
                          ],
                          [
                            0.2222222222222222,
                            "#7201a8"
                          ],
                          [
                            0.3333333333333333,
                            "#9c179e"
                          ],
                          [
                            0.4444444444444444,
                            "#bd3786"
                          ],
                          [
                            0.5555555555555556,
                            "#d8576b"
                          ],
                          [
                            0.6666666666666666,
                            "#ed7953"
                          ],
                          [
                            0.7777777777777778,
                            "#fb9f3a"
                          ],
                          [
                            0.8888888888888888,
                            "#fdca26"
                          ],
                          [
                            1,
                            "#f0f921"
                          ]
                        ],
                        "type": "heatmapgl"
                      }
                    ],
                    "histogram": [
                      {
                        "marker": {
                          "pattern": {
                            "fillmode": "overlay",
                            "size": 10,
                            "solidity": 0.2
                          }
                        },
                        "type": "histogram"
                      }
                    ],
                    "histogram2d": [
                      {
                        "colorbar": {
                          "outlinewidth": 0,
                          "ticks": ""
                        },
                        "colorscale": [
                          [
                            0,
                            "#0d0887"
                          ],
                          [
                            0.1111111111111111,
                            "#46039f"
                          ],
                          [
                            0.2222222222222222,
                            "#7201a8"
                          ],
                          [
                            0.3333333333333333,
                            "#9c179e"
                          ],
                          [
                            0.4444444444444444,
                            "#bd3786"
                          ],
                          [
                            0.5555555555555556,
                            "#d8576b"
                          ],
                          [
                            0.6666666666666666,
                            "#ed7953"
                          ],
                          [
                            0.7777777777777778,
                            "#fb9f3a"
                          ],
                          [
                            0.8888888888888888,
                            "#fdca26"
                          ],
                          [
                            1,
                            "#f0f921"
                          ]
                        ],
                        "type": "histogram2d"
                      }
                    ],
                    "histogram2dcontour": [
                      {
                        "colorbar": {
                          "outlinewidth": 0,
                          "ticks": ""
                        },
                        "colorscale": [
                          [
                            0,
                            "#0d0887"
                          ],
                          [
                            0.1111111111111111,
                            "#46039f"
                          ],
                          [
                            0.2222222222222222,
                            "#7201a8"
                          ],
                          [
                            0.3333333333333333,
                            "#9c179e"
                          ],
                          [
                            0.4444444444444444,
                            "#bd3786"
                          ],
                          [
                            0.5555555555555556,
                            "#d8576b"
                          ],
                          [
                            0.6666666666666666,
                            "#ed7953"
                          ],
                          [
                            0.7777777777777778,
                            "#fb9f3a"
                          ],
                          [
                            0.8888888888888888,
                            "#fdca26"
                          ],
                          [
                            1,
                            "#f0f921"
                          ]
                        ],
                        "type": "histogram2dcontour"
                      }
                    ],
                    "mesh3d": [
                      {
                        "colorbar": {
                          "outlinewidth": 0,
                          "ticks": ""
                        },
                        "type": "mesh3d"
                      }
                    ],
                    "parcoords": [
                      {
                        "line": {
                          "colorbar": {
                            "outlinewidth": 0,
                            "ticks": ""
                          }
                        },
                        "type": "parcoords"
                      }
                    ],
                    "pie": [
                      {
                        "automargin": true,
                        "type": "pie"
                      }
                    ],
                    "scatter": [
                      {
                        "fillpattern": {
                          "fillmode": "overlay",
                          "size": 10,
                          "solidity": 0.2
                        },
                        "type": "scatter"
                      }
                    ],
                    "scatter3d": [
                      {
                        "line": {
                          "colorbar": {
                            "outlinewidth": 0,
                            "ticks": ""
                          }
                        },
                        "marker": {
                          "colorbar": {
                            "outlinewidth": 0,
                            "ticks": ""
                          }
                        },
                        "type": "scatter3d"
                      }
                    ],
                    "scattercarpet": [
                      {
                        "marker": {
                          "colorbar": {
                            "outlinewidth": 0,
                            "ticks": ""
                          }
                        },
                        "type": "scattercarpet"
                      }
                    ],
                    "scattergeo": [
                      {
                        "marker": {
                          "colorbar": {
                            "outlinewidth": 0,
                            "ticks": ""
                          }
                        },
                        "type": "scattergeo"
                      }
                    ],
                    "scattergl": [
                      {
                        "marker": {
                          "colorbar": {
                            "outlinewidth": 0,
                            "ticks": ""
                          }
                        },
                        "type": "scattergl"
                      }
                    ],
                    "scattermapbox": [
                      {
                        "marker": {
                          "colorbar": {
                            "outlinewidth": 0,
                            "ticks": ""
                          }
                        },
                        "type": "scattermapbox"
                      }
                    ],
                    "scatterpolar": [
                      {
                        "marker": {
                          "colorbar": {
                            "outlinewidth": 0,
                            "ticks": ""
                          }
                        },
                        "type": "scatterpolar"
                      }
                    ],
                    "scatterpolargl": [
                      {
                        "marker": {
                          "colorbar": {
                            "outlinewidth": 0,
                            "ticks": ""
                          }
                        },
                        "type": "scatterpolargl"
                      }
                    ],
                    "scatterternary": [
                      {
                        "marker": {
                          "colorbar": {
                            "outlinewidth": 0,
                            "ticks": ""
                          }
                        },
                        "type": "scatterternary"
                      }
                    ],
                    "surface": [
                      {
                        "colorbar": {
                          "outlinewidth": 0,
                          "ticks": ""
                        },
                        "colorscale": [
                          [
                            0,
                            "#0d0887"
                          ],
                          [
                            0.1111111111111111,
                            "#46039f"
                          ],
                          [
                            0.2222222222222222,
                            "#7201a8"
                          ],
                          [
                            0.3333333333333333,
                            "#9c179e"
                          ],
                          [
                            0.4444444444444444,
                            "#bd3786"
                          ],
                          [
                            0.5555555555555556,
                            "#d8576b"
                          ],
                          [
                            0.6666666666666666,
                            "#ed7953"
                          ],
                          [
                            0.7777777777777778,
                            "#fb9f3a"
                          ],
                          [
                            0.8888888888888888,
                            "#fdca26"
                          ],
                          [
                            1,
                            "#f0f921"
                          ]
                        ],
                        "type": "surface"
                      }
                    ],
                    "table": [
                      {
                        "cells": {
                          "fill": {
                            "color": "#EBF0F8"
                          },
                          "line": {
                            "color": "white"
                          }
                        },
                        "header": {
                          "fill": {
                            "color": "#C8D4E3"
                          },
                          "line": {
                            "color": "white"
                          }
                        },
                        "type": "table"
                      }
                    ]
                  },
                  "layout": {
                    "annotationdefaults": {
                      "arrowcolor": "#2a3f5f",
                      "arrowhead": 0,
                      "arrowwidth": 1
                    },
                    "autotypenumbers": "strict",
                    "coloraxis": {
                      "colorbar": {
                        "outlinewidth": 0,
                        "ticks": ""
                      }
                    },
                    "colorscale": {
                      "diverging": [
                        [
                          0,
                          "#8e0152"
                        ],
                        [
                          0.1,
                          "#c51b7d"
                        ],
                        [
                          0.2,
                          "#de77ae"
                        ],
                        [
                          0.3,
                          "#f1b6da"
                        ],
                        [
                          0.4,
                          "#fde0ef"
                        ],
                        [
                          0.5,
                          "#f7f7f7"
                        ],
                        [
                          0.6,
                          "#e6f5d0"
                        ],
                        [
                          0.7,
                          "#b8e186"
                        ],
                        [
                          0.8,
                          "#7fbc41"
                        ],
                        [
                          0.9,
                          "#4d9221"
                        ],
                        [
                          1,
                          "#276419"
                        ]
                      ],
                      "sequential": [
                        [
                          0,
                          "#0d0887"
                        ],
                        [
                          0.1111111111111111,
                          "#46039f"
                        ],
                        [
                          0.2222222222222222,
                          "#7201a8"
                        ],
                        [
                          0.3333333333333333,
                          "#9c179e"
                        ],
                        [
                          0.4444444444444444,
                          "#bd3786"
                        ],
                        [
                          0.5555555555555556,
                          "#d8576b"
                        ],
                        [
                          0.6666666666666666,
                          "#ed7953"
                        ],
                        [
                          0.7777777777777778,
                          "#fb9f3a"
                        ],
                        [
                          0.8888888888888888,
                          "#fdca26"
                        ],
                        [
                          1,
                          "#f0f921"
                        ]
                      ],
                      "sequentialminus": [
                        [
                          0,
                          "#0d0887"
                        ],
                        [
                          0.1111111111111111,
                          "#46039f"
                        ],
                        [
                          0.2222222222222222,
                          "#7201a8"
                        ],
                        [
                          0.3333333333333333,
                          "#9c179e"
                        ],
                        [
                          0.4444444444444444,
                          "#bd3786"
                        ],
                        [
                          0.5555555555555556,
                          "#d8576b"
                        ],
                        [
                          0.6666666666666666,
                          "#ed7953"
                        ],
                        [
                          0.7777777777777778,
                          "#fb9f3a"
                        ],
                        [
                          0.8888888888888888,
                          "#fdca26"
                        ],
                        [
                          1,
                          "#f0f921"
                        ]
                      ]
                    },
                    "colorway": [
                      "#636efa",
                      "#EF553B",
                      "#00cc96",
                      "#ab63fa",
                      "#FFA15A",
                      "#19d3f3",
                      "#FF6692",
                      "#B6E880",
                      "#FF97FF",
                      "#FECB52"
                    ],
                    "font": {
                      "color": "#2a3f5f"
                    },
                    "geo": {
                      "bgcolor": "white",
                      "lakecolor": "white",
                      "landcolor": "#E5ECF6",
                      "showlakes": true,
                      "showland": true,
                      "subunitcolor": "white"
                    },
                    "hoverlabel": {
                      "align": "left"
                    },
                    "hovermode": "closest",
                    "mapbox": {
                      "style": "light"
                    },
                    "paper_bgcolor": "white",
                    "plot_bgcolor": "#E5ECF6",
                    "polar": {
                      "angularaxis": {
                        "gridcolor": "white",
                        "linecolor": "white",
                        "ticks": ""
                      },
                      "bgcolor": "#E5ECF6",
                      "radialaxis": {
                        "gridcolor": "white",
                        "linecolor": "white",
                        "ticks": ""
                      }
                    },
                    "scene": {
                      "xaxis": {
                        "backgroundcolor": "#E5ECF6",
                        "gridcolor": "white",
                        "gridwidth": 2,
                        "linecolor": "white",
                        "showbackground": true,
                        "ticks": "",
                        "zerolinecolor": "white"
                      },
                      "yaxis": {
                        "backgroundcolor": "#E5ECF6",
                        "gridcolor": "white",
                        "gridwidth": 2,
                        "linecolor": "white",
                        "showbackground": true,
                        "ticks": "",
                        "zerolinecolor": "white"
                      },
                      "zaxis": {
                        "backgroundcolor": "#E5ECF6",
                        "gridcolor": "white",
                        "gridwidth": 2,
                        "linecolor": "white",
                        "showbackground": true,
                        "ticks": "",
                        "zerolinecolor": "white"
                      }
                    },
                    "shapedefaults": {
                      "line": {
                        "color": "#2a3f5f"
                      }
                    },
                    "ternary": {
                      "aaxis": {
                        "gridcolor": "white",
                        "linecolor": "white",
                        "ticks": ""
                      },
                      "baxis": {
                        "gridcolor": "white",
                        "linecolor": "white",
                        "ticks": ""
                      },
                      "bgcolor": "#E5ECF6",
                      "caxis": {
                        "gridcolor": "white",
                        "linecolor": "white",
                        "ticks": ""
                      }
                    },
                    "title": {
                      "x": 0.05
                    },
                    "xaxis": {
                      "automargin": true,
                      "gridcolor": "white",
                      "linecolor": "white",
                      "ticks": "",
                      "title": {
                        "standoff": 15
                      },
                      "zerolinecolor": "white",
                      "zerolinewidth": 2
                    },
                    "yaxis": {
                      "automargin": true,
                      "gridcolor": "white",
                      "linecolor": "white",
                      "ticks": "",
                      "title": {
                        "standoff": 15
                      },
                      "zerolinecolor": "white",
                      "zerolinewidth": 2
                    }
                  }
                },
                "title": {
                  "text": "Average Car Price Hierarchy: Brand → Model → Fuel Type"
                },
                "width": 900
              }
            }
          },
          "metadata": {},
          "output_type": "display_data"
        }
      ],
      "source": [
        "# Sunburst Plot: Price Hierarchy by Brand, Model, and Fuel Type\n",
        "# Shows how average prices vary across brands and models, highlighting premium segments.\n",
        "\n",
        "avg_price_df = df.groupby(['brand', 'model', 'fuel_type'])['price'].mean().reset_index()\n",
        "\n",
        "fig = px.sunburst(\n",
        "    avg_price_df,\n",
        "    path=['brand', 'model', 'fuel_type'],  # hierarchy levels\n",
        "    values='price',                        # size by average price\n",
        "    color='price',                        # color by price (continuous)\n",
        "    color_continuous_scale='Viridis',\n",
        "    title='Average Car Price Hierarchy: Brand → Model → Fuel Type'\n",
        ")\n",
        "\n",
        "fig.update_layout(\n",
        "    width=900,\n",
        "    height=900,\n",
        "    margin=dict(t=50, l=0, r=0, b=0)\n",
        ")\n",
        "\n",
        "fig.update_traces(maxdepth=2)  # Zoom in to show only brand and model initially\n",
        "\n",
        "fig.show()\n"
      ]
    },
    {
      "cell_type": "markdown",
      "metadata": {},
      "source": [
        "The sunburst plot reveals clear price segmentation in the market: certain brands and models, especially in premium fuel-type categories, command noticeably higher average prices, while others cluster in more affordable segments. This highlights how brand reputation, model positioning, and fuel type together shape vehicle pricing tiers."
      ]
    },
    {
      "cell_type": "markdown",
      "metadata": {},
      "source": [
        "## Final conclusion"
      ]
    },
    {
      "cell_type": "markdown",
      "metadata": {},
      "source": [
        "The analysis confirms that car prices are right-skewed, with most vehicles priced in the mid-range and fewer high-end outliers. Brand significantly affects pricing, with premium brands commanding higher averages.\n",
        "\n",
        "Key features like engine size, horsepower, and curb weight are strongly linked to higher prices, while fuel-efficient cars tend to cost less. Multivariate and hierarchical visualizations further highlight how these attributes interact across brand, model, and fuel type.\n",
        "\n",
        "These insights validate the hypotheses and offer a strong basis for pricing decisions and future predictive modeling."
      ]
    },
    {
      "cell_type": "markdown",
      "metadata": {},
      "source": [
        "NOTE"
      ]
    },
    {
      "cell_type": "markdown",
      "metadata": {},
      "source": [
        "* All required python packages (pandas, numpy,seaborn,matplotlib)  must be installed before running this notebook\n",
        "* All notebook's cells should be run top-down (you can't create a dynamic wherein a given point you need to go back to a previous cell to execute some task, like go  back to a previous cell and refresh a variable content)\n",
        "* This analysis focus is to visualize data to support or challenge project hypotheses.\n",
        "* Please refer to README file for more information"
      ]
    },
    {
      "cell_type": "markdown",
      "metadata": {},
      "source": [
        "---"
      ]
    },
    {
      "cell_type": "markdown",
      "metadata": {
        "id": "ltNetd085qHf"
      },
      "source": [
        "# Push files to Repo"
      ]
    },
    {
      "cell_type": "markdown",
      "metadata": {},
      "source": [
        "* In cases where you don't need to push files to Repo, you may replace this section with \"Conclusions and Next Steps\" and state your conclusions and next steps."
      ]
    },
    {
      "cell_type": "code",
      "execution_count": 11,
      "metadata": {
        "id": "aKlnIozA4eQO",
        "outputId": "fd09bc1f-adb1-4511-f6ce-492a6af570c0"
      },
      "outputs": [
        {
          "ename": "IndentationError",
          "evalue": "expected an indented block after 'try' statement on line 2 (553063055.py, line 5)",
          "output_type": "error",
          "traceback": [
            "  \u001b[36mCell\u001b[39m\u001b[36m \u001b[39m\u001b[32mIn[11]\u001b[39m\u001b[32m, line 5\u001b[39m\n\u001b[31m    \u001b[39m\u001b[31mexcept Exception as e:\u001b[39m\n    ^\n\u001b[31mIndentationError\u001b[39m\u001b[31m:\u001b[39m expected an indented block after 'try' statement on line 2\n"
          ]
        }
      ],
      "source": [
        "import os\n",
        "try:\n",
        "  # create your folder here\n",
        "  # os.makedirs(name='')\n",
        "except Exception as e:\n",
        "  print(e)\n"
      ]
    }
  ],
  "metadata": {
    "accelerator": "GPU",
    "colab": {
      "name": "Data Practitioner Jupyter Notebook.ipynb",
      "provenance": [],
      "toc_visible": true
    },
    "kernelspec": {
      "display_name": ".venv",
      "language": "python",
      "name": "python3"
    },
    "language_info": {
      "codemirror_mode": {
        "name": "ipython",
        "version": 3
      },
      "file_extension": ".py",
      "mimetype": "text/x-python",
      "name": "python",
      "nbconvert_exporter": "python",
      "pygments_lexer": "ipython3",
      "version": "3.12.8"
    },
    "orig_nbformat": 2
  },
  "nbformat": 4,
  "nbformat_minor": 2
}
